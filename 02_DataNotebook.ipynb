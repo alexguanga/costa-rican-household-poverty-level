{
 "cells": [
  {
   "cell_type": "markdown",
   "metadata": {},
   "source": [
    "## Introduction: Definitions\n",
    " \n",
    "- Define Variable Categories\n",
    "    - There are several different categories of variables:\n",
    "\n",
    "    - Individual Variables: these are characteristics of each individual rather than the household\n",
    "        - Boolean: Yes or No (0 or 1)\n",
    "        - Ordered Discrete: Integers with an ordering\n",
    "\n",
    "    - Household variables\n",
    "        - Boolean: Yes or No\n",
    "        - Ordered Discrete: Integers with an ordering\n",
    "\n",
    "    - Continuous numeric\n",
    "        - Squared Variables: derived from squaring variables in the data\n",
    "        - Id variables: identifies the data and should not be used as features\n",
    "\n",
    "    - Below we manually define the variables in each category. This is a little tedious, but also necessary."
   ]
  },
  {
   "cell_type": "code",
   "execution_count": 5,
   "metadata": {},
   "outputs": [],
   "source": [
    "# Import the necessary packages\n",
    "\n",
    "import numpy as np\n",
    "import pandas as pd\n",
    "import matplotlib.pyplot as plt\n",
    "import seaborn as sns\n",
    "import pickles\n",
    "plt.style.use('fivethirtyeight')\n",
    "%matplotlib inline"
   ]
  },
  {
   "cell_type": "code",
   "execution_count": 6,
   "metadata": {},
   "outputs": [],
   "source": [
    "all_data = pd.read_pickle(\"./pickles/all_data.pkl\")"
   ]
  },
  {
   "cell_type": "code",
   "execution_count": 7,
   "metadata": {},
   "outputs": [],
   "source": [
    "# Correctly labeling the data based on their data type\n",
    "\n",
    "# Ids\n",
    "id_ = ['Id', 'idhogar', 'Target']\n",
    "\n",
    "# Boolean features that pertain to an individual\n",
    "ind_bool = ['v18q', 'dis', 'male', 'female', 'estadocivil1', 'estadocivil2', 'estadocivil3', \n",
    "            'estadocivil4', 'estadocivil5', 'estadocivil6', 'estadocivil7', 'parentesco1', \n",
    "            'parentesco2',  'parentesco3', 'parentesco4', 'parentesco5', 'parentesco6', \n",
    "            'parentesco7', 'parentesco8',  'parentesco9', 'parentesco10', 'parentesco11', \n",
    "            'parentesco12', 'instlevel1', 'instlevel2', 'instlevel3', 'instlevel4', 'instlevel5', \n",
    "            'instlevel6', 'instlevel7', 'instlevel8', 'instlevel9', 'mobilephone', 'rez_esc-missing']\n",
    "\n",
    "# Ordered (order matters) features that pertain to an individual\n",
    "ind_ordered = ['rez_esc', 'escolari', 'age']\n",
    "\n",
    "# Boolean features that pertain to the household\n",
    "hh_bool = ['hacdor', 'hacapo', 'v14a', 'refrig', 'paredblolad', 'paredzocalo', 'paredpreb',\n",
    "           'pisocemento', 'pareddes', 'paredmad','paredzinc', 'paredfibras', 'paredother', \n",
    "           'pisomoscer', 'pisoother', 'pisonatur', 'pisonotiene', 'pisomadera','techozinc', \n",
    "           'techoentrepiso', 'techocane', 'techootro', 'cielorazo', 'abastaguadentro', \n",
    "           'abastaguafuera', 'abastaguano', 'public', 'planpri', 'noelec', 'coopele', \n",
    "           'sanitario1', 'sanitario2', 'sanitario3', 'sanitario5',   'sanitario6', 'energcocinar1', \n",
    "           'energcocinar2', 'energcocinar3', 'energcocinar4', 'elimbasu1', 'elimbasu2', 'elimbasu3', \n",
    "           'elimbasu4', 'elimbasu5', 'elimbasu6', 'epared1', 'epared2', 'epared3', 'etecho1', \n",
    "           'etecho2', 'etecho3', 'eviv1', 'eviv2', 'eviv3', 'tipovivi1', 'tipovivi2', 'tipovivi3', \n",
    "           'tipovivi4', 'tipovivi5', 'computer', 'television', 'lugar1', 'lugar2', 'lugar3',\n",
    "           'lugar4', 'lugar5', 'lugar6', 'area1', 'area2', 'v2a1-missing']\n",
    "\n",
    "# Ordered (order matters) features that pertain to the household\n",
    "hh_ordered = ['rooms', 'r4h1', 'r4h2', 'r4h3', 'r4m1','r4m2','r4m3', 'r4t1',  'r4t2', \n",
    "              'r4t3', 'v18q1', 'tamhog','tamviv','hhsize','hogar_nin',\n",
    "              'hogar_adul','hogar_mayor','hogar_total',  'bedrooms', 'qmobilephone']\n",
    "\n",
    "# Continous features that pertain to the household\n",
    "hh_cont = ['v2a1', 'dependency', 'edjefe', 'edjefa', 'meaneduc', 'overcrowding']\n",
    "\n",
    "# Square features in our dataset\n",
    "sqr_ = ['SQBescolari', 'SQBage', 'SQBhogar_total', 'SQBedjefe', 'SQBhogar_nin', \n",
    "        'SQBovercrowding', 'SQBdependency', 'SQBmeaned', 'agesq']\n"
   ]
  },
  {
   "cell_type": "code",
   "execution_count": 8,
   "metadata": {},
   "outputs": [
    {
     "name": "stdout",
     "output_type": "stream",
     "text": [
      "There are no repeated values True\n",
      "We covered every variable:  True\n"
     ]
    }
   ],
   "source": [
    "# Verifying that there aren't repated features\n",
    "from collections import Counter\n",
    "\n",
    "columns_x = id_ + ind_bool + ind_ordered + hh_bool + hh_cont + hh_ordered + sqr_\n",
    "print('There are no repeated values', np.all(np.array(list(Counter(columns_x).values())) == 1))\n",
    "print('We covered every variable: ', len(columns_x) == all_data.shape[1])"
   ]
  },
  {
   "cell_type": "markdown",
   "metadata": {},
   "source": [
    "## Data Analysis: Columns Type"
   ]
  },
  {
   "cell_type": "markdown",
   "metadata": {},
   "source": [
    "### Squared Columns\n",
    "\n",
    "There are several features that are the square of another feature: Area and AreaSquared.\n",
    "\n",
    "For the most part, you should delete a feature that's expresses another feature. "
   ]
  },
  {
   "cell_type": "code",
   "execution_count": 9,
   "metadata": {},
   "outputs": [
    {
     "data": {
      "text/plain": [
       "<seaborn.axisgrid.FacetGrid at 0x1a164c0400>"
      ]
     },
     "execution_count": 9,
     "metadata": {},
     "output_type": "execute_result"
    },
    {
     "data": {
      "image/png": "[encoded data removed]",
      "text/plain": [
       "<matplotlib.figure.Figure at 0x10d4a4518>"
      ]
     },
     "metadata": {},
     "output_type": "display_data"
    }
   ],
   "source": [
    "# As should be noted, there's a high correlation btw a value and its square value...\n",
    "sns.lmplot('age', 'SQBage', data=all_data, fit_reg=False)"
   ]
  },
  {
   "cell_type": "code",
   "execution_count": 10,
   "metadata": {},
   "outputs": [
    {
     "data": {
      "text/plain": [
       "(33413, 136)"
      ]
     },
     "execution_count": 10,
     "metadata": {},
     "output_type": "execute_result"
    }
   ],
   "source": [
    "# Removing square features as it does not add anything to our dataset\n",
    "all_data = all_data.drop(sqr_, axis=1)\n",
    "all_data.shape"
   ]
  },
  {
   "cell_type": "markdown",
   "metadata": {},
   "source": [
    "### Id Columns\n",
    "- Id columns should be kept since we need to maintain the same structure"
   ]
  },
  {
   "cell_type": "markdown",
   "metadata": {},
   "source": [
    "### Household Level Columns"
   ]
  },
  {
   "cell_type": "code",
   "execution_count": 11,
   "metadata": {},
   "outputs": [
    {
     "data": {
      "text/plain": [
       "(10307, 99)"
      ]
     },
     "execution_count": 11,
     "metadata": {},
     "output_type": "execute_result"
    }
   ],
   "source": [
    "# Storing the household features\n",
    "hh_vars = hh_bool + hh_cont + hh_ordered + id_\n",
    "heads = all_data.loc[all_data['parentesco1'] == 1, hh_vars]\n",
    "heads.shape"
   ]
  },
  {
   "cell_type": "markdown",
   "metadata": {},
   "source": [
    "#### Notes:\n",
    "- We do not need to make much adjustments. However, we could look at values that are redudant. Meaning, there could be features that are correlated with one another. If that's the case, we should think about removing correlated features as it could decrease computational efficiency."
   ]
  },
  {
   "cell_type": "code",
   "execution_count": 12,
   "metadata": {},
   "outputs": [],
   "source": [
    "def get_corrs_matrix(data, corr_threshold=0.95):\n",
    "    \"\"\"Returns a list: A correlation matrix where columns are drop based on the correlation threshold\"\"\"\n",
    "    corr_matrix = data.corr()\n",
    "    \n",
    "    # Select upper triangle of correlation matrix\n",
    "    upper = corr_matrix.where(np.triu(np.ones(corr_matrix.shape), k=1).astype(np.bool))\n",
    "    \n",
    "    # Find features with correlation greater than 0.95\n",
    "    to_drop = [c for c in upper.columns if any(abs(upper[c]) > corr_threshold)]\n",
    "    \n",
    "    return [corr_matrix, to_drop]"
   ]
  },
  {
   "cell_type": "code",
   "execution_count": 13,
   "metadata": {},
   "outputs": [
    {
     "data": {
      "text/plain": [
       "['coopele', 'area2', 'tamhog', 'hhsize', 'hogar_total']"
      ]
     },
     "execution_count": 13,
     "metadata": {},
     "output_type": "execute_result"
    }
   ],
   "source": [
    "# Features that have a high correlation with other features in our dataset\n",
    "corr_matrix, corr_values = get_corrs_matrix(heads)\n",
    "corr_values"
   ]
  },
  {
   "cell_type": "code",
   "execution_count": 15,
   "metadata": {},
   "outputs": [
    {
     "name": "stdout",
     "output_type": "stream",
     "text": [
      "           public   coopele\n",
      "public   1.000000 -0.967759\n",
      "coopele -0.967759  1.000000\n",
      "       area1  area2\n",
      "area1    1.0   -1.0\n",
      "area2   -1.0    1.0\n",
      "                 r4t3    tamhog    tamviv    hhsize  hogar_total\n",
      "r4t3         1.000000  0.998287  0.910457  0.998287     0.998287\n",
      "tamhog       0.998287  1.000000  0.909155  1.000000     1.000000\n",
      "tamviv       0.910457  0.909155  1.000000  0.909155     0.909155\n",
      "hhsize       0.998287  1.000000  0.909155  1.000000     1.000000\n",
      "hogar_total  0.998287  1.000000  0.909155  1.000000     1.000000\n",
      "                 r4t3    tamhog    tamviv    hhsize  hogar_total\n",
      "r4t3         1.000000  0.998287  0.910457  0.998287     0.998287\n",
      "tamhog       0.998287  1.000000  0.909155  1.000000     1.000000\n",
      "tamviv       0.910457  0.909155  1.000000  0.909155     0.909155\n",
      "hhsize       0.998287  1.000000  0.909155  1.000000     1.000000\n",
      "hogar_total  0.998287  1.000000  0.909155  1.000000     1.000000\n",
      "                 r4t3    tamhog    tamviv    hhsize  hogar_total\n",
      "r4t3         1.000000  0.998287  0.910457  0.998287     0.998287\n",
      "tamhog       0.998287  1.000000  0.909155  1.000000     1.000000\n",
      "tamviv       0.910457  0.909155  1.000000  0.909155     0.909155\n",
      "hhsize       0.998287  1.000000  0.909155  1.000000     1.000000\n",
      "hogar_total  0.998287  1.000000  0.909155  1.000000     1.000000\n"
     ]
    }
   ],
   "source": [
    "# Dataframes of high correlated features with features in our dataset (must have a .9 correlation)\n",
    "for feat in corr_values:\n",
    "    corr_df = corr_matrix.loc[corr_matrix[feat].abs() > 0.9, corr_matrix[feat].abs() > 0.9]\n",
    "    print(corr_df)"
   ]
  },
  {
   "cell_type": "markdown",
   "metadata": {},
   "source": [
    "#### Notes:\n",
    "- Perfect correlated values are \n",
    "    - hhsize & tmhog\n",
    "    - hogar_total & hhsize\n",
    "    - area1 & area2\n",
    "- Highly correlated values are\n",
    "    - r4t3 & hhsize\n",
    "    - r4t3 & hogar_total\n",
    "    \n",
    "- **Feature Key**:\n",
    "    - r4t3: Total persons in the household\n",
    "    - tamhog: size of the household\n",
    "    - tamviv: number of persons living in the household\n",
    "    - hhsize: household size\n",
    "    - hogar_total: # of total individuals in the household\n",
    "\n",
    "Notice that tamhog, hhsize, and hogar_total are the same variables (could drop two of these)\n",
    "\n",
    "tamviv does not represent the same as the other values because it indicates how may people are actually in the household. Meaning, we could have more members in the household than the household"
   ]
  },
  {
   "cell_type": "code",
   "execution_count": 16,
   "metadata": {},
   "outputs": [],
   "source": [
    "# Removing 'tamhog', 'hogar_total', 'r4t3'\n",
    "heads.drop(['tamhog', 'hogar_total', 'r4t3'], inplace=True, axis=1)"
   ]
  },
  {
   "cell_type": "code",
   "execution_count": 17,
   "metadata": {},
   "outputs": [
    {
     "data": {
      "image/png": "[encoded data removed]",
      "text/plain": [
       "<matplotlib.figure.Figure at 0x1a163787b8>"
      ]
     },
     "metadata": {},
     "output_type": "display_data"
    }
   ],
   "source": [
    "# Visualize hhsize and tamviv\n",
    "\n",
    "sns.lmplot('tamviv', 'hhsize', all_data, fit_reg=False, size=4);\n",
    "plt.title('Household size vs number of persons living in the household', fontdict={'fontsize': 12});"
   ]
  },
  {
   "cell_type": "markdown",
   "metadata": {},
   "source": [
    "#### Notes:\n",
    "- `hhsize` and `tamviv` are not the same column. While they do follow a similar trend, there could be more people living in the household that the total members of the family\n",
    "- Perhaps the difference among the two features could provide further insight on poverty"
   ]
  },
  {
   "cell_type": "code",
   "execution_count": 18,
   "metadata": {},
   "outputs": [
    {
     "data": {
      "text/plain": [
       "0     9901\n",
       "1       98\n",
       "2       90\n",
       "3       84\n",
       "4       61\n",
       "5       28\n",
       "6       14\n",
       "7       11\n",
       "8       11\n",
       "9        8\n",
       "13       1\n",
       "Name: hhsize-diff, dtype: int64"
      ]
     },
     "execution_count": 18,
     "metadata": {},
     "output_type": "execute_result"
    }
   ],
   "source": [
    "# Calculating the difference of tamviv and hhsize\n",
    "heads['hhsize-diff'] = heads['tamviv'] - heads['hhsize']\n",
    "heads['hhsize-diff'].value_counts()"
   ]
  },
  {
   "cell_type": "code",
   "execution_count": 19,
   "metadata": {},
   "outputs": [],
   "source": [
    "# Creating a new electricity features with individual the value from individual features\n",
    "elec = []\n",
    "\n",
    "# Assign values for electricity (ordinal values)\n",
    "for i, row in heads.iterrows():\n",
    "    if row['noelec'] == 1:\n",
    "        elec.append(0)\n",
    "    elif row['coopele'] == 1:\n",
    "        elec.append(1)\n",
    "    elif row['public'] == 1:\n",
    "        elec.append(2)\n",
    "    elif row['planpri'] == 1:\n",
    "        elec.append(3)\n",
    "    else:\n",
    "        elec.append(np.nan)\n",
    "        \n",
    "# Record the new variable and missing flag\n",
    "heads['elec'] = elec\n",
    "heads['elec-missing'] = heads['elec'].isnull()\n",
    "\n",
    "# Remove the electricity columns\n",
    "heads.drop(['noelec', 'coopele', 'public', 'planpri'], axis=1, inplace=True)"
   ]
  },
  {
   "cell_type": "code",
   "execution_count": 15,
   "metadata": {},
   "outputs": [
    {
     "data": {
      "text/plain": [
       "<matplotlib.axes._subplots.AxesSubplot at 0x10d61e978>"
      ]
     },
     "execution_count": 15,
     "metadata": {},
     "output_type": "execute_result"
    },
    {
     "data": {
      "image/png": "[encoded data removed]",
      "text/plain": [
       "<Figure size 432x288 with 1 Axes>"
      ]
     },
     "metadata": {},
     "output_type": "display_data"
    }
   ],
   "source": [
    "# Removing area2 (rural_zone boolean feature) \n",
    "heads.drop(['area2'], axis=1, inplace=True)\n",
    "\n",
    "# Visualize the area across poverty levels\n",
    "heads.groupby('area1')['Target'].value_counts(normalize=True).sort_index().plot(kind=\"bar\")"
   ]
  },
  {
   "cell_type": "markdown",
   "metadata": {},
   "source": [
    "#### Notes:\n",
    "- We can remove `area2` because `area` indiccates if the house is located in a rural zone. These two options are mutually exclusive.\n",
    "- It seems like households in an urban area (value of 1) are more likely to have lower poverty levels than households in a rural area (value of 0)."
   ]
  },
  {
   "cell_type": "markdown",
   "metadata": {},
   "source": [
    "## Data Enginnering: Feature Creation\n",
    "\n",
    "This is a critical process when using machine learning. Also, this is when domain expertise is a huge advantage because a domain expert can quickly access the combination, aggregation, or replacement of features."
   ]
  },
  {
   "cell_type": "markdown",
   "metadata": {},
   "source": [
    "### Ordinal Variables\n",
    "\n",
    "Ordinal variables are categorical variables whose possible values are orderered. For example, if a feature represents level of happiness on a scale from 0 to 10, this feature will be considered a **ordinal variable**. \n",
    "\n",
    "However, a categorical variable that's not an ordinal variable could be what pets are in a household. The possible values could be dog, cat, rat, et cetera. You cannot rate a score to pets that has a general annoation."
   ]
  },
  {
   "cell_type": "code",
   "execution_count": 21,
   "metadata": {},
   "outputs": [],
   "source": [
    "def get_similar_cols(data, groupby_sytnax):\n",
    "    \"\"\"Returns columns that follow a similar groupby_sytnax\"\"\"\n",
    "    return data.filter(like=groupby_sytnax, axis=1).columns.tolist()"
   ]
  },
  {
   "cell_type": "code",
   "execution_count": 25,
   "metadata": {},
   "outputs": [],
   "source": [
    "# Wall Ordinal Variables\n",
    "walls_columns = get_similar_cols(all_data, groupby_sytnax='epared')\n",
    "\n",
    "# Using the position of the feature to calculate its value (order matters)\n",
    "heads['walls'] = np.argmax(np.array(heads[walls_columns]), axis=1)\n",
    "\n",
    "# Removing features that are related to the wall\n",
    "heads.drop(walls_columns, axis=1, inplace=True)"
   ]
  },
  {
   "cell_type": "code",
   "execution_count": 26,
   "metadata": {},
   "outputs": [],
   "source": [
    "# Roof Ordinal Variables\n",
    "roof_columns = get_similar_cols(all_data, groupby_sytnax='etecho')\n",
    "\n",
    "# Using the position of the feature to calculate its value (order matters)\n",
    "heads['roof'] = np.argmax(np.array(heads[roof_columns]), axis=1)\n",
    "\n",
    "# Removing features that are related to the wall\n",
    "heads.drop(roof_columns, axis=1, inplace=True)"
   ]
  },
  {
   "cell_type": "code",
   "execution_count": 27,
   "metadata": {},
   "outputs": [],
   "source": [
    "# Floor Ordinal Variables\n",
    "floor_columns = get_similar_cols(all_data, groupby_sytnax='eviv')\n",
    "\n",
    "# Using the position of the feature to calculate its value (order matters)\n",
    "heads['floor'] = np.argmax(np.array(heads[floor_columns]), axis=1)\n",
    "\n",
    "# Removing features that are related to the wall\n",
    "heads.drop(floor_columns, axis=1, inplace=True)"
   ]
  },
  {
   "cell_type": "code",
   "execution_count": 28,
   "metadata": {},
   "outputs": [
    {
     "data": {
      "text/plain": [
       "<matplotlib.axes._subplots.AxesSubplot at 0x1a163465c0>"
      ]
     },
     "execution_count": 28,
     "metadata": {},
     "output_type": "execute_result"
    },
    {
     "data": {
      "image/png": "[encoded data removed]",
      "text/plain": [
       "<matplotlib.figure.Figure at 0x1a16346a90>"
      ]
     },
     "metadata": {},
     "output_type": "display_data"
    }
   ],
   "source": [
    "# Create and visualize new feature that contains walls, roof, and floor\n",
    "\n",
    "plt.figure(figsize = (10, 5))\n",
    "heads['walls+roof+floor'] = heads['walls'] + heads['roof'] + heads['floor']\n",
    "heads.groupby('Target')['walls+roof+floor'].value_counts().sort_index().plot(kind=\"bar\")"
   ]
  },
  {
   "cell_type": "markdown",
   "metadata": {},
   "source": [
    "#### Notes:\n",
    "- This new feature (`walls+roof+floor`) may be useful because it seems like a Target of 4 (the lowes poverty level) tends to have higher values of the 'house quality' variable. "
   ]
  },
  {
   "cell_type": "code",
   "execution_count": 21,
   "metadata": {},
   "outputs": [
    {
     "data": {
      "text/html": [
       "<div>\n",
       "<style scoped>\n",
       "    .dataframe tbody tr th:only-of-type {\n",
       "        vertical-align: middle;\n",
       "    }\n",
       "\n",
       "    .dataframe tbody tr th {\n",
       "        vertical-align: top;\n",
       "    }\n",
       "\n",
       "    .dataframe thead th {\n",
       "        text-align: right;\n",
       "    }\n",
       "</style>\n",
       "<table border=\"1\" class=\"dataframe\">\n",
       "  <thead>\n",
       "    <tr style=\"text-align: right;\">\n",
       "      <th></th>\n",
       "      <th>walls+roof+floor</th>\n",
       "      <th>Target</th>\n",
       "      <th>Normalized Count</th>\n",
       "    </tr>\n",
       "  </thead>\n",
       "  <tbody>\n",
       "    <tr>\n",
       "      <th>0</th>\n",
       "      <td>0</td>\n",
       "      <td>4</td>\n",
       "      <td>0.376404</td>\n",
       "    </tr>\n",
       "    <tr>\n",
       "      <th>1</th>\n",
       "      <td>0</td>\n",
       "      <td>2</td>\n",
       "      <td>0.320225</td>\n",
       "    </tr>\n",
       "    <tr>\n",
       "      <th>2</th>\n",
       "      <td>0</td>\n",
       "      <td>1</td>\n",
       "      <td>0.162921</td>\n",
       "    </tr>\n",
       "    <tr>\n",
       "      <th>3</th>\n",
       "      <td>0</td>\n",
       "      <td>3</td>\n",
       "      <td>0.140449</td>\n",
       "    </tr>\n",
       "    <tr>\n",
       "      <th>4</th>\n",
       "      <td>1</td>\n",
       "      <td>4</td>\n",
       "      <td>0.323529</td>\n",
       "    </tr>\n",
       "  </tbody>\n",
       "</table>\n",
       "</div>"
      ],
      "text/plain": [
       "   walls+roof+floor  Target  Normalized Count\n",
       "0                 0       4          0.376404\n",
       "1                 0       2          0.320225\n",
       "2                 0       1          0.162921\n",
       "3                 0       3          0.140449\n",
       "4                 1       4          0.323529"
      ]
     },
     "execution_count": 21,
     "metadata": {},
     "output_type": "execute_result"
    }
   ],
   "source": [
    "# Percentage of the each target for each ordinal wall+roof+floor value\n",
    "\n",
    "counts = pd.DataFrame(heads.groupby(['walls+roof+floor'])['Target'].value_counts(\n",
    "    normalize=True)).rename(columns = {'Target': 'Normalized Count'}).reset_index()\n",
    "counts.head(5)"
   ]
  },
  {
   "cell_type": "code",
   "execution_count": 29,
   "metadata": {},
   "outputs": [],
   "source": [
    "# Creating feature that contains features: No toilet, no electricity, no floor, no water service, no ceiling\n",
    "heads['warning'] = 1 * (heads['sanitario1'] + (heads['elec'] == 0) + heads['pisonotiene'] + \n",
    "                        heads['abastaguano'] + (heads['cielorazo'] == 0))"
   ]
  },
  {
   "cell_type": "code",
   "execution_count": 30,
   "metadata": {},
   "outputs": [
    {
     "data": {
      "text/plain": [
       "<matplotlib.axes._subplots.AxesSubplot at 0x1a20383668>"
      ]
     },
     "execution_count": 30,
     "metadata": {},
     "output_type": "execute_result"
    },
    {
     "data": {
      "image/png": "[encoded data removed]",
      "text/plain": [
       "<matplotlib.figure.Figure at 0x1a18bedb70>"
      ]
     },
     "metadata": {},
     "output_type": "display_data"
    }
   ],
   "source": [
    "# Plotting the warning variable\n",
    "plt.figure(figsize = (12, 4))\n",
    "heads.groupby('Target')['warning'].value_counts().sort_index().plot(kind=\"bar\")"
   ]
  },
  {
   "cell_type": "code",
   "execution_count": 31,
   "metadata": {},
   "outputs": [
    {
     "data": {
      "text/plain": [
       "<matplotlib.axes._subplots.AxesSubplot at 0x1a18bed240>"
      ]
     },
     "execution_count": 31,
     "metadata": {},
     "output_type": "execute_result"
    },
    {
     "data": {
      "image/png": "[encoded data removed]",
      "text/plain": [
       "<matplotlib.figure.Figure at 0x1a16346550>"
      ]
     },
     "metadata": {},
     "output_type": "display_data"
    }
   ],
   "source": [
    "# Creating feature that contains features: refrigerator, computer, tablet, and television\n",
    "heads['bonus'] = 1 * (heads['refrig'] + heads['computer'] + \n",
    "                      (heads['v18q1'] > 0) + heads['television'])\n",
    "\n",
    "# Plotting the bonus variable\n",
    "plt.figure(figsize=(12,4))\n",
    "heads.groupby('Target')['bonus'].apply(lambda x: x.value_counts()/len(x)).sort_index().plot(kind=\"bar\")"
   ]
  },
  {
   "cell_type": "code",
   "execution_count": 32,
   "metadata": {},
   "outputs": [],
   "source": [
    "# Lastly, creating some percentage features\n",
    "heads['phones-per-capita'] = heads['qmobilephone'] / heads['tamviv']\n",
    "heads['tablets-per-capita'] = heads['v18q1'] / heads['tamviv']\n",
    "heads['rooms-per-capita'] = heads['rooms'] / heads['tamviv']\n",
    "heads['rent-per-capita'] = heads['v2a1'] / heads['tamviv']"
   ]
  },
  {
   "cell_type": "markdown",
   "metadata": {},
   "source": [
    "## Data Analysis"
   ]
  },
  {
   "cell_type": "markdown",
   "metadata": {},
   "source": [
    "### Household Variables\n",
    "We will use two methods to calculate the inter-correlation among the features:\n",
    "- Pearson Correlation and the Spearman Correlation.\n",
    "- Continous Variable: A continuous variable is a variable that has an infinite number of possible values.\n",
    "- Orginal Variable: An ordinal variable is a categorical variable for which the possible values are ordered.\n",
    "\n",
    "**Pearson Correlation**:\n",
    "- The Pearson Correlation: from -1 to 1 measuring the linear relationship between two variables.\n",
    "- The Pearson correlation evaluates the linear relationship between two continuous variables. A relationship is linear when a change in one variable is associated with a proportional change in the other variable.\n",
    "- Guideline:\n",
    "    - .00-.19 “very weak”\n",
    "    - .20-.39 “weak”\n",
    "    - .40-.59 “moderate”\n",
    "    - .60-.79 “strong”\n",
    "    - .80-1.0 “very strong”\n",
    "\n",
    "**Spearman Correlation**:\n",
    "- The Spearman Correlation: from -1 to 1 measuring the monotonic relationship between two variables\n",
    "- The Spearman correlation evaluates the monotonic relationship between two continuous or ordinal variables\n",
    "- In a monotonic relationship, the variables tend to change together, but not necessarily at a constant rate. The Spearman correlation coefficient is based on the ranked values for each variable rather than the raw data.\n",
    "- Rather than using the data values, it will compare the ranking of two different features. \n",
    "    - For example, if we have age and money, we compare its rank between both feature. If you are the youngest, you're rank 1 for age. If you are the poorest, you're rank 1 for monet.\n",
    "\n",
    "**Additional Notes**:\n",
    "- The Spearman correlation is 1 if as one variable increases, the other does as well, even if the relationship is not linear. On the other hand, the Pearson correlation can only be one if the increase is exactly linear. "
   ]
  },
  {
   "cell_type": "code",
   "execution_count": 33,
   "metadata": {},
   "outputs": [
    {
     "data": {
      "text/html": [
       "<div>\n",
       "<style scoped>\n",
       "    .dataframe tbody tr th:only-of-type {\n",
       "        vertical-align: middle;\n",
       "    }\n",
       "\n",
       "    .dataframe tbody tr th {\n",
       "        vertical-align: top;\n",
       "    }\n",
       "\n",
       "    .dataframe thead th {\n",
       "        text-align: right;\n",
       "    }\n",
       "</style>\n",
       "<table border=\"1\" class=\"dataframe\">\n",
       "  <thead>\n",
       "    <tr style=\"text-align: right;\">\n",
       "      <th></th>\n",
       "      <th>feature</th>\n",
       "      <th>P_corr</th>\n",
       "    </tr>\n",
       "  </thead>\n",
       "  <tbody>\n",
       "    <tr>\n",
       "      <th>1</th>\n",
       "      <td>meaneduc</td>\n",
       "      <td>0.333652</td>\n",
       "    </tr>\n",
       "    <tr>\n",
       "      <th>2</th>\n",
       "      <td>walls+roof+floor</td>\n",
       "      <td>0.332446</td>\n",
       "    </tr>\n",
       "    <tr>\n",
       "      <th>3</th>\n",
       "      <td>floor</td>\n",
       "      <td>0.307605</td>\n",
       "    </tr>\n",
       "    <tr>\n",
       "      <th>4</th>\n",
       "      <td>phones-per-capita</td>\n",
       "      <td>0.299026</td>\n",
       "    </tr>\n",
       "    <tr>\n",
       "      <th>5</th>\n",
       "      <td>walls</td>\n",
       "      <td>0.298737</td>\n",
       "    </tr>\n",
       "  </tbody>\n",
       "</table>\n",
       "</div>"
      ],
      "text/plain": [
       "             feature    P_corr\n",
       "1           meaneduc  0.333652\n",
       "2   walls+roof+floor  0.332446\n",
       "3              floor  0.307605\n",
       "4  phones-per-capita  0.299026\n",
       "5              walls  0.298737"
      ]
     },
     "execution_count": 33,
     "metadata": {},
     "output_type": "execute_result"
    }
   ],
   "source": [
    "# In order to calculate pearson correlation with the target feature, we need to filter to the train_set\n",
    "heads_train = heads.loc[heads['Target'].notnull(), :].copy()\n",
    "heads_train['Target'] = heads_train['Target'].astype('int64')\n",
    "pcorrs = pd.DataFrame(heads_train.corr()['Target'].sort_values(ascending=False)).rename(columns=\n",
    "                                                                        {\"Target\": 'P_corr'}).reset_index()\n",
    "# Top positive correlated Values\n",
    "pcorrs = pcorrs.rename(columns={'index': 'feature'})\n",
    "pcorrs.head(6)[1:]"
   ]
  },
  {
   "cell_type": "code",
   "execution_count": 34,
   "metadata": {},
   "outputs": [
    {
     "data": {
      "text/html": [
       "<div>\n",
       "<style scoped>\n",
       "    .dataframe tbody tr th:only-of-type {\n",
       "        vertical-align: middle;\n",
       "    }\n",
       "\n",
       "    .dataframe tbody tr th {\n",
       "        vertical-align: top;\n",
       "    }\n",
       "\n",
       "    .dataframe thead th {\n",
       "        text-align: right;\n",
       "    }\n",
       "</style>\n",
       "<table border=\"1\" class=\"dataframe\">\n",
       "  <thead>\n",
       "    <tr style=\"text-align: right;\">\n",
       "      <th></th>\n",
       "      <th>feature</th>\n",
       "      <th>P_corr</th>\n",
       "    </tr>\n",
       "  </thead>\n",
       "  <tbody>\n",
       "    <tr>\n",
       "      <th>88</th>\n",
       "      <td>r4m1</td>\n",
       "      <td>-0.209479</td>\n",
       "    </tr>\n",
       "    <tr>\n",
       "      <th>89</th>\n",
       "      <td>overcrowding</td>\n",
       "      <td>-0.234954</td>\n",
       "    </tr>\n",
       "    <tr>\n",
       "      <th>90</th>\n",
       "      <td>r4t1</td>\n",
       "      <td>-0.260917</td>\n",
       "    </tr>\n",
       "    <tr>\n",
       "      <th>91</th>\n",
       "      <td>hogar_nin</td>\n",
       "      <td>-0.266309</td>\n",
       "    </tr>\n",
       "    <tr>\n",
       "      <th>92</th>\n",
       "      <td>warning</td>\n",
       "      <td>-0.301791</td>\n",
       "    </tr>\n",
       "  </tbody>\n",
       "</table>\n",
       "</div>"
      ],
      "text/plain": [
       "         feature    P_corr\n",
       "88          r4m1 -0.209479\n",
       "89  overcrowding -0.234954\n",
       "90          r4t1 -0.260917\n",
       "91     hogar_nin -0.266309\n",
       "92       warning -0.301791"
      ]
     },
     "execution_count": 34,
     "metadata": {},
     "output_type": "execute_result"
    }
   ],
   "source": [
    "# Top negative correlated values\n",
    "pcorrs.dropna().tail(5)"
   ]
  },
  {
   "cell_type": "markdown",
   "metadata": {},
   "source": [
    "#### Notes:\n",
    "- Negative correlation: as we increase the value, poverty will increase. E.g. as our warning increases, the level of poverty will begin to decrease. \n",
    "- Overcrowing and hogar_nin (children under the age of 19) worsen poverty for households.\n",
    "- For the positive values, walls, roof, and floor indicates that an improvement in those variables will eventually decrease poverty."
   ]
  },
  {
   "cell_type": "markdown",
   "metadata": {},
   "source": [
    "### Spearman Correlation:"
   ]
  },
  {
   "cell_type": "code",
   "execution_count": 35,
   "metadata": {},
   "outputs": [
    {
     "data": {
      "text/html": [
       "<div>\n",
       "<style scoped>\n",
       "    .dataframe tbody tr th:only-of-type {\n",
       "        vertical-align: middle;\n",
       "    }\n",
       "\n",
       "    .dataframe tbody tr th {\n",
       "        vertical-align: top;\n",
       "    }\n",
       "\n",
       "    .dataframe thead th {\n",
       "        text-align: right;\n",
       "    }\n",
       "</style>\n",
       "<table border=\"1\" class=\"dataframe\">\n",
       "  <thead>\n",
       "    <tr style=\"text-align: right;\">\n",
       "      <th></th>\n",
       "      <th>S_corr</th>\n",
       "      <th>feature</th>\n",
       "      <th>pvalue</th>\n",
       "    </tr>\n",
       "  </thead>\n",
       "  <tbody>\n",
       "    <tr>\n",
       "      <th>86</th>\n",
       "      <td>0.338791</td>\n",
       "      <td>walls+roof+floor</td>\n",
       "      <td>9.539346e-81</td>\n",
       "    </tr>\n",
       "    <tr>\n",
       "      <th>89</th>\n",
       "      <td>0.337377</td>\n",
       "      <td>phones-per-capita</td>\n",
       "      <td>4.760104e-80</td>\n",
       "    </tr>\n",
       "    <tr>\n",
       "      <th>85</th>\n",
       "      <td>0.309638</td>\n",
       "      <td>floor</td>\n",
       "      <td>4.466091e-67</td>\n",
       "    </tr>\n",
       "    <tr>\n",
       "      <th>22</th>\n",
       "      <td>0.300996</td>\n",
       "      <td>cielorazo</td>\n",
       "      <td>2.611808e-63</td>\n",
       "    </tr>\n",
       "    <tr>\n",
       "      <th>83</th>\n",
       "      <td>0.298963</td>\n",
       "      <td>walls</td>\n",
       "      <td>1.925370e-62</td>\n",
       "    </tr>\n",
       "  </tbody>\n",
       "</table>\n",
       "</div>"
      ],
      "text/plain": [
       "      S_corr            feature        pvalue\n",
       "86  0.338791   walls+roof+floor  9.539346e-81\n",
       "89  0.337377  phones-per-capita  4.760104e-80\n",
       "85  0.309638              floor  4.466091e-67\n",
       "22  0.300996          cielorazo  2.611808e-63\n",
       "83  0.298963              walls  1.925370e-62"
      ]
     },
     "execution_count": 35,
     "metadata": {},
     "output_type": "execute_result"
    }
   ],
   "source": [
    "import warnings\n",
    "from scipy.stats import spearmanr\n",
    "\n",
    "warnings.filterwarnings('ignore', category = RuntimeWarning)\n",
    "\n",
    "feats = []\n",
    "scorr = []\n",
    "pvalues = []\n",
    "\n",
    "# Iterate through each column\n",
    "for c in heads:\n",
    "    \n",
    "    # Only valid for numbers\n",
    "    if heads[c].dtype != 'object':\n",
    "        feats.append(c)\n",
    "        \n",
    "        # Calculate spearman correlation and pvalue\n",
    "        scorr.append(spearmanr(heads_train[c], heads_train['Target']).correlation)\n",
    "        pvalues.append(spearmanr(heads_train[c], heads_train['Target']).pvalue)\n",
    "\n",
    "# Top Positive correlated values\n",
    "scorrs = pd.DataFrame({'feature': feats, 'S_corr': scorr, 'pvalue': pvalues}).sort_values('S_corr', ascending=False)\n",
    "scorrs.head(5)"
   ]
  },
  {
   "cell_type": "code",
   "execution_count": 36,
   "metadata": {},
   "outputs": [
    {
     "data": {
      "text/html": [
       "<div>\n",
       "<style scoped>\n",
       "    .dataframe tbody tr th:only-of-type {\n",
       "        vertical-align: middle;\n",
       "    }\n",
       "\n",
       "    .dataframe tbody tr th {\n",
       "        vertical-align: top;\n",
       "    }\n",
       "\n",
       "    .dataframe thead th {\n",
       "        text-align: right;\n",
       "    }\n",
       "</style>\n",
       "<table border=\"1\" class=\"dataframe\">\n",
       "  <thead>\n",
       "    <tr style=\"text-align: right;\">\n",
       "      <th></th>\n",
       "      <th>S_corr</th>\n",
       "      <th>feature</th>\n",
       "      <th>pvalue</th>\n",
       "    </tr>\n",
       "  </thead>\n",
       "  <tbody>\n",
       "    <tr>\n",
       "      <th>7</th>\n",
       "      <td>-0.209387</td>\n",
       "      <td>pisocemento</td>\n",
       "      <td>8.270816e-31</td>\n",
       "    </tr>\n",
       "    <tr>\n",
       "      <th>70</th>\n",
       "      <td>-0.219226</td>\n",
       "      <td>r4t1</td>\n",
       "      <td>1.112230e-33</td>\n",
       "    </tr>\n",
       "    <tr>\n",
       "      <th>75</th>\n",
       "      <td>-0.236225</td>\n",
       "      <td>hogar_nin</td>\n",
       "      <td>5.567218e-39</td>\n",
       "    </tr>\n",
       "    <tr>\n",
       "      <th>58</th>\n",
       "      <td>-0.281516</td>\n",
       "      <td>dependency</td>\n",
       "      <td>2.792620e-55</td>\n",
       "    </tr>\n",
       "    <tr>\n",
       "      <th>87</th>\n",
       "      <td>-0.307326</td>\n",
       "      <td>warning</td>\n",
       "      <td>4.682829e-66</td>\n",
       "    </tr>\n",
       "  </tbody>\n",
       "</table>\n",
       "</div>"
      ],
      "text/plain": [
       "      S_corr      feature        pvalue\n",
       "7  -0.209387  pisocemento  8.270816e-31\n",
       "70 -0.219226         r4t1  1.112230e-33\n",
       "75 -0.236225    hogar_nin  5.567218e-39\n",
       "58 -0.281516   dependency  2.792620e-55\n",
       "87 -0.307326      warning  4.682829e-66"
      ]
     },
     "execution_count": 36,
     "metadata": {},
     "output_type": "execute_result"
    }
   ],
   "source": [
    "# Top negative correlated values\n",
    "scorrs.dropna().tail(5)"
   ]
  },
  {
   "cell_type": "code",
   "execution_count": 37,
   "metadata": {},
   "outputs": [
    {
     "data": {
      "text/html": [
       "<div>\n",
       "<style scoped>\n",
       "    .dataframe tbody tr th:only-of-type {\n",
       "        vertical-align: middle;\n",
       "    }\n",
       "\n",
       "    .dataframe tbody tr th {\n",
       "        vertical-align: top;\n",
       "    }\n",
       "\n",
       "    .dataframe thead th {\n",
       "        text-align: right;\n",
       "    }\n",
       "</style>\n",
       "<table border=\"1\" class=\"dataframe\">\n",
       "  <thead>\n",
       "    <tr style=\"text-align: right;\">\n",
       "      <th></th>\n",
       "      <th>feature</th>\n",
       "      <th>P_corr</th>\n",
       "      <th>S_corr</th>\n",
       "      <th>pvalue</th>\n",
       "      <th>diff</th>\n",
       "      <th>abs_diff</th>\n",
       "    </tr>\n",
       "  </thead>\n",
       "  <tbody>\n",
       "    <tr>\n",
       "      <th>78</th>\n",
       "      <td>dependency</td>\n",
       "      <td>-0.126465</td>\n",
       "      <td>-0.281516</td>\n",
       "      <td>2.792620e-55</td>\n",
       "      <td>0.155051</td>\n",
       "      <td>0.155051</td>\n",
       "    </tr>\n",
       "    <tr>\n",
       "      <th>31</th>\n",
       "      <td>edjefa</td>\n",
       "      <td>0.052310</td>\n",
       "      <td>0.005114</td>\n",
       "      <td>7.804715e-01</td>\n",
       "      <td>0.047197</td>\n",
       "      <td>0.047197</td>\n",
       "    </tr>\n",
       "    <tr>\n",
       "      <th>10</th>\n",
       "      <td>edjefe</td>\n",
       "      <td>0.235687</td>\n",
       "      <td>0.214736</td>\n",
       "      <td>2.367521e-32</td>\n",
       "      <td>0.020951</td>\n",
       "      <td>0.020951</td>\n",
       "    </tr>\n",
       "    <tr>\n",
       "      <th>46</th>\n",
       "      <td>hogar_mayor</td>\n",
       "      <td>-0.025173</td>\n",
       "      <td>-0.041722</td>\n",
       "      <td>2.290994e-02</td>\n",
       "      <td>0.016549</td>\n",
       "      <td>0.016549</td>\n",
       "    </tr>\n",
       "    <tr>\n",
       "      <th>39</th>\n",
       "      <td>techozinc</td>\n",
       "      <td>0.014357</td>\n",
       "      <td>0.003404</td>\n",
       "      <td>8.528369e-01</td>\n",
       "      <td>0.010954</td>\n",
       "      <td>0.010954</td>\n",
       "    </tr>\n",
       "  </tbody>\n",
       "</table>\n",
       "</div>"
      ],
      "text/plain": [
       "        feature    P_corr    S_corr        pvalue      diff  abs_diff\n",
       "78   dependency -0.126465 -0.281516  2.792620e-55  0.155051  0.155051\n",
       "31       edjefa  0.052310  0.005114  7.804715e-01  0.047197  0.047197\n",
       "10       edjefe  0.235687  0.214736  2.367521e-32  0.020951  0.020951\n",
       "46  hogar_mayor -0.025173 -0.041722  2.290994e-02  0.016549  0.016549\n",
       "39    techozinc  0.014357  0.003404  8.528369e-01  0.010954  0.010954"
      ]
     },
     "execution_count": 37,
     "metadata": {},
     "output_type": "execute_result"
    }
   ],
   "source": [
    "# Comparing the pearson and spearson correlation\n",
    "\n",
    "corrs = pcorrs.merge(scorrs, on='feature')\n",
    "corrs['diff'] = corrs['P_corr'] - corrs['S_corr']\n",
    "corrs['abs_diff'] = np.abs(corrs['diff'])\n",
    "corrs.sort_values(by='diff', ascending=False).head(5)"
   ]
  },
  {
   "cell_type": "code",
   "execution_count": 38,
   "metadata": {},
   "outputs": [],
   "source": [
    "# Storing the household columns\n",
    "household_feats = list(heads.columns)"
   ]
  },
  {
   "cell_type": "markdown",
   "metadata": {},
   "source": [
    "### Individial Variables"
   ]
  },
  {
   "cell_type": "code",
   "execution_count": 39,
   "metadata": {},
   "outputs": [
    {
     "data": {
      "text/plain": [
       "(33413, 40)"
      ]
     },
     "execution_count": 39,
     "metadata": {},
     "output_type": "execute_result"
    }
   ],
   "source": [
    "# Calculating the shape of the individual features\n",
    "ind = all_data[id_+ind_bool+ind_ordered]\n",
    "ind.shape"
   ]
  },
  {
   "cell_type": "code",
   "execution_count": 40,
   "metadata": {},
   "outputs": [
    {
     "data": {
      "text/plain": [
       "['female']"
      ]
     },
     "execution_count": 40,
     "metadata": {},
     "output_type": "execute_result"
    }
   ],
   "source": [
    "# Calculates the high-correlated feature at an individual basis\n",
    "corr_matrix, corrs_to_drop = get_corrs_matrix(ind)\n",
    "corrs_to_drop"
   ]
  },
  {
   "cell_type": "code",
   "execution_count": 41,
   "metadata": {},
   "outputs": [
    {
     "name": "stderr",
     "output_type": "stream",
     "text": [
      "/Users/alexguanga/anaconda3/lib/python3.6/site-packages/ipykernel_launcher.py:2: SettingWithCopyWarning: \n",
      "A value is trying to be set on a copy of a slice from a DataFrame\n",
      "\n",
      "See the caveats in the documentation: http://pandas.pydata.org/pandas-docs/stable/indexing.html#indexing-view-versus-copy\n",
      "  \n"
     ]
    }
   ],
   "source": [
    "# Male and Female are mutullaly exclusive features... removing male\n",
    "ind.drop(['male'], axis=1, inplace=True)"
   ]
  },
  {
   "cell_type": "code",
   "execution_count": 42,
   "metadata": {},
   "outputs": [
    {
     "data": {
      "text/html": [
       "<div>\n",
       "<style scoped>\n",
       "    .dataframe tbody tr th:only-of-type {\n",
       "        vertical-align: middle;\n",
       "    }\n",
       "\n",
       "    .dataframe tbody tr th {\n",
       "        vertical-align: top;\n",
       "    }\n",
       "\n",
       "    .dataframe thead th {\n",
       "        text-align: right;\n",
       "    }\n",
       "</style>\n",
       "<table border=\"1\" class=\"dataframe\">\n",
       "  <thead>\n",
       "    <tr style=\"text-align: right;\">\n",
       "      <th></th>\n",
       "      <th>instlevel1</th>\n",
       "      <th>instlevel2</th>\n",
       "      <th>instlevel3</th>\n",
       "      <th>instlevel4</th>\n",
       "      <th>instlevel5</th>\n",
       "      <th>instlevel6</th>\n",
       "      <th>instlevel7</th>\n",
       "      <th>instlevel8</th>\n",
       "      <th>instlevel9</th>\n",
       "    </tr>\n",
       "  </thead>\n",
       "  <tbody>\n",
       "    <tr>\n",
       "      <th>0</th>\n",
       "      <td>0</td>\n",
       "      <td>0</td>\n",
       "      <td>0</td>\n",
       "      <td>1</td>\n",
       "      <td>0</td>\n",
       "      <td>0</td>\n",
       "      <td>0</td>\n",
       "      <td>0</td>\n",
       "      <td>0</td>\n",
       "    </tr>\n",
       "    <tr>\n",
       "      <th>1</th>\n",
       "      <td>0</td>\n",
       "      <td>0</td>\n",
       "      <td>0</td>\n",
       "      <td>0</td>\n",
       "      <td>0</td>\n",
       "      <td>0</td>\n",
       "      <td>0</td>\n",
       "      <td>1</td>\n",
       "      <td>0</td>\n",
       "    </tr>\n",
       "    <tr>\n",
       "      <th>2</th>\n",
       "      <td>0</td>\n",
       "      <td>0</td>\n",
       "      <td>0</td>\n",
       "      <td>0</td>\n",
       "      <td>1</td>\n",
       "      <td>0</td>\n",
       "      <td>0</td>\n",
       "      <td>0</td>\n",
       "      <td>0</td>\n",
       "    </tr>\n",
       "    <tr>\n",
       "      <th>3</th>\n",
       "      <td>0</td>\n",
       "      <td>0</td>\n",
       "      <td>0</td>\n",
       "      <td>1</td>\n",
       "      <td>0</td>\n",
       "      <td>0</td>\n",
       "      <td>0</td>\n",
       "      <td>0</td>\n",
       "      <td>0</td>\n",
       "    </tr>\n",
       "    <tr>\n",
       "      <th>4</th>\n",
       "      <td>0</td>\n",
       "      <td>0</td>\n",
       "      <td>0</td>\n",
       "      <td>0</td>\n",
       "      <td>1</td>\n",
       "      <td>0</td>\n",
       "      <td>0</td>\n",
       "      <td>0</td>\n",
       "      <td>0</td>\n",
       "    </tr>\n",
       "  </tbody>\n",
       "</table>\n",
       "</div>"
      ],
      "text/plain": [
       "   instlevel1  instlevel2  instlevel3  instlevel4  instlevel5  instlevel6  \\\n",
       "0           0           0           0           1           0           0   \n",
       "1           0           0           0           0           0           0   \n",
       "2           0           0           0           0           1           0   \n",
       "3           0           0           0           1           0           0   \n",
       "4           0           0           0           0           1           0   \n",
       "\n",
       "   instlevel7  instlevel8  instlevel9  \n",
       "0           0           0           0  \n",
       "1           0           1           0  \n",
       "2           0           0           0  \n",
       "3           0           0           0  \n",
       "4           0           0           0  "
      ]
     },
     "execution_count": 42,
     "metadata": {},
     "output_type": "execute_result"
    }
   ],
   "source": [
    "# instl has multiple features based on their order (instl: level of education)\n",
    "instl_vars = get_similar_cols(ind, 'instl')\n",
    "ind[instl_vars].head(5)"
   ]
  },
  {
   "cell_type": "code",
   "execution_count": 43,
   "metadata": {},
   "outputs": [
    {
     "name": "stderr",
     "output_type": "stream",
     "text": [
      "/Users/alexguanga/anaconda3/lib/python3.6/site-packages/ipykernel_launcher.py:2: SettingWithCopyWarning: \n",
      "A value is trying to be set on a copy of a slice from a DataFrame.\n",
      "Try using .loc[row_indexer,col_indexer] = value instead\n",
      "\n",
      "See the caveats in the documentation: http://pandas.pydata.org/pandas-docs/stable/indexing.html#indexing-view-versus-copy\n",
      "  \n"
     ]
    },
    {
     "data": {
      "text/plain": [
       "<matplotlib.axes._subplots.AxesSubplot at 0x1a20535c50>"
      ]
     },
     "execution_count": 43,
     "metadata": {},
     "output_type": "execute_result"
    },
    {
     "data": {
      "image/png": "[encoded data removed]",
      "text/plain": [
       "<matplotlib.figure.Figure at 0x1a20e17c88>"
      ]
     },
     "metadata": {},
     "output_type": "display_data"
    }
   ],
   "source": [
    "# Creating the ordinal columns with the instl_var\n",
    "ind['instl_var'] = np.argmax(np.array(ind[[c for c in instl_vars]]), axis=1)\n",
    "\n",
    "# Plotting the instl_var\n",
    "plt.figure(figsize=(12, 4))\n",
    "ind.groupby('Target')['instl_var'].value_counts().sort_index().plot(kind=\"bar\")"
   ]
  },
  {
   "cell_type": "markdown",
   "metadata": {},
   "source": [
    "#### Notes:\n",
    "- Higher level of education can reduce poverty"
   ]
  },
  {
   "cell_type": "code",
   "execution_count": 44,
   "metadata": {},
   "outputs": [
    {
     "data": {
      "image/png": "[encoded data removed]",
      "text/plain": [
       "<matplotlib.figure.Figure at 0x1a204e3588>"
      ]
     },
     "metadata": {},
     "output_type": "display_data"
    }
   ],
   "source": [
    "plt.figure(figsize = (5, 3))\n",
    "sns.violinplot(x='Target', y='instl_var', data=ind);\n",
    "plt.title('Education Distribution by Target');"
   ]
  },
  {
   "cell_type": "markdown",
   "metadata": {},
   "source": [
    "## Data Engineering"
   ]
  },
  {
   "cell_type": "markdown",
   "metadata": {},
   "source": [
    "#### Notes:\n",
    "- Calculating the ratio of features can help us better understand their importance\n",
    "- Normalzing the features could help us intepret their importance"
   ]
  },
  {
   "cell_type": "code",
   "execution_count": 48,
   "metadata": {},
   "outputs": [],
   "source": [
    "pd.options.mode.chained_assignment = None  # default='warn'"
   ]
  },
  {
   "cell_type": "code",
   "execution_count": 49,
   "metadata": {},
   "outputs": [],
   "source": [
    "# The total number of schooling by age could reveal if their education has an important weight in their lvies\n",
    "ind['escolari/age'] = ind['escolari']/ind['age']\n",
    "\n",
    "# The level of education by their age\n",
    "ind['instl_var/age'] = ind['instl_var']/ind['age']\n",
    "\n",
    "# We can also calculate the years behind in school. Could they be old and still in school?\n",
    "ind['rez_esc/age'] = ind['rez_esc']/ind['age']"
   ]
  },
  {
   "cell_type": "code",
   "execution_count": 50,
   "metadata": {},
   "outputs": [],
   "source": [
    "# The total number of gadgets in a household\n",
    "ind['tech_gadgets'] = ind['mobilephone'] + ind['v18q']"
   ]
  },
  {
   "cell_type": "markdown",
   "metadata": {},
   "source": [
    "### Feature Enginnering: Aggregations"
   ]
  },
  {
   "cell_type": "code",
   "execution_count": 43,
   "metadata": {},
   "outputs": [
    {
     "data": {
      "text/html": [
       "<div>\n",
       "<style scoped>\n",
       "    .dataframe tbody tr th:only-of-type {\n",
       "        vertical-align: middle;\n",
       "    }\n",
       "\n",
       "    .dataframe tbody tr th {\n",
       "        vertical-align: top;\n",
       "    }\n",
       "\n",
       "    .dataframe thead tr th {\n",
       "        text-align: left;\n",
       "    }\n",
       "\n",
       "    .dataframe thead tr:last-of-type th {\n",
       "        text-align: right;\n",
       "    }\n",
       "</style>\n",
       "<table border=\"1\" class=\"dataframe\">\n",
       "  <thead>\n",
       "    <tr>\n",
       "      <th></th>\n",
       "      <th colspan=\"6\" halign=\"left\">v18q</th>\n",
       "      <th colspan=\"4\" halign=\"left\">dis</th>\n",
       "      <th>...</th>\n",
       "      <th colspan=\"4\" halign=\"left\">rez_esc/age</th>\n",
       "      <th colspan=\"6\" halign=\"left\">tech_gadgets</th>\n",
       "    </tr>\n",
       "    <tr>\n",
       "      <th></th>\n",
       "      <th>min</th>\n",
       "      <th>max</th>\n",
       "      <th>sum</th>\n",
       "      <th>count</th>\n",
       "      <th>std</th>\n",
       "      <th>range_</th>\n",
       "      <th>min</th>\n",
       "      <th>max</th>\n",
       "      <th>sum</th>\n",
       "      <th>count</th>\n",
       "      <th>...</th>\n",
       "      <th>sum</th>\n",
       "      <th>count</th>\n",
       "      <th>std</th>\n",
       "      <th>range_</th>\n",
       "      <th>min</th>\n",
       "      <th>max</th>\n",
       "      <th>sum</th>\n",
       "      <th>count</th>\n",
       "      <th>std</th>\n",
       "      <th>range_</th>\n",
       "    </tr>\n",
       "    <tr>\n",
       "      <th>idhogar</th>\n",
       "      <th></th>\n",
       "      <th></th>\n",
       "      <th></th>\n",
       "      <th></th>\n",
       "      <th></th>\n",
       "      <th></th>\n",
       "      <th></th>\n",
       "      <th></th>\n",
       "      <th></th>\n",
       "      <th></th>\n",
       "      <th></th>\n",
       "      <th></th>\n",
       "      <th></th>\n",
       "      <th></th>\n",
       "      <th></th>\n",
       "      <th></th>\n",
       "      <th></th>\n",
       "      <th></th>\n",
       "      <th></th>\n",
       "      <th></th>\n",
       "      <th></th>\n",
       "    </tr>\n",
       "  </thead>\n",
       "  <tbody>\n",
       "    <tr>\n",
       "      <th>000a08204</th>\n",
       "      <td>1</td>\n",
       "      <td>1</td>\n",
       "      <td>3</td>\n",
       "      <td>3</td>\n",
       "      <td>0.0</td>\n",
       "      <td>0</td>\n",
       "      <td>0</td>\n",
       "      <td>0</td>\n",
       "      <td>0</td>\n",
       "      <td>3</td>\n",
       "      <td>...</td>\n",
       "      <td>0.0</td>\n",
       "      <td>3</td>\n",
       "      <td>0.0</td>\n",
       "      <td>0.0</td>\n",
       "      <td>2</td>\n",
       "      <td>2</td>\n",
       "      <td>6</td>\n",
       "      <td>3</td>\n",
       "      <td>0.0</td>\n",
       "      <td>0</td>\n",
       "    </tr>\n",
       "    <tr>\n",
       "      <th>000bce7c4</th>\n",
       "      <td>0</td>\n",
       "      <td>0</td>\n",
       "      <td>0</td>\n",
       "      <td>2</td>\n",
       "      <td>0.0</td>\n",
       "      <td>0</td>\n",
       "      <td>0</td>\n",
       "      <td>1</td>\n",
       "      <td>1</td>\n",
       "      <td>2</td>\n",
       "      <td>...</td>\n",
       "      <td>0.0</td>\n",
       "      <td>2</td>\n",
       "      <td>0.0</td>\n",
       "      <td>0.0</td>\n",
       "      <td>1</td>\n",
       "      <td>1</td>\n",
       "      <td>2</td>\n",
       "      <td>2</td>\n",
       "      <td>0.0</td>\n",
       "      <td>0</td>\n",
       "    </tr>\n",
       "    <tr>\n",
       "      <th>001845fb0</th>\n",
       "      <td>0</td>\n",
       "      <td>0</td>\n",
       "      <td>0</td>\n",
       "      <td>4</td>\n",
       "      <td>0.0</td>\n",
       "      <td>0</td>\n",
       "      <td>0</td>\n",
       "      <td>0</td>\n",
       "      <td>0</td>\n",
       "      <td>4</td>\n",
       "      <td>...</td>\n",
       "      <td>0.0</td>\n",
       "      <td>3</td>\n",
       "      <td>0.0</td>\n",
       "      <td>0.0</td>\n",
       "      <td>1</td>\n",
       "      <td>1</td>\n",
       "      <td>4</td>\n",
       "      <td>4</td>\n",
       "      <td>0.0</td>\n",
       "      <td>0</td>\n",
       "    </tr>\n",
       "    <tr>\n",
       "      <th>001ff74ca</th>\n",
       "      <td>1</td>\n",
       "      <td>1</td>\n",
       "      <td>2</td>\n",
       "      <td>2</td>\n",
       "      <td>0.0</td>\n",
       "      <td>0</td>\n",
       "      <td>0</td>\n",
       "      <td>0</td>\n",
       "      <td>0</td>\n",
       "      <td>2</td>\n",
       "      <td>...</td>\n",
       "      <td>0.0</td>\n",
       "      <td>1</td>\n",
       "      <td>NaN</td>\n",
       "      <td>0.0</td>\n",
       "      <td>2</td>\n",
       "      <td>2</td>\n",
       "      <td>4</td>\n",
       "      <td>2</td>\n",
       "      <td>0.0</td>\n",
       "      <td>0</td>\n",
       "    </tr>\n",
       "    <tr>\n",
       "      <th>003123ec2</th>\n",
       "      <td>0</td>\n",
       "      <td>0</td>\n",
       "      <td>0</td>\n",
       "      <td>4</td>\n",
       "      <td>0.0</td>\n",
       "      <td>0</td>\n",
       "      <td>0</td>\n",
       "      <td>0</td>\n",
       "      <td>0</td>\n",
       "      <td>4</td>\n",
       "      <td>...</td>\n",
       "      <td>0.0</td>\n",
       "      <td>4</td>\n",
       "      <td>0.0</td>\n",
       "      <td>0.0</td>\n",
       "      <td>1</td>\n",
       "      <td>1</td>\n",
       "      <td>4</td>\n",
       "      <td>4</td>\n",
       "      <td>0.0</td>\n",
       "      <td>0</td>\n",
       "    </tr>\n",
       "  </tbody>\n",
       "</table>\n",
       "<p>5 rows × 240 columns</p>\n",
       "</div>"
      ],
      "text/plain": [
       "          v18q                           dis                ...   rez_esc/age  \\\n",
       "           min max sum count  std range_ min max sum count  ...           sum   \n",
       "idhogar                                                     ...                 \n",
       "000a08204    1   1   3     3  0.0      0   0   0   0     3  ...           0.0   \n",
       "000bce7c4    0   0   0     2  0.0      0   0   1   1     2  ...           0.0   \n",
       "001845fb0    0   0   0     4  0.0      0   0   0   0     4  ...           0.0   \n",
       "001ff74ca    1   1   2     2  0.0      0   0   0   0     2  ...           0.0   \n",
       "003123ec2    0   0   0     4  0.0      0   0   0   0     4  ...           0.0   \n",
       "\n",
       "                            tech_gadgets                            \n",
       "          count  std range_          min max sum count  std range_  \n",
       "idhogar                                                             \n",
       "000a08204     3  0.0    0.0            2   2   6     3  0.0      0  \n",
       "000bce7c4     2  0.0    0.0            1   1   2     2  0.0      0  \n",
       "001845fb0     3  0.0    0.0            1   1   4     4  0.0      0  \n",
       "001ff74ca     1  NaN    0.0            2   2   4     2  0.0      0  \n",
       "003123ec2     4  0.0    0.0            1   1   4     4  0.0      0  \n",
       "\n",
       "[5 rows x 240 columns]"
      ]
     },
     "execution_count": 43,
     "metadata": {},
     "output_type": "execute_result"
    }
   ],
   "source": [
    "# Creating the range functions\n",
    "range_ = lambda x: x.max() - x.min()\n",
    "range_.__name__ = 'range_'\n",
    "\n",
    "# Group and aggregate\n",
    "ind_agg = ind.drop(['Target'], axis=1).groupby('idhogar').agg(['min', 'max', 'sum', 'count', 'std', range_])\n",
    "ind_agg.head()"
   ]
  },
  {
   "cell_type": "code",
   "execution_count": 44,
   "metadata": {},
   "outputs": [
    {
     "data": {
      "text/html": [
       "<div>\n",
       "<style scoped>\n",
       "    .dataframe tbody tr th:only-of-type {\n",
       "        vertical-align: middle;\n",
       "    }\n",
       "\n",
       "    .dataframe tbody tr th {\n",
       "        vertical-align: top;\n",
       "    }\n",
       "\n",
       "    .dataframe thead th {\n",
       "        text-align: right;\n",
       "    }\n",
       "</style>\n",
       "<table border=\"1\" class=\"dataframe\">\n",
       "  <thead>\n",
       "    <tr style=\"text-align: right;\">\n",
       "      <th></th>\n",
       "      <th>v18q-min</th>\n",
       "      <th>v18q-max</th>\n",
       "      <th>v18q-sum</th>\n",
       "      <th>v18q-count</th>\n",
       "      <th>v18q-std</th>\n",
       "      <th>v18q-range_</th>\n",
       "      <th>dis-min</th>\n",
       "      <th>dis-max</th>\n",
       "      <th>dis-sum</th>\n",
       "      <th>dis-count</th>\n",
       "      <th>...</th>\n",
       "      <th>rez_esc/age-sum</th>\n",
       "      <th>rez_esc/age-count</th>\n",
       "      <th>rez_esc/age-std</th>\n",
       "      <th>rez_esc/age-range_</th>\n",
       "      <th>tech_gadgets-min</th>\n",
       "      <th>tech_gadgets-max</th>\n",
       "      <th>tech_gadgets-sum</th>\n",
       "      <th>tech_gadgets-count</th>\n",
       "      <th>tech_gadgets-std</th>\n",
       "      <th>tech_gadgets-range_</th>\n",
       "    </tr>\n",
       "    <tr>\n",
       "      <th>idhogar</th>\n",
       "      <th></th>\n",
       "      <th></th>\n",
       "      <th></th>\n",
       "      <th></th>\n",
       "      <th></th>\n",
       "      <th></th>\n",
       "      <th></th>\n",
       "      <th></th>\n",
       "      <th></th>\n",
       "      <th></th>\n",
       "      <th></th>\n",
       "      <th></th>\n",
       "      <th></th>\n",
       "      <th></th>\n",
       "      <th></th>\n",
       "      <th></th>\n",
       "      <th></th>\n",
       "      <th></th>\n",
       "      <th></th>\n",
       "      <th></th>\n",
       "      <th></th>\n",
       "    </tr>\n",
       "  </thead>\n",
       "  <tbody>\n",
       "    <tr>\n",
       "      <th>000a08204</th>\n",
       "      <td>1</td>\n",
       "      <td>1</td>\n",
       "      <td>3</td>\n",
       "      <td>3</td>\n",
       "      <td>0.0</td>\n",
       "      <td>0</td>\n",
       "      <td>0</td>\n",
       "      <td>0</td>\n",
       "      <td>0</td>\n",
       "      <td>3</td>\n",
       "      <td>...</td>\n",
       "      <td>0.0</td>\n",
       "      <td>3</td>\n",
       "      <td>0.0</td>\n",
       "      <td>0.0</td>\n",
       "      <td>2</td>\n",
       "      <td>2</td>\n",
       "      <td>6</td>\n",
       "      <td>3</td>\n",
       "      <td>0.0</td>\n",
       "      <td>0</td>\n",
       "    </tr>\n",
       "    <tr>\n",
       "      <th>000bce7c4</th>\n",
       "      <td>0</td>\n",
       "      <td>0</td>\n",
       "      <td>0</td>\n",
       "      <td>2</td>\n",
       "      <td>0.0</td>\n",
       "      <td>0</td>\n",
       "      <td>0</td>\n",
       "      <td>1</td>\n",
       "      <td>1</td>\n",
       "      <td>2</td>\n",
       "      <td>...</td>\n",
       "      <td>0.0</td>\n",
       "      <td>2</td>\n",
       "      <td>0.0</td>\n",
       "      <td>0.0</td>\n",
       "      <td>1</td>\n",
       "      <td>1</td>\n",
       "      <td>2</td>\n",
       "      <td>2</td>\n",
       "      <td>0.0</td>\n",
       "      <td>0</td>\n",
       "    </tr>\n",
       "    <tr>\n",
       "      <th>001845fb0</th>\n",
       "      <td>0</td>\n",
       "      <td>0</td>\n",
       "      <td>0</td>\n",
       "      <td>4</td>\n",
       "      <td>0.0</td>\n",
       "      <td>0</td>\n",
       "      <td>0</td>\n",
       "      <td>0</td>\n",
       "      <td>0</td>\n",
       "      <td>4</td>\n",
       "      <td>...</td>\n",
       "      <td>0.0</td>\n",
       "      <td>3</td>\n",
       "      <td>0.0</td>\n",
       "      <td>0.0</td>\n",
       "      <td>1</td>\n",
       "      <td>1</td>\n",
       "      <td>4</td>\n",
       "      <td>4</td>\n",
       "      <td>0.0</td>\n",
       "      <td>0</td>\n",
       "    </tr>\n",
       "    <tr>\n",
       "      <th>001ff74ca</th>\n",
       "      <td>1</td>\n",
       "      <td>1</td>\n",
       "      <td>2</td>\n",
       "      <td>2</td>\n",
       "      <td>0.0</td>\n",
       "      <td>0</td>\n",
       "      <td>0</td>\n",
       "      <td>0</td>\n",
       "      <td>0</td>\n",
       "      <td>2</td>\n",
       "      <td>...</td>\n",
       "      <td>0.0</td>\n",
       "      <td>1</td>\n",
       "      <td>NaN</td>\n",
       "      <td>0.0</td>\n",
       "      <td>2</td>\n",
       "      <td>2</td>\n",
       "      <td>4</td>\n",
       "      <td>2</td>\n",
       "      <td>0.0</td>\n",
       "      <td>0</td>\n",
       "    </tr>\n",
       "    <tr>\n",
       "      <th>003123ec2</th>\n",
       "      <td>0</td>\n",
       "      <td>0</td>\n",
       "      <td>0</td>\n",
       "      <td>4</td>\n",
       "      <td>0.0</td>\n",
       "      <td>0</td>\n",
       "      <td>0</td>\n",
       "      <td>0</td>\n",
       "      <td>0</td>\n",
       "      <td>4</td>\n",
       "      <td>...</td>\n",
       "      <td>0.0</td>\n",
       "      <td>4</td>\n",
       "      <td>0.0</td>\n",
       "      <td>0.0</td>\n",
       "      <td>1</td>\n",
       "      <td>1</td>\n",
       "      <td>4</td>\n",
       "      <td>4</td>\n",
       "      <td>0.0</td>\n",
       "      <td>0</td>\n",
       "    </tr>\n",
       "  </tbody>\n",
       "</table>\n",
       "<p>5 rows × 240 columns</p>\n",
       "</div>"
      ],
      "text/plain": [
       "           v18q-min  v18q-max  v18q-sum  v18q-count  v18q-std  v18q-range_  \\\n",
       "idhogar                                                                      \n",
       "000a08204         1         1         3           3       0.0            0   \n",
       "000bce7c4         0         0         0           2       0.0            0   \n",
       "001845fb0         0         0         0           4       0.0            0   \n",
       "001ff74ca         1         1         2           2       0.0            0   \n",
       "003123ec2         0         0         0           4       0.0            0   \n",
       "\n",
       "           dis-min  dis-max  dis-sum  dis-count         ...           \\\n",
       "idhogar                                                 ...            \n",
       "000a08204        0        0        0          3         ...            \n",
       "000bce7c4        0        1        1          2         ...            \n",
       "001845fb0        0        0        0          4         ...            \n",
       "001ff74ca        0        0        0          2         ...            \n",
       "003123ec2        0        0        0          4         ...            \n",
       "\n",
       "           rez_esc/age-sum  rez_esc/age-count  rez_esc/age-std  \\\n",
       "idhogar                                                          \n",
       "000a08204              0.0                  3              0.0   \n",
       "000bce7c4              0.0                  2              0.0   \n",
       "001845fb0              0.0                  3              0.0   \n",
       "001ff74ca              0.0                  1              NaN   \n",
       "003123ec2              0.0                  4              0.0   \n",
       "\n",
       "           rez_esc/age-range_  tech_gadgets-min  tech_gadgets-max  \\\n",
       "idhogar                                                             \n",
       "000a08204                 0.0                 2                 2   \n",
       "000bce7c4                 0.0                 1                 1   \n",
       "001845fb0                 0.0                 1                 1   \n",
       "001ff74ca                 0.0                 2                 2   \n",
       "003123ec2                 0.0                 1                 1   \n",
       "\n",
       "           tech_gadgets-sum  tech_gadgets-count  tech_gadgets-std  \\\n",
       "idhogar                                                             \n",
       "000a08204                 6                   3               0.0   \n",
       "000bce7c4                 2                   2               0.0   \n",
       "001845fb0                 4                   4               0.0   \n",
       "001ff74ca                 4                   2               0.0   \n",
       "003123ec2                 4                   4               0.0   \n",
       "\n",
       "           tech_gadgets-range_  \n",
       "idhogar                         \n",
       "000a08204                    0  \n",
       "000bce7c4                    0  \n",
       "001845fb0                    0  \n",
       "001ff74ca                    0  \n",
       "003123ec2                    0  \n",
       "\n",
       "[5 rows x 240 columns]"
      ]
     },
     "execution_count": 44,
     "metadata": {},
     "output_type": "execute_result"
    }
   ],
   "source": [
    "# Renaming the aggreagation columns\n",
    "new_col = []\n",
    "for col in ind_agg.columns.levels[0]:\n",
    "    for stat in ind_agg.columns.levels[1]:\n",
    "        new_col.append(f'{col}-{stat}')\n",
    "        \n",
    "ind_agg.columns = new_col\n",
    "ind_agg.head(5)"
   ]
  },
  {
   "cell_type": "code",
   "execution_count": 45,
   "metadata": {},
   "outputs": [
    {
     "data": {
      "text/plain": [
       "117"
      ]
     },
     "execution_count": 45,
     "metadata": {},
     "output_type": "execute_result"
    }
   ],
   "source": [
    "# Removing the variables that are redundant because its high correlation\n",
    "corr_matrix, ind_agg_to_drop = get_corrs_matrix(ind_agg)\n",
    "len(ind_agg_to_drop)"
   ]
  },
  {
   "cell_type": "code",
   "execution_count": 46,
   "metadata": {},
   "outputs": [],
   "source": [
    "# Storing the individual variables\n",
    "ind_agg = ind_agg.drop(ind_agg_to_drop, axis=1)\n",
    "ind_feats = ind_agg.columns.tolist()"
   ]
  },
  {
   "cell_type": "code",
   "execution_count": 47,
   "metadata": {},
   "outputs": [
    {
     "name": "stdout",
     "output_type": "stream",
     "text": [
      "Shape of the final dataset is (10307, 218)\n"
     ]
    }
   ],
   "source": [
    "# Merging with household data\n",
    "final_ = heads.merge(ind_agg, on='idhogar', how='left')\n",
    "\n",
    "print(\"Shape of the final dataset is {}\".format(final_.shape))"
   ]
  },
  {
   "cell_type": "code",
   "execution_count": 48,
   "metadata": {},
   "outputs": [
    {
     "data": {
      "text/html": [
       "<div>\n",
       "<style scoped>\n",
       "    .dataframe tbody tr th:only-of-type {\n",
       "        vertical-align: middle;\n",
       "    }\n",
       "\n",
       "    .dataframe tbody tr th {\n",
       "        vertical-align: top;\n",
       "    }\n",
       "\n",
       "    .dataframe thead th {\n",
       "        text-align: right;\n",
       "    }\n",
       "</style>\n",
       "<table border=\"1\" class=\"dataframe\">\n",
       "  <thead>\n",
       "    <tr style=\"text-align: right;\">\n",
       "      <th></th>\n",
       "      <th>hacdor</th>\n",
       "      <th>hacapo</th>\n",
       "      <th>v14a</th>\n",
       "      <th>refrig</th>\n",
       "      <th>paredblolad</th>\n",
       "      <th>paredzocalo</th>\n",
       "      <th>paredpreb</th>\n",
       "      <th>pisocemento</th>\n",
       "      <th>pareddes</th>\n",
       "      <th>paredmad</th>\n",
       "      <th>...</th>\n",
       "      <th>escolari/age-sum</th>\n",
       "      <th>escolari/age-std</th>\n",
       "      <th>escolari/age-range_</th>\n",
       "      <th>instl_var/age-max</th>\n",
       "      <th>instl_var/age-std</th>\n",
       "      <th>instl_var/age-range_</th>\n",
       "      <th>tech_gadgets-min</th>\n",
       "      <th>tech_gadgets-sum</th>\n",
       "      <th>tech_gadgets-std</th>\n",
       "      <th>tech_gadgets-range_</th>\n",
       "    </tr>\n",
       "  </thead>\n",
       "  <tbody>\n",
       "    <tr>\n",
       "      <th>0</th>\n",
       "      <td>0</td>\n",
       "      <td>0</td>\n",
       "      <td>1</td>\n",
       "      <td>1</td>\n",
       "      <td>1</td>\n",
       "      <td>0</td>\n",
       "      <td>0</td>\n",
       "      <td>0</td>\n",
       "      <td>0</td>\n",
       "      <td>0</td>\n",
       "      <td>...</td>\n",
       "      <td>0.232558</td>\n",
       "      <td>NaN</td>\n",
       "      <td>0.000000</td>\n",
       "      <td>0.069767</td>\n",
       "      <td>NaN</td>\n",
       "      <td>0.000000</td>\n",
       "      <td>1</td>\n",
       "      <td>1</td>\n",
       "      <td>NaN</td>\n",
       "      <td>0</td>\n",
       "    </tr>\n",
       "    <tr>\n",
       "      <th>1</th>\n",
       "      <td>0</td>\n",
       "      <td>0</td>\n",
       "      <td>1</td>\n",
       "      <td>1</td>\n",
       "      <td>0</td>\n",
       "      <td>0</td>\n",
       "      <td>0</td>\n",
       "      <td>0</td>\n",
       "      <td>0</td>\n",
       "      <td>1</td>\n",
       "      <td>...</td>\n",
       "      <td>0.179104</td>\n",
       "      <td>NaN</td>\n",
       "      <td>0.000000</td>\n",
       "      <td>0.104478</td>\n",
       "      <td>NaN</td>\n",
       "      <td>0.000000</td>\n",
       "      <td>2</td>\n",
       "      <td>2</td>\n",
       "      <td>NaN</td>\n",
       "      <td>0</td>\n",
       "    </tr>\n",
       "    <tr>\n",
       "      <th>2</th>\n",
       "      <td>0</td>\n",
       "      <td>0</td>\n",
       "      <td>1</td>\n",
       "      <td>1</td>\n",
       "      <td>0</td>\n",
       "      <td>0</td>\n",
       "      <td>0</td>\n",
       "      <td>0</td>\n",
       "      <td>0</td>\n",
       "      <td>1</td>\n",
       "      <td>...</td>\n",
       "      <td>0.119565</td>\n",
       "      <td>NaN</td>\n",
       "      <td>0.000000</td>\n",
       "      <td>0.043478</td>\n",
       "      <td>NaN</td>\n",
       "      <td>0.000000</td>\n",
       "      <td>0</td>\n",
       "      <td>0</td>\n",
       "      <td>NaN</td>\n",
       "      <td>0</td>\n",
       "    </tr>\n",
       "    <tr>\n",
       "      <th>3</th>\n",
       "      <td>0</td>\n",
       "      <td>0</td>\n",
       "      <td>1</td>\n",
       "      <td>1</td>\n",
       "      <td>1</td>\n",
       "      <td>0</td>\n",
       "      <td>0</td>\n",
       "      <td>0</td>\n",
       "      <td>0</td>\n",
       "      <td>0</td>\n",
       "      <td>...</td>\n",
       "      <td>1.366183</td>\n",
       "      <td>0.126943</td>\n",
       "      <td>0.279412</td>\n",
       "      <td>0.176471</td>\n",
       "      <td>0.033010</td>\n",
       "      <td>0.071207</td>\n",
       "      <td>2</td>\n",
       "      <td>8</td>\n",
       "      <td>0.0</td>\n",
       "      <td>0</td>\n",
       "    </tr>\n",
       "    <tr>\n",
       "      <th>4</th>\n",
       "      <td>1</td>\n",
       "      <td>0</td>\n",
       "      <td>1</td>\n",
       "      <td>1</td>\n",
       "      <td>1</td>\n",
       "      <td>0</td>\n",
       "      <td>0</td>\n",
       "      <td>0</td>\n",
       "      <td>0</td>\n",
       "      <td>0</td>\n",
       "      <td>...</td>\n",
       "      <td>0.965584</td>\n",
       "      <td>0.168946</td>\n",
       "      <td>0.392857</td>\n",
       "      <td>0.142857</td>\n",
       "      <td>0.060063</td>\n",
       "      <td>0.142857</td>\n",
       "      <td>1</td>\n",
       "      <td>4</td>\n",
       "      <td>0.0</td>\n",
       "      <td>0</td>\n",
       "    </tr>\n",
       "  </tbody>\n",
       "</table>\n",
       "<p>5 rows × 218 columns</p>\n",
       "</div>"
      ],
      "text/plain": [
       "   hacdor  hacapo  v14a  refrig  paredblolad  paredzocalo  paredpreb  \\\n",
       "0       0       0     1       1            1            0          0   \n",
       "1       0       0     1       1            0            0          0   \n",
       "2       0       0     1       1            0            0          0   \n",
       "3       0       0     1       1            1            0          0   \n",
       "4       1       0     1       1            1            0          0   \n",
       "\n",
       "   pisocemento  pareddes  paredmad         ...           escolari/age-sum  \\\n",
       "0            0         0         0         ...                   0.232558   \n",
       "1            0         0         1         ...                   0.179104   \n",
       "2            0         0         1         ...                   0.119565   \n",
       "3            0         0         0         ...                   1.366183   \n",
       "4            0         0         0         ...                   0.965584   \n",
       "\n",
       "   escolari/age-std  escolari/age-range_  instl_var/age-max  \\\n",
       "0               NaN             0.000000           0.069767   \n",
       "1               NaN             0.000000           0.104478   \n",
       "2               NaN             0.000000           0.043478   \n",
       "3          0.126943             0.279412           0.176471   \n",
       "4          0.168946             0.392857           0.142857   \n",
       "\n",
       "   instl_var/age-std  instl_var/age-range_  tech_gadgets-min  \\\n",
       "0                NaN              0.000000                 1   \n",
       "1                NaN              0.000000                 2   \n",
       "2                NaN              0.000000                 0   \n",
       "3           0.033010              0.071207                 2   \n",
       "4           0.060063              0.142857                 1   \n",
       "\n",
       "   tech_gadgets-sum  tech_gadgets-std  tech_gadgets-range_  \n",
       "0                 1               NaN                    0  \n",
       "1                 2               NaN                    0  \n",
       "2                 0               NaN                    0  \n",
       "3                 8               0.0                    0  \n",
       "4                 4               0.0                    0  \n",
       "\n",
       "[5 rows x 218 columns]"
      ]
     },
     "execution_count": 48,
     "metadata": {},
     "output_type": "execute_result"
    }
   ],
   "source": [
    "final_.head(5)"
   ]
  },
  {
   "cell_type": "markdown",
   "metadata": {},
   "source": [
    "## Data Analysis"
   ]
  },
  {
   "cell_type": "code",
   "execution_count": 49,
   "metadata": {},
   "outputs": [
    {
     "data": {
      "text/plain": [
       "warning          -0.301791\n",
       "instlevel2-sum   -0.297868\n",
       "instlevel1-sum   -0.271204\n",
       "hogar_nin        -0.266309\n",
       "r4t1             -0.260917\n",
       "Name: Target, dtype: float64"
      ]
     },
     "execution_count": 49,
     "metadata": {},
     "output_type": "execute_result"
    }
   ],
   "source": [
    "final_['Target'] = final_['Target'].dropna().astype('int64')\n",
    "corrs = final_.corr()['Target']\n",
    "\n",
    "# Most negative correlated related to target\n",
    "corrs.sort_values().head()"
   ]
  },
  {
   "cell_type": "code",
   "execution_count": 50,
   "metadata": {},
   "outputs": [
    {
     "data": {
      "text/plain": [
       "instlevel8-max      0.317815\n",
       "walls+roof+floor    0.332446\n",
       "meaneduc            0.333652\n",
       "instl_var-max       0.368229\n",
       "escolari-max        0.373091\n",
       "Name: Target, dtype: float64"
      ]
     },
     "execution_count": 50,
     "metadata": {},
     "output_type": "execute_result"
    }
   ],
   "source": [
    "# Most positive correlated related to target\n",
    "corrs.sort_values().dropna().tail(6)[:5]"
   ]
  },
  {
   "cell_type": "markdown",
   "metadata": {},
   "source": [
    "## Data Viz: Highly Correlated Features"
   ]
  },
  {
   "cell_type": "code",
   "execution_count": 51,
   "metadata": {},
   "outputs": [
    {
     "data": {
      "text/plain": [
       "<matplotlib.axes._subplots.AxesSubplot at 0x1a120d7f60>"
      ]
     },
     "execution_count": 51,
     "metadata": {},
     "output_type": "execute_result"
    },
    {
     "data": {
      "image/png": "[encoded data removed]",
      "text/plain": [
       "<Figure size 360x360 with 1 Axes>"
      ]
     },
     "metadata": {},
     "output_type": "display_data"
    }
   ],
   "source": [
    "# Plotting boxplots for highly correlates values\n",
    "plt.figure(figsize=(5,5))\n",
    "sns.boxplot(x='Target', y='escolari-max', data=final_)"
   ]
  },
  {
   "cell_type": "code",
   "execution_count": 52,
   "metadata": {},
   "outputs": [
    {
     "data": {
      "text/plain": [
       "<matplotlib.axes._subplots.AxesSubplot at 0x1a20fe2dd8>"
      ]
     },
     "execution_count": 52,
     "metadata": {},
     "output_type": "execute_result"
    },
    {
     "data": {
      "image/png": "[encoded data removed]",
      "text/plain": [
       "<Figure size 360x360 with 1 Axes>"
      ]
     },
     "metadata": {},
     "output_type": "display_data"
    }
   ],
   "source": [
    "# Plotting boxplots for highly correlates values\n",
    "plt.figure(figsize=(5,5))\n",
    "sns.boxplot(x='Target', y='instl_var-max', data=final_)"
   ]
  },
  {
   "cell_type": "code",
   "execution_count": 53,
   "metadata": {},
   "outputs": [
    {
     "data": {
      "text/plain": [
       "<matplotlib.axes._subplots.AxesSubplot at 0x1a22c37eb8>"
      ]
     },
     "execution_count": 53,
     "metadata": {},
     "output_type": "execute_result"
    },
    {
     "data": {
      "image/png": "[encoded data removed]",
      "text/plain": [
       "<Figure size 360x360 with 1 Axes>"
      ]
     },
     "metadata": {},
     "output_type": "display_data"
    }
   ],
   "source": [
    "# Plotting boxplots for highly correlates values\n",
    "plt.figure(figsize=(5,5))\n",
    "sns.boxplot(x='Target', y='warning', data=final_)"
   ]
  },
  {
   "cell_type": "code",
   "execution_count": 54,
   "metadata": {},
   "outputs": [],
   "source": [
    "# Finding female head gender\n",
    "head_gender = ind.loc[ind['parentesco1'] == 1, ['idhogar', 'female']]\n",
    "final_ = final_.merge(head_gender, on='idhogar', how='left').rename(columns={'female': 'female-head'})"
   ]
  },
  {
   "cell_type": "code",
   "execution_count": 55,
   "metadata": {},
   "outputs": [
    {
     "data": {
      "text/plain": [
       "female-head  Target\n",
       "0            4.0       0.682873\n",
       "             2.0       0.136464\n",
       "             3.0       0.123204\n",
       "             1.0       0.057459\n",
       "1            4.0       0.617369\n",
       "             2.0       0.167670\n",
       "             3.0       0.113500\n",
       "             1.0       0.101462\n",
       "Name: Target, dtype: float64"
      ]
     },
     "execution_count": 55,
     "metadata": {},
     "output_type": "execute_result"
    }
   ],
   "source": [
    "# Understanding the distribution of the target variable \n",
    "final_.groupby('female-head')['Target'].value_counts(normalize=True)"
   ]
  },
  {
   "cell_type": "code",
   "execution_count": 56,
   "metadata": {},
   "outputs": [
    {
     "data": {
      "image/png": "[encoded data removed]",
      "text/plain": [
       "<Figure size 432x288 with 1 Axes>"
      ]
     },
     "metadata": {},
     "output_type": "display_data"
    }
   ],
   "source": [
    "sns.violinplot(x='female-head', y='Target', data=final_);\n",
    "plt.title('Target by Female Head of Household');"
   ]
  },
  {
   "cell_type": "code",
   "execution_count": 57,
   "metadata": {},
   "outputs": [
    {
     "data": {
      "image/png": "[encoded data removed]",
      "text/plain": [
       "<Figure size 576x360 with 1 Axes>"
      ]
     },
     "metadata": {},
     "output_type": "display_data"
    }
   ],
   "source": [
    "plt.figure(figsize = (8, 5))\n",
    "sns.boxplot(x='Target', y='meaneduc', hue='female-head', data=final_);\n",
    "plt.title('Average Education by Target and Female Head of Household', size = 16);"
   ]
  },
  {
   "cell_type": "code",
   "execution_count": 58,
   "metadata": {},
   "outputs": [
    {
     "data": {
      "text/html": [
       "<div>\n",
       "<style scoped>\n",
       "    .dataframe tbody tr th:only-of-type {\n",
       "        vertical-align: middle;\n",
       "    }\n",
       "\n",
       "    .dataframe tbody tr th {\n",
       "        vertical-align: top;\n",
       "    }\n",
       "\n",
       "    .dataframe thead th {\n",
       "        text-align: right;\n",
       "    }\n",
       "</style>\n",
       "<table border=\"1\" class=\"dataframe\">\n",
       "  <thead>\n",
       "    <tr style=\"text-align: right;\">\n",
       "      <th></th>\n",
       "      <th>mean</th>\n",
       "      <th>count</th>\n",
       "    </tr>\n",
       "    <tr>\n",
       "      <th>female-head</th>\n",
       "      <th></th>\n",
       "      <th></th>\n",
       "    </tr>\n",
       "  </thead>\n",
       "  <tbody>\n",
       "    <tr>\n",
       "      <th>0</th>\n",
       "      <td>8.968025</td>\n",
       "      <td>6384</td>\n",
       "    </tr>\n",
       "    <tr>\n",
       "      <th>1</th>\n",
       "      <td>9.237013</td>\n",
       "      <td>3903</td>\n",
       "    </tr>\n",
       "  </tbody>\n",
       "</table>\n",
       "</div>"
      ],
      "text/plain": [
       "                 mean  count\n",
       "female-head                 \n",
       "0            8.968025   6384\n",
       "1            9.237013   3903"
      ]
     },
     "execution_count": 58,
     "metadata": {},
     "output_type": "execute_result"
    }
   ],
   "source": [
    "final_.groupby('female-head')['meaneduc'].agg(['mean', 'count'])"
   ]
  },
  {
   "cell_type": "markdown",
   "metadata": {},
   "source": [
    "#### Notes:\n",
    "- Despite females having higher levels of education, we can see that they will have higher less of poverty if they are the head of the household."
   ]
  },
  {
   "cell_type": "markdown",
   "metadata": {},
   "source": [
    "## Saving Datasets"
   ]
  },
  {
   "cell_type": "code",
   "execution_count": 60,
   "metadata": {},
   "outputs": [],
   "source": [
    "final_.to_pickle('./pickles/final.pkl')"
   ]
  }
 ],
 "metadata": {
  "kernelspec": {
   "display_name": "Python 3",
   "language": "python",
   "name": "python3"
  },
  "language_info": {
   "codemirror_mode": {
    "name": "ipython",
    "version": 3
   },
   "file_extension": ".py",
   "mimetype": "text/x-python",
   "name": "python",
   "nbconvert_exporter": "python",
   "pygments_lexer": "ipython3",
   "version": "3.6.8"
  },
  "varInspector": {
   "cols": {
    "lenName": 16,
    "lenType": 16,
    "lenVar": 40
   },
   "kernels_config": {
    "python": {
     "delete_cmd_postfix": "",
     "delete_cmd_prefix": "del ",
     "library": "var_list.py",
     "varRefreshCmd": "print(var_dic_list())"
    },
    "r": {
     "delete_cmd_postfix": ") ",
     "delete_cmd_prefix": "rm(",
     "library": "var_list.r",
     "varRefreshCmd": "cat(var_dic_list()) "
    }
   },
   "types_to_exclude": [
    "module",
    "function",
    "builtin_function_or_method",
    "instance",
    "_Feature"
   ],
   "window_display": false
  }
 },
 "nbformat": 4,
 "nbformat_minor": 2
}
