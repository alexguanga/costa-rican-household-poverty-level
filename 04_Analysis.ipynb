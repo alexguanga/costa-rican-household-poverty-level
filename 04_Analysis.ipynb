{
 "cells": [
  {
   "cell_type": "markdown",
   "metadata": {},
   "source": [
    "## Dimension Reduction"
   ]
  },
  {
   "cell_type": "markdown",
   "metadata": {},
   "source": [
    "Notes: \n",
    "- As a final exploration of the problem, we can apply a few different dimension reductions methods to the selected data set. These methods can be used for visualization or as a preprocessing method for machine learning. We'll look at four different methods:\n",
    "    1. PCA: Principal Components Analysis. Finds the dimensions of greatest variation in the data\n",
    "    2. ICA: Independent Components Analysis. Attempts to separate a mutltivariate signal into independent signals.\n",
    "    3. TSNE: T-distributed Stochastic Neighbor Embedding. Maps high-dimensional data to a low-dimensional manifold attempting to maintain the local structure within the data. It is a non-linear technique and generally only used for visualization.\n",
    "    4. UMAP: Uniform Manifold Approximation and Projection: A relatively new technique that also maps data to a low-dimensional manifold but tries to preserve more global structure than TSNE."
   ]
  },
  {
   "cell_type": "code",
   "execution_count": 4,
   "metadata": {},
   "outputs": [],
   "source": [
    "import pandas as pd\n",
    "import pickles\n",
    "\n",
    "train_selected = pd.read_pickle('./pickles/train_selected.pkl')\n",
    "test_selected = pd.read_pickle('./pickles/test_selected.pkl')"
   ]
  },
  {
   "cell_type": "code",
   "execution_count": 7,
   "metadata": {},
   "outputs": [
    {
     "ename": "ImportError",
     "evalue": "cannot import name 'UMAP'",
     "output_type": "error",
     "traceback": [
      "\u001b[0;31m---------------------------------------------------------------------------\u001b[0m",
      "\u001b[0;31mImportError\u001b[0m                               Traceback (most recent call last)",
      "\u001b[0;32m<ipython-input-7-54c51ef8cb46>\u001b[0m in \u001b[0;36m<module>\u001b[0;34m()\u001b[0m\n\u001b[0;32m----> 1\u001b[0;31m \u001b[0;32mfrom\u001b[0m \u001b[0mumap\u001b[0m \u001b[0;32mimport\u001b[0m \u001b[0mUMAP\u001b[0m\u001b[0;34m\u001b[0m\u001b[0m\n\u001b[0m\u001b[1;32m      2\u001b[0m \u001b[0;32mfrom\u001b[0m \u001b[0msklearn\u001b[0m\u001b[0;34m.\u001b[0m\u001b[0mdecomposition\u001b[0m \u001b[0;32mimport\u001b[0m \u001b[0mPCA\u001b[0m\u001b[0;34m,\u001b[0m \u001b[0mFastICA\u001b[0m\u001b[0;34m\u001b[0m\u001b[0m\n\u001b[1;32m      3\u001b[0m \u001b[0;32mfrom\u001b[0m \u001b[0msklearn\u001b[0m\u001b[0;34m.\u001b[0m\u001b[0mmanifold\u001b[0m \u001b[0;32mimport\u001b[0m \u001b[0mTSNE\u001b[0m\u001b[0;34m\u001b[0m\u001b[0m\n\u001b[1;32m      4\u001b[0m \u001b[0;34m\u001b[0m\u001b[0m\n\u001b[1;32m      5\u001b[0m \u001b[0mn_components\u001b[0m \u001b[0;34m=\u001b[0m \u001b[0;36m3\u001b[0m\u001b[0;34m\u001b[0m\u001b[0m\n",
      "\u001b[0;31mImportError\u001b[0m: cannot import name 'UMAP'"
     ]
    }
   ],
   "source": [
    "from umap import UMAP\n",
    "from sklearn.decomposition import PCA, FastICA\n",
    "from sklearn.manifold import TSNE\n",
    "\n",
    "n_components = 3\n",
    "\n",
    "umap = UMAP(n_components=n_components)\n",
    "pca = PCA(n_components=n_components)\n",
    "ica = FastICA(n_components=n_components)\n",
    "tsne = TSNE(n_components=n_components)"
   ]
  },
  {
   "cell_type": "code",
   "execution_count": null,
   "metadata": {},
   "outputs": [],
   "source": [
    "train_df = train_selected.copy()\n",
    "test_df = test_selected.copy()\n",
    "\n",
    "for method, name in zip([umap, pca, ica, tsne], \n",
    "                        ['umap', 'pca', 'ica', 'tsne']):\n",
    "    \n",
    "    # TSNE has no transform method\n",
    "    if name == 'tsne':\n",
    "        start = timer()\n",
    "        reduction = method.fit_transform(train_selected)\n",
    "        end = timer()\n",
    "    \n",
    "    else:\n",
    "        start = timer()\n",
    "        reduction = method.fit_transform(train_selected)\n",
    "        end = timer()\n",
    "        \n",
    "        test_reduction = method.transform(test_selected)\n",
    "    \n",
    "        # Add components to test data\n",
    "        test_df['%s_c1' % name] = test_reduction[:, 0]\n",
    "        test_df['%s_c2' % name] = test_reduction[:, 1]\n",
    "        test_df['%s_c3' % name] = test_reduction[:, 2]\n",
    "\n",
    "    # Add components to training data for visualization and modeling\n",
    "    train_df['%s_c1' % name] = reduction[:, 0]\n",
    "    train_df['%s_c2' % name] = reduction[:, 1]\n",
    "    train_df['%s_c3' % name] = reduction[:, 2]\n",
    "    \n",
    "    print(f'Method: {name} {round(end - start, 2)} seconds elapsed.')"
   ]
  }
 ],
 "metadata": {
  "kernelspec": {
   "display_name": "Python 3",
   "language": "python",
   "name": "python3"
  },
  "language_info": {
   "codemirror_mode": {
    "name": "ipython",
    "version": 3
   },
   "file_extension": ".py",
   "mimetype": "text/x-python",
   "name": "python",
   "nbconvert_exporter": "python",
   "pygments_lexer": "ipython3",
   "version": "3.6.6"
  }
 },
 "nbformat": 4,
 "nbformat_minor": 2
}
