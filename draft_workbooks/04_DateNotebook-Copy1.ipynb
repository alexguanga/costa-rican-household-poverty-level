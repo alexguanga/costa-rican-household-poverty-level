{
 "cells": [
  {
   "cell_type": "markdown",
   "metadata": {},
   "source": [
    "# Feature Tools:\n",
    "- This Jupyter Notebook is similar to the 01_DateNotebook, 02_DateNotebook, and 03_DateNotebook with the exception that we are automating feature aggregation with a tool: `Feature Tools`"
   ]
  },
  {
   "cell_type": "code",
   "execution_count": 1,
   "metadata": {},
   "outputs": [],
   "source": [
    "# Importing the necessary packages\n",
    "import numpy as np \n",
    "import pandas as pd\n",
    "import matplotlib.pyplot as plt\n",
    "\n",
    "import featuretools as ft\n",
    "\n",
    "import warnings\n",
    "warnings.filterwarnings('ignore')\n",
    "\n",
    "%matplotlib inline"
   ]
  },
  {
   "cell_type": "code",
   "execution_count": 2,
   "metadata": {},
   "outputs": [
    {
     "data": {
      "text/html": [
       "<div>\n",
       "<style scoped>\n",
       "    .dataframe tbody tr th:only-of-type {\n",
       "        vertical-align: middle;\n",
       "    }\n",
       "\n",
       "    .dataframe tbody tr th {\n",
       "        vertical-align: top;\n",
       "    }\n",
       "\n",
       "    .dataframe thead th {\n",
       "        text-align: right;\n",
       "    }\n",
       "</style>\n",
       "<table border=\"1\" class=\"dataframe\">\n",
       "  <thead>\n",
       "    <tr style=\"text-align: right;\">\n",
       "      <th></th>\n",
       "      <th>Id</th>\n",
       "      <th>v2a1</th>\n",
       "      <th>hacdor</th>\n",
       "      <th>rooms</th>\n",
       "      <th>hacapo</th>\n",
       "      <th>v14a</th>\n",
       "      <th>refrig</th>\n",
       "      <th>v18q</th>\n",
       "      <th>v18q1</th>\n",
       "      <th>r4h1</th>\n",
       "      <th>...</th>\n",
       "      <th>SQBescolari</th>\n",
       "      <th>SQBage</th>\n",
       "      <th>SQBhogar_total</th>\n",
       "      <th>SQBedjefe</th>\n",
       "      <th>SQBhogar_nin</th>\n",
       "      <th>SQBovercrowding</th>\n",
       "      <th>SQBdependency</th>\n",
       "      <th>SQBmeaned</th>\n",
       "      <th>agesq</th>\n",
       "      <th>Target</th>\n",
       "    </tr>\n",
       "  </thead>\n",
       "  <tbody>\n",
       "    <tr>\n",
       "      <th>0</th>\n",
       "      <td>ID_279628684</td>\n",
       "      <td>190000.0</td>\n",
       "      <td>0</td>\n",
       "      <td>3</td>\n",
       "      <td>0</td>\n",
       "      <td>1</td>\n",
       "      <td>1</td>\n",
       "      <td>0</td>\n",
       "      <td>NaN</td>\n",
       "      <td>0</td>\n",
       "      <td>...</td>\n",
       "      <td>100</td>\n",
       "      <td>1849</td>\n",
       "      <td>1</td>\n",
       "      <td>100</td>\n",
       "      <td>0</td>\n",
       "      <td>1.000000</td>\n",
       "      <td>0.0</td>\n",
       "      <td>100.0</td>\n",
       "      <td>1849</td>\n",
       "      <td>4.0</td>\n",
       "    </tr>\n",
       "    <tr>\n",
       "      <th>1</th>\n",
       "      <td>ID_f29eb3ddd</td>\n",
       "      <td>135000.0</td>\n",
       "      <td>0</td>\n",
       "      <td>4</td>\n",
       "      <td>0</td>\n",
       "      <td>1</td>\n",
       "      <td>1</td>\n",
       "      <td>1</td>\n",
       "      <td>1.0</td>\n",
       "      <td>0</td>\n",
       "      <td>...</td>\n",
       "      <td>144</td>\n",
       "      <td>4489</td>\n",
       "      <td>1</td>\n",
       "      <td>144</td>\n",
       "      <td>0</td>\n",
       "      <td>1.000000</td>\n",
       "      <td>64.0</td>\n",
       "      <td>144.0</td>\n",
       "      <td>4489</td>\n",
       "      <td>4.0</td>\n",
       "    </tr>\n",
       "    <tr>\n",
       "      <th>2</th>\n",
       "      <td>ID_68de51c94</td>\n",
       "      <td>NaN</td>\n",
       "      <td>0</td>\n",
       "      <td>8</td>\n",
       "      <td>0</td>\n",
       "      <td>1</td>\n",
       "      <td>1</td>\n",
       "      <td>0</td>\n",
       "      <td>NaN</td>\n",
       "      <td>0</td>\n",
       "      <td>...</td>\n",
       "      <td>121</td>\n",
       "      <td>8464</td>\n",
       "      <td>1</td>\n",
       "      <td>0</td>\n",
       "      <td>0</td>\n",
       "      <td>0.250000</td>\n",
       "      <td>64.0</td>\n",
       "      <td>121.0</td>\n",
       "      <td>8464</td>\n",
       "      <td>4.0</td>\n",
       "    </tr>\n",
       "    <tr>\n",
       "      <th>3</th>\n",
       "      <td>ID_d671db89c</td>\n",
       "      <td>180000.0</td>\n",
       "      <td>0</td>\n",
       "      <td>5</td>\n",
       "      <td>0</td>\n",
       "      <td>1</td>\n",
       "      <td>1</td>\n",
       "      <td>1</td>\n",
       "      <td>1.0</td>\n",
       "      <td>0</td>\n",
       "      <td>...</td>\n",
       "      <td>81</td>\n",
       "      <td>289</td>\n",
       "      <td>16</td>\n",
       "      <td>121</td>\n",
       "      <td>4</td>\n",
       "      <td>1.777778</td>\n",
       "      <td>1.0</td>\n",
       "      <td>121.0</td>\n",
       "      <td>289</td>\n",
       "      <td>4.0</td>\n",
       "    </tr>\n",
       "    <tr>\n",
       "      <th>4</th>\n",
       "      <td>ID_d56d6f5f5</td>\n",
       "      <td>180000.0</td>\n",
       "      <td>0</td>\n",
       "      <td>5</td>\n",
       "      <td>0</td>\n",
       "      <td>1</td>\n",
       "      <td>1</td>\n",
       "      <td>1</td>\n",
       "      <td>1.0</td>\n",
       "      <td>0</td>\n",
       "      <td>...</td>\n",
       "      <td>121</td>\n",
       "      <td>1369</td>\n",
       "      <td>16</td>\n",
       "      <td>121</td>\n",
       "      <td>4</td>\n",
       "      <td>1.777778</td>\n",
       "      <td>1.0</td>\n",
       "      <td>121.0</td>\n",
       "      <td>1369</td>\n",
       "      <td>4.0</td>\n",
       "    </tr>\n",
       "  </tbody>\n",
       "</table>\n",
       "<p>5 rows × 143 columns</p>\n",
       "</div>"
      ],
      "text/plain": [
       "             Id      v2a1  hacdor  rooms  hacapo  v14a  refrig  v18q  v18q1  \\\n",
       "0  ID_279628684  190000.0       0      3       0     1       1     0    NaN   \n",
       "1  ID_f29eb3ddd  135000.0       0      4       0     1       1     1    1.0   \n",
       "2  ID_68de51c94       NaN       0      8       0     1       1     0    NaN   \n",
       "3  ID_d671db89c  180000.0       0      5       0     1       1     1    1.0   \n",
       "4  ID_d56d6f5f5  180000.0       0      5       0     1       1     1    1.0   \n",
       "\n",
       "   r4h1   ...    SQBescolari  SQBage  SQBhogar_total  SQBedjefe  SQBhogar_nin  \\\n",
       "0     0   ...            100    1849               1        100             0   \n",
       "1     0   ...            144    4489               1        144             0   \n",
       "2     0   ...            121    8464               1          0             0   \n",
       "3     0   ...             81     289              16        121             4   \n",
       "4     0   ...            121    1369              16        121             4   \n",
       "\n",
       "   SQBovercrowding  SQBdependency  SQBmeaned  agesq  Target  \n",
       "0         1.000000            0.0      100.0   1849     4.0  \n",
       "1         1.000000           64.0      144.0   4489     4.0  \n",
       "2         0.250000           64.0      121.0   8464     4.0  \n",
       "3         1.777778            1.0      121.0    289     4.0  \n",
       "4         1.777778            1.0      121.0   1369     4.0  \n",
       "\n",
       "[5 rows x 143 columns]"
      ]
     },
     "execution_count": 2,
     "metadata": {},
     "output_type": "execute_result"
    }
   ],
   "source": [
    "# Storing the datasets\n",
    "train = pd.read_csv('./archive/train.csv')\n",
    "test = pd.read_csv('./archive/test.csv')\n",
    "test['Target'] = np.nan\n",
    "\n",
    "data = pd.concat([train, test])\n",
    "data.head(5)"
   ]
  },
  {
   "cell_type": "code",
   "execution_count": 3,
   "metadata": {},
   "outputs": [],
   "source": [
    "# Some households will not have the houseleader with a target variable disregard those, mark them as 4 by default\n",
    "train_valid = train.loc[train['parentesco1'] == 1, ['idhogar', 'Id', 'Target']].copy()\n",
    "test_valid = test.loc[test['parentesco1'] == 1, ['idhogar', 'Id']].copy()\n",
    "\n",
    "submission_base = test[['Id', 'idhogar']]"
   ]
  },
  {
   "cell_type": "code",
   "execution_count": 4,
   "metadata": {},
   "outputs": [],
   "source": [
    "def get_similar_cols(data, groupby_format):\n",
    "    \"\"\"Returns columns that follow a similar groupby_format\"\"\"\n",
    "    return data.filter(like=groupby_format, axis=1).columns.tolist()\n",
    "\n",
    "def get_corrs_matrix(data, corr_threshold=0.95):\n",
    "    \"\"\" Returns a list: correlation matrix, columns to drop based on the correlation threshold\"\"\"\n",
    "    corr_matrix = data.corr()\n",
    "    \n",
    "    # Select upper triangle of correlation matrix\n",
    "    upper = corr_matrix.where(np.triu(np.ones(corr_matrix.shape), k=1).astype(np.bool))\n",
    "    \n",
    "    # Find index of feature columns with correlation greater than 0.95\n",
    "    to_drop = [c for c in upper.columns if any(abs(upper[c]) > corr_threshold)]\n",
    "    return [corr_matrix, to_drop]\n",
    "\n",
    "def get_dtypes(data, verbose=False):\n",
    "    \"\"\"Returns a list: numerical values, object-like columns\"\"\"\n",
    "    \n",
    "    numerics = ['int16', 'int32', 'int64', 'float16', 'float32', 'float64']\n",
    "    numerics_cols = data.select_dtypes(include=numerics).columns\n",
    "    object_cols = data.select_dtypes(include='object').columns\n",
    "    if verbose:\n",
    "        print('There are {0} numeric cols: {1}\\nThere are {2} object cols: {3}\\nThere are total cols: {4}'.format\n",
    "              (len(numerics_cols),numerics_cols, len(object_cols), object_cols, len(data.columns)))\n",
    "    return [numerics_cols, object_cols]\n",
    "\n",
    "def get_missing_values(data, cols):\n",
    "    \"\"\"Returns a dataframe with missing values (in absolute and percentage format)\"\"\"\n",
    "    \n",
    "    missing_percent = data[cols].apply(lambda x: sum(x.isnull())/len(x), axis=0).sort_values(ascending=False)\n",
    "    missing_abs = data[cols].apply(lambda x: sum(x.isnull()), axis=0).sort_values(ascending=False)\n",
    "    df = pd.DataFrame({'Missing': missing_abs, 'Percent': missing_percent})\n",
    "    \n",
    "    # Removing zero values\n",
    "    df = df.loc[~(df==0).all(axis=1)]\n",
    "    return df"
   ]
  },
  {
   "cell_type": "markdown",
   "metadata": {},
   "source": [
    "## Data Analysis: dtypes"
   ]
  },
  {
   "cell_type": "code",
   "execution_count": 5,
   "metadata": {},
   "outputs": [
    {
     "data": {
      "text/plain": [
       "Index(['Id', 'idhogar', 'dependency', 'edjefe', 'edjefa'], dtype='object')"
      ]
     },
     "execution_count": 5,
     "metadata": {},
     "output_type": "execute_result"
    }
   ],
   "source": [
    "data.select_dtypes('object').columns"
   ]
  },
  {
   "cell_type": "code",
   "execution_count": 6,
   "metadata": {},
   "outputs": [
    {
     "data": {
      "text/html": [
       "<div>\n",
       "<style scoped>\n",
       "    .dataframe tbody tr th:only-of-type {\n",
       "        vertical-align: middle;\n",
       "    }\n",
       "\n",
       "    .dataframe tbody tr th {\n",
       "        vertical-align: top;\n",
       "    }\n",
       "\n",
       "    .dataframe thead th {\n",
       "        text-align: right;\n",
       "    }\n",
       "</style>\n",
       "<table border=\"1\" class=\"dataframe\">\n",
       "  <thead>\n",
       "    <tr style=\"text-align: right;\">\n",
       "      <th></th>\n",
       "      <th>dependency</th>\n",
       "      <th>edjefa</th>\n",
       "      <th>edjefe</th>\n",
       "    </tr>\n",
       "  </thead>\n",
       "  <tbody>\n",
       "    <tr>\n",
       "      <th>count</th>\n",
       "      <td>33413.000000</td>\n",
       "      <td>33413.000000</td>\n",
       "      <td>33413.000000</td>\n",
       "    </tr>\n",
       "    <tr>\n",
       "      <th>mean</th>\n",
       "      <td>1.172238</td>\n",
       "      <td>2.827822</td>\n",
       "      <td>5.170353</td>\n",
       "    </tr>\n",
       "    <tr>\n",
       "      <th>std</th>\n",
       "      <td>1.649249</td>\n",
       "      <td>4.606153</td>\n",
       "      <td>5.214174</td>\n",
       "    </tr>\n",
       "    <tr>\n",
       "      <th>min</th>\n",
       "      <td>0.000000</td>\n",
       "      <td>0.000000</td>\n",
       "      <td>0.000000</td>\n",
       "    </tr>\n",
       "    <tr>\n",
       "      <th>25%</th>\n",
       "      <td>0.333333</td>\n",
       "      <td>0.000000</td>\n",
       "      <td>0.000000</td>\n",
       "    </tr>\n",
       "    <tr>\n",
       "      <th>50%</th>\n",
       "      <td>0.666667</td>\n",
       "      <td>0.000000</td>\n",
       "      <td>6.000000</td>\n",
       "    </tr>\n",
       "    <tr>\n",
       "      <th>75%</th>\n",
       "      <td>1.333333</td>\n",
       "      <td>6.000000</td>\n",
       "      <td>9.000000</td>\n",
       "    </tr>\n",
       "    <tr>\n",
       "      <th>max</th>\n",
       "      <td>8.000000</td>\n",
       "      <td>21.000000</td>\n",
       "      <td>21.000000</td>\n",
       "    </tr>\n",
       "  </tbody>\n",
       "</table>\n",
       "</div>"
      ],
      "text/plain": [
       "         dependency        edjefa        edjefe\n",
       "count  33413.000000  33413.000000  33413.000000\n",
       "mean       1.172238      2.827822      5.170353\n",
       "std        1.649249      4.606153      5.214174\n",
       "min        0.000000      0.000000      0.000000\n",
       "25%        0.333333      0.000000      0.000000\n",
       "50%        0.666667      0.000000      6.000000\n",
       "75%        1.333333      6.000000      9.000000\n",
       "max        8.000000     21.000000     21.000000"
      ]
     },
     "execution_count": 6,
     "metadata": {},
     "output_type": "execute_result"
    }
   ],
   "source": [
    "# Reshaping the mixed values for object\n",
    "mapping_incorrections = {'yes': 1, 'no': 0}\n",
    "\n",
    "# Reshaping the data based on replace the yes and no\n",
    "for col in ['dependency', 'edjefa', 'edjefe']:\n",
    "    data[col] = data[col].replace(mapping_incorrections).astype(np.float64)\n",
    "    \n",
    "data[['dependency', 'edjefa', 'edjefe']].describe()"
   ]
  },
  {
   "cell_type": "markdown",
   "metadata": {},
   "source": [
    "## Data Cleaning: Missing Values"
   ]
  },
  {
   "cell_type": "code",
   "execution_count": 7,
   "metadata": {},
   "outputs": [
    {
     "data": {
      "text/html": [
       "<div>\n",
       "<style scoped>\n",
       "    .dataframe tbody tr th:only-of-type {\n",
       "        vertical-align: middle;\n",
       "    }\n",
       "\n",
       "    .dataframe tbody tr th {\n",
       "        vertical-align: top;\n",
       "    }\n",
       "\n",
       "    .dataframe thead th {\n",
       "        text-align: right;\n",
       "    }\n",
       "</style>\n",
       "<table border=\"1\" class=\"dataframe\">\n",
       "  <thead>\n",
       "    <tr style=\"text-align: right;\">\n",
       "      <th></th>\n",
       "      <th>Missing</th>\n",
       "      <th>Percent</th>\n",
       "    </tr>\n",
       "  </thead>\n",
       "  <tbody>\n",
       "    <tr>\n",
       "      <th>rez_esc</th>\n",
       "      <td>27581</td>\n",
       "      <td>0.825457</td>\n",
       "    </tr>\n",
       "    <tr>\n",
       "      <th>v18q1</th>\n",
       "      <td>25468</td>\n",
       "      <td>0.762218</td>\n",
       "    </tr>\n",
       "    <tr>\n",
       "      <th>v2a1</th>\n",
       "      <td>24263</td>\n",
       "      <td>0.726154</td>\n",
       "    </tr>\n",
       "    <tr>\n",
       "      <th>Target</th>\n",
       "      <td>23856</td>\n",
       "      <td>0.713974</td>\n",
       "    </tr>\n",
       "    <tr>\n",
       "      <th>meaneduc</th>\n",
       "      <td>36</td>\n",
       "      <td>0.001077</td>\n",
       "    </tr>\n",
       "    <tr>\n",
       "      <th>SQBmeaned</th>\n",
       "      <td>36</td>\n",
       "      <td>0.001077</td>\n",
       "    </tr>\n",
       "  </tbody>\n",
       "</table>\n",
       "</div>"
      ],
      "text/plain": [
       "           Missing   Percent\n",
       "rez_esc      27581  0.825457\n",
       "v18q1        25468  0.762218\n",
       "v2a1         24263  0.726154\n",
       "Target       23856  0.713974\n",
       "meaneduc        36  0.001077\n",
       "SQBmeaned       36  0.001077"
      ]
     },
     "execution_count": 7,
     "metadata": {},
     "output_type": "execute_result"
    }
   ],
   "source": [
    "get_missing_values(data, data.columns)"
   ]
  },
  {
   "cell_type": "code",
   "execution_count": 8,
   "metadata": {},
   "outputs": [],
   "source": [
    "# Filling in the missing value\n",
    "data['v18q1'] = data['v18q1'].fillna(0)\n",
    "\n",
    "# Updating the payment to 0 for people who own the property\n",
    "data.loc[(data['v2a1'].isnull()) & (data['tipovivi1'] == 1), \"v2a1\"] = 0\n",
    "\n",
    "# Creating an additional boolean values of people who have missing values\n",
    "data['v2a1-missing'] = data['v2a1'].isnull()\n",
    "\n",
    "# If individual is over 19 or younger than 7 and missing years behind, set it to 0\n",
    "data.loc[((data['age'] > 19) | (data['age'] < 7)) & (data['rez_esc'].isnull()), 'rez_esc'] = 0\n",
    "\n",
    "# Add a flag for those between 7 and 19 with a missing value\n",
    "data['rez_esc-missing'] = data['rez_esc'].isnull()\n",
    "\n",
    "# Fixing an outlier\n",
    "data.loc[data['rez_esc'] > 5, 'rez_esc'] = 5"
   ]
  },
  {
   "cell_type": "markdown",
   "metadata": {},
   "source": [
    "## Feature Enginerring: Columns Type"
   ]
  },
  {
   "cell_type": "code",
   "execution_count": 9,
   "metadata": {},
   "outputs": [
    {
     "data": {
      "text/plain": [
       "(33413, 161)"
      ]
     },
     "execution_count": 9,
     "metadata": {},
     "output_type": "execute_result"
    }
   ],
   "source": [
    "# tamviv: The # of people living in the house, hhsize: The # of people in the household\n",
    "# Thus, the difference could provide some insight\n",
    "data['hhsize-diff'] = data['tamviv'] - data['hhsize']\n",
    "\n",
    "# Correlated Values: coopele\n",
    "elec = []\n",
    "\n",
    "# Assign values for electricity (ordinal values)\n",
    "for i, row in data.iterrows():\n",
    "    if row['noelec'] == 1:\n",
    "        elec.append(0)\n",
    "    elif row['coopele'] == 1:\n",
    "        elec.append(1)\n",
    "    elif row['public'] == 1:\n",
    "        elec.append(2)\n",
    "    elif row['planpri'] == 1:\n",
    "        elec.append(3)\n",
    "    else:\n",
    "        elec.append(np.nan)\n",
    "        \n",
    "# Record the new variable and missing flag\n",
    "data['elec'] = elec\n",
    "data['elec-missing'] = data['elec'].isnull()\n",
    "\n",
    "# Wall Ordinal Variables\n",
    "walls_columns = get_similar_cols(data, groupby_format='epared')\n",
    "data['walls'] = np.argmax(np.array(data[walls_columns]), axis=1)\n",
    "\n",
    "# Roof Ordinal Variables\n",
    "roof_columns = get_similar_cols(data, groupby_format='etecho')\n",
    "data['roof'] = np.argmax(np.array(data[roof_columns]), axis=1)\n",
    "\n",
    "# Floor Ordinal Variables\n",
    "floor_columns = get_similar_cols(data, groupby_format='eviv')\n",
    "data['floor'] = np.argmax(np.array(data[floor_columns]), axis=1)\n",
    "\n",
    "# Per capita features\n",
    "data['phones-per-capita'] = data['qmobilephone'] / data['tamviv']\n",
    "data['tablets-per-capita'] = data['v18q1'] / data['tamviv']\n",
    "data['rooms-per-capita'] = data['rooms'] / data['tamviv']\n",
    "data['rent-per-capita'] = data['v2a1'] / data['tamviv']\n",
    "\n",
    "# No toilet, no electricity, no floor, no water service, no ceiling\n",
    "data['warning'] = 1 * (data['sanitario1'] + (data['elec'] == 0) + \n",
    "                        data['pisonotiene'] + data['abastaguano'] + \n",
    "                        (data['cielorazo'] == 0))\n",
    "\n",
    "# Owns a refrigerator, computer, tablet, and television\n",
    "data['bonus'] = 1 * (data['refrig'] + \n",
    "                     data['computer'] + \n",
    "                     (data['v18q1'] > 0) + \n",
    "                     data['television'])\n",
    "\n",
    "# Create one feature from the `instlevel` columns\n",
    "instl_vars = get_similar_cols(data, 'instl')\n",
    "data['instl_var'] = np.argmax(np.array(data[[c for c in instl_vars]]), axis=1)\n",
    "\n",
    "data['escolari/age'] = data['escolari'] / data['age']\n",
    "data['instl_var/age'] = data['instl_var'] / data['age']\n",
    "data['tech'] = data['v18q'] + data['mobilephone']\n",
    "\n",
    "data.shape"
   ]
  },
  {
   "cell_type": "markdown",
   "metadata": {},
   "source": [
    "## Data Cleaning: Removing Columns"
   ]
  },
  {
   "cell_type": "markdown",
   "metadata": {},
   "source": [
    "### Removing Squared Columns"
   ]
  },
  {
   "cell_type": "code",
   "execution_count": 10,
   "metadata": {},
   "outputs": [
    {
     "data": {
      "text/plain": [
       "(33413, 152)"
      ]
     },
     "execution_count": 10,
     "metadata": {},
     "output_type": "execute_result"
    }
   ],
   "source": [
    "data = data[[x for x in data if not x.startswith('SQB')]]\n",
    "data = data.drop(columns = ['agesq'])\n",
    "data.shape"
   ]
  },
  {
   "cell_type": "markdown",
   "metadata": {},
   "source": [
    "### Removing Correlated Columns"
   ]
  },
  {
   "cell_type": "code",
   "execution_count": 11,
   "metadata": {},
   "outputs": [
    {
     "data": {
      "text/plain": [
       "['tamhog',\n",
       " 'hhsize',\n",
       " 'coopele',\n",
       " 'female',\n",
       " 'hogar_total',\n",
       " 'area2',\n",
       " 'elec',\n",
       " 'instl_var']"
      ]
     },
     "execution_count": 11,
     "metadata": {},
     "output_type": "execute_result"
    }
   ],
   "source": [
    "corr_matrix, to_drop = get_corrs_matrix(data)\n",
    "to_drop"
   ]
  },
  {
   "cell_type": "code",
   "execution_count": 12,
   "metadata": {},
   "outputs": [
    {
     "data": {
      "text/plain": [
       "(33413, 144)"
      ]
     },
     "execution_count": 12,
     "metadata": {},
     "output_type": "execute_result"
    }
   ],
   "source": [
    "# Dropping the columns\n",
    "data.drop(to_drop, axis=1, inplace=True)\n",
    "data.shape"
   ]
  },
  {
   "cell_type": "code",
   "execution_count": 13,
   "metadata": {},
   "outputs": [
    {
     "data": {
      "text/html": [
       "<div>\n",
       "<style scoped>\n",
       "    .dataframe tbody tr th:only-of-type {\n",
       "        vertical-align: middle;\n",
       "    }\n",
       "\n",
       "    .dataframe tbody tr th {\n",
       "        vertical-align: top;\n",
       "    }\n",
       "\n",
       "    .dataframe thead th {\n",
       "        text-align: right;\n",
       "    }\n",
       "</style>\n",
       "<table border=\"1\" class=\"dataframe\">\n",
       "  <thead>\n",
       "    <tr style=\"text-align: right;\">\n",
       "      <th></th>\n",
       "      <th>Id</th>\n",
       "      <th>v2a1</th>\n",
       "      <th>hacdor</th>\n",
       "      <th>rooms</th>\n",
       "      <th>hacapo</th>\n",
       "      <th>v14a</th>\n",
       "      <th>refrig</th>\n",
       "      <th>v18q</th>\n",
       "      <th>v18q1</th>\n",
       "      <th>r4h1</th>\n",
       "      <th>...</th>\n",
       "      <th>floor</th>\n",
       "      <th>phones-per-capita</th>\n",
       "      <th>tablets-per-capita</th>\n",
       "      <th>rooms-per-capita</th>\n",
       "      <th>rent-per-capita</th>\n",
       "      <th>warning</th>\n",
       "      <th>bonus</th>\n",
       "      <th>escolari/age</th>\n",
       "      <th>instl_var/age</th>\n",
       "      <th>tech</th>\n",
       "    </tr>\n",
       "  </thead>\n",
       "  <tbody>\n",
       "    <tr>\n",
       "      <th>0</th>\n",
       "      <td>ID_279628684</td>\n",
       "      <td>190000.0</td>\n",
       "      <td>0</td>\n",
       "      <td>3</td>\n",
       "      <td>0</td>\n",
       "      <td>1</td>\n",
       "      <td>1</td>\n",
       "      <td>0</td>\n",
       "      <td>0.0</td>\n",
       "      <td>0</td>\n",
       "      <td>...</td>\n",
       "      <td>0</td>\n",
       "      <td>1.00</td>\n",
       "      <td>0.00</td>\n",
       "      <td>3.00</td>\n",
       "      <td>190000.0</td>\n",
       "      <td>0</td>\n",
       "      <td>1</td>\n",
       "      <td>0.232558</td>\n",
       "      <td>0.069767</td>\n",
       "      <td>1</td>\n",
       "    </tr>\n",
       "    <tr>\n",
       "      <th>1</th>\n",
       "      <td>ID_f29eb3ddd</td>\n",
       "      <td>135000.0</td>\n",
       "      <td>0</td>\n",
       "      <td>4</td>\n",
       "      <td>0</td>\n",
       "      <td>1</td>\n",
       "      <td>1</td>\n",
       "      <td>1</td>\n",
       "      <td>1.0</td>\n",
       "      <td>0</td>\n",
       "      <td>...</td>\n",
       "      <td>1</td>\n",
       "      <td>1.00</td>\n",
       "      <td>1.00</td>\n",
       "      <td>4.00</td>\n",
       "      <td>135000.0</td>\n",
       "      <td>0</td>\n",
       "      <td>2</td>\n",
       "      <td>0.179104</td>\n",
       "      <td>0.104478</td>\n",
       "      <td>2</td>\n",
       "    </tr>\n",
       "    <tr>\n",
       "      <th>2</th>\n",
       "      <td>ID_68de51c94</td>\n",
       "      <td>0.0</td>\n",
       "      <td>0</td>\n",
       "      <td>8</td>\n",
       "      <td>0</td>\n",
       "      <td>1</td>\n",
       "      <td>1</td>\n",
       "      <td>0</td>\n",
       "      <td>0.0</td>\n",
       "      <td>0</td>\n",
       "      <td>...</td>\n",
       "      <td>2</td>\n",
       "      <td>0.00</td>\n",
       "      <td>0.00</td>\n",
       "      <td>8.00</td>\n",
       "      <td>0.0</td>\n",
       "      <td>0</td>\n",
       "      <td>1</td>\n",
       "      <td>0.119565</td>\n",
       "      <td>0.043478</td>\n",
       "      <td>0</td>\n",
       "    </tr>\n",
       "    <tr>\n",
       "      <th>3</th>\n",
       "      <td>ID_d671db89c</td>\n",
       "      <td>180000.0</td>\n",
       "      <td>0</td>\n",
       "      <td>5</td>\n",
       "      <td>0</td>\n",
       "      <td>1</td>\n",
       "      <td>1</td>\n",
       "      <td>1</td>\n",
       "      <td>1.0</td>\n",
       "      <td>0</td>\n",
       "      <td>...</td>\n",
       "      <td>2</td>\n",
       "      <td>0.75</td>\n",
       "      <td>0.25</td>\n",
       "      <td>1.25</td>\n",
       "      <td>45000.0</td>\n",
       "      <td>0</td>\n",
       "      <td>2</td>\n",
       "      <td>0.529412</td>\n",
       "      <td>0.176471</td>\n",
       "      <td>2</td>\n",
       "    </tr>\n",
       "    <tr>\n",
       "      <th>4</th>\n",
       "      <td>ID_d56d6f5f5</td>\n",
       "      <td>180000.0</td>\n",
       "      <td>0</td>\n",
       "      <td>5</td>\n",
       "      <td>0</td>\n",
       "      <td>1</td>\n",
       "      <td>1</td>\n",
       "      <td>1</td>\n",
       "      <td>1.0</td>\n",
       "      <td>0</td>\n",
       "      <td>...</td>\n",
       "      <td>2</td>\n",
       "      <td>0.75</td>\n",
       "      <td>0.25</td>\n",
       "      <td>1.25</td>\n",
       "      <td>45000.0</td>\n",
       "      <td>0</td>\n",
       "      <td>2</td>\n",
       "      <td>0.297297</td>\n",
       "      <td>0.108108</td>\n",
       "      <td>2</td>\n",
       "    </tr>\n",
       "  </tbody>\n",
       "</table>\n",
       "<p>5 rows × 144 columns</p>\n",
       "</div>"
      ],
      "text/plain": [
       "             Id      v2a1  hacdor  rooms  hacapo  v14a  refrig  v18q  v18q1  \\\n",
       "0  ID_279628684  190000.0       0      3       0     1       1     0    0.0   \n",
       "1  ID_f29eb3ddd  135000.0       0      4       0     1       1     1    1.0   \n",
       "2  ID_68de51c94       0.0       0      8       0     1       1     0    0.0   \n",
       "3  ID_d671db89c  180000.0       0      5       0     1       1     1    1.0   \n",
       "4  ID_d56d6f5f5  180000.0       0      5       0     1       1     1    1.0   \n",
       "\n",
       "   r4h1  ...   floor  phones-per-capita  tablets-per-capita  rooms-per-capita  \\\n",
       "0     0  ...       0               1.00                0.00              3.00   \n",
       "1     0  ...       1               1.00                1.00              4.00   \n",
       "2     0  ...       2               0.00                0.00              8.00   \n",
       "3     0  ...       2               0.75                0.25              1.25   \n",
       "4     0  ...       2               0.75                0.25              1.25   \n",
       "\n",
       "   rent-per-capita  warning  bonus  escolari/age  instl_var/age  tech  \n",
       "0         190000.0        0      1      0.232558       0.069767     1  \n",
       "1         135000.0        0      2      0.179104       0.104478     2  \n",
       "2              0.0        0      1      0.119565       0.043478     0  \n",
       "3          45000.0        0      2      0.529412       0.176471     2  \n",
       "4          45000.0        0      2      0.297297       0.108108     2  \n",
       "\n",
       "[5 rows x 144 columns]"
      ]
     },
     "execution_count": 13,
     "metadata": {},
     "output_type": "execute_result"
    }
   ],
   "source": [
    "data.head(5)"
   ]
  },
  {
   "cell_type": "markdown",
   "metadata": {},
   "source": [
    "## Feature Engineering: Variable Types\n",
    "\n",
    "- We will incorporate `featuretools` to help us automate aggregation"
   ]
  },
  {
   "cell_type": "markdown",
   "metadata": {},
   "source": [
    "We need to specify the correct variables types:\n",
    "\n",
    "- Individual Variables: these are characteristics of each individual rather than the household\n",
    "    - Boolean: Yes or No (0 or 1)\n",
    "    - Ordered Discrete: Integers with an ordering\n",
    "- Household variables\n",
    "    - Boolean: Yes or No\n",
    "    - Ordered Discrete: Integers with an ordering\n",
    "- Continuous numeric\n",
    "    - Below we manually define the variables in each category. This is a little tedious, but also necessary."
   ]
  },
  {
   "cell_type": "code",
   "execution_count": 14,
   "metadata": {},
   "outputs": [],
   "source": [
    "hh_bool = ['hacdor', 'hacapo', 'v14a', 'refrig', 'paredblolad', 'paredzocalo', \n",
    "           'paredpreb','pisocemento', 'pareddes', 'paredmad',\n",
    "           'paredzinc', 'paredfibras', 'paredother', 'pisomoscer', 'pisoother', \n",
    "           'pisonatur', 'pisonotiene', 'pisomadera',\n",
    "           'techozinc', 'techoentrepiso', 'techocane', 'techootro', 'cielorazo', \n",
    "           'abastaguadentro', 'abastaguafuera', 'abastaguano',\n",
    "            'public', 'planpri', 'noelec', 'coopele', 'sanitario1', \n",
    "           'sanitario2', 'sanitario3', 'sanitario5',   'sanitario6',\n",
    "           'energcocinar1', 'energcocinar2', 'energcocinar3', 'energcocinar4', \n",
    "           'elimbasu1', 'elimbasu2', 'elimbasu3', 'elimbasu4', \n",
    "           'elimbasu5', 'elimbasu6', 'epared1', 'epared2', 'epared3',\n",
    "           'etecho1', 'etecho2', 'etecho3', 'eviv1', 'eviv2', 'eviv3', \n",
    "           'tipovivi1', 'tipovivi2', 'tipovivi3', 'tipovivi4', 'tipovivi5', \n",
    "           'computer', 'television', 'lugar1', 'lugar2', 'lugar3',\n",
    "           'lugar4', 'lugar5', 'lugar6', 'area1', 'area2', 'v2a1-missing', 'elec-missing']\n",
    "\n",
    "hh_ordered = [ 'rooms', 'r4h1', 'r4h2', 'r4h3', 'r4m1','r4m2','r4m3', 'r4t1',  'r4t2', \n",
    "              'r4t3', 'v18q1', 'tamhog','tamviv','hhsize','hogar_nin','hhsize-diff',\n",
    "              'elec',  'walls', 'roof', 'floor', 'walls+roof+floor', 'warning', 'bonus',\n",
    "              'hogar_adul','hogar_mayor','hogar_total',  'bedrooms', 'qmobilephone']\n",
    "\n",
    "hh_cont = ['v2a1', 'dependency', 'edjefe', 'edjefa', 'meaneduc', 'overcrowding',\n",
    "          'phones-per-capita', 'tablets-per-capita', 'rooms-per-capita', 'rent-per-capita']"
   ]
  },
  {
   "cell_type": "code",
   "execution_count": 15,
   "metadata": {},
   "outputs": [],
   "source": [
    "ind_bool = ['v18q', 'dis', 'male', 'female', 'estadocivil1', 'estadocivil2', 'estadocivil3', \n",
    "            'estadocivil4', 'estadocivil5', 'estadocivil6', 'estadocivil7', \n",
    "            'parentesco1', 'parentesco2',  'parentesco3', 'parentesco4', 'parentesco5', \n",
    "            'parentesco6', 'parentesco7', 'parentesco8',  'parentesco9', 'parentesco10', \n",
    "            'parentesco11', 'parentesco12', 'instlevel1', 'instlevel2', 'instlevel3', \n",
    "            'instlevel4', 'instlevel5', 'instlevel6', 'instlevel7', 'instlevel8', \n",
    "            'instlevel9', 'mobilephone', 'rez_esc-missing']\n",
    "\n",
    "ind_ordered = ['age', 'escolari', 'rez_esc', 'inst', 'tech']\n",
    "\n",
    "ind_cont = ['escolari/age', 'inst/age']"
   ]
  },
  {
   "cell_type": "code",
   "execution_count": 16,
   "metadata": {},
   "outputs": [],
   "source": [
    "# Removing columns that are not listed in the list (cell above)\n",
    "to_remove = []\n",
    "for l in [hh_ordered, hh_bool, hh_cont, ind_bool, ind_ordered, ind_cont]:\n",
    "    for c in l:\n",
    "        if c not in data:\n",
    "            to_remove.append(c)\n",
    "            \n",
    "for l in [hh_ordered, hh_bool, hh_cont, ind_bool, ind_ordered, ind_cont]:\n",
    "    for c in to_remove:\n",
    "        if c in l:\n",
    "            l.remove(c)"
   ]
  },
  {
   "cell_type": "code",
   "execution_count": 17,
   "metadata": {},
   "outputs": [],
   "source": [
    "# Converting the datatype of the columns in the boolean list to boolean\n",
    "for variable in (hh_bool + ind_bool):\n",
    "    data[variable] = data[variable].astype('bool')"
   ]
  },
  {
   "cell_type": "code",
   "execution_count": 18,
   "metadata": {},
   "outputs": [],
   "source": [
    "# Converting the datatype of the columns in the continous list to floats\n",
    "for variable in (hh_cont + ind_cont):\n",
    "    data[variable] = data[variable].astype(float)"
   ]
  },
  {
   "cell_type": "code",
   "execution_count": 19,
   "metadata": {},
   "outputs": [
    {
     "name": "stdout",
     "output_type": "stream",
     "text": [
      "Could not convert rez_esc because of missing values.\n"
     ]
    }
   ],
   "source": [
    "# Converting the datatype of the columns in the ordered list to ints\n",
    "for variable in (hh_ordered + ind_ordered):\n",
    "    try:\n",
    "        data[variable] = data[variable].astype(int)\n",
    "    except Exception as e:\n",
    "        print(f'Could not convert {variable} because of missing values.')"
   ]
  },
  {
   "cell_type": "code",
   "execution_count": 20,
   "metadata": {},
   "outputs": [
    {
     "data": {
      "image/png": "[encoded data removed]",
      "text/plain": [
       "<Figure size 432x288 with 1 Axes>"
      ]
     },
     "metadata": {
      "needs_background": "light"
     },
     "output_type": "display_data"
    }
   ],
   "source": [
    "data.dtypes.value_counts().plot.bar(edgecolor = 'k');\n",
    "plt.title('Variable Type Distribution');"
   ]
  },
  {
   "cell_type": "markdown",
   "metadata": {},
   "source": [
    "#### Notes:\n",
    "- The majority of the data measures are booleans."
   ]
  },
  {
   "cell_type": "markdown",
   "metadata": {},
   "source": [
    "## Feature Tools"
   ]
  },
  {
   "cell_type": "markdown",
   "metadata": {},
   "source": [
    "### EntitySet and Entities\n",
    "\n",
    "For a more detailed overview: `/Users/alexguanga/All_Projects/exponential_learning/new_tools`\n",
    "\n",
    "**Entity**: \n",
    "- An entity is simply a table (or a DataFrame if you think in Pandas). \n",
    "\n",
    "**EntitySet**: \n",
    "- A collection of tables and the relationships between them."
   ]
  },
  {
   "cell_type": "code",
   "execution_count": 21,
   "metadata": {},
   "outputs": [
    {
     "data": {
      "text/plain": [
       "Entityset: households\n",
       "  Entities:\n",
       "    data [Rows: 33413, Columns: 144]\n",
       "  Relationships:\n",
       "    No relationships"
      ]
     },
     "execution_count": 21,
     "metadata": {},
     "output_type": "execute_result"
    }
   ],
   "source": [
    "# Creating an instance for households\n",
    "es = ft.EntitySet(id='households')\n",
    "\n",
    "# Building the featuretools archiecture with the entire dataset (entity_id is the id for this framework)\n",
    "es.entity_from_dataframe(entity_id='data', \n",
    "                         dataframe=data, \n",
    "                         index='Id')"
   ]
  },
  {
   "cell_type": "markdown",
   "metadata": {},
   "source": [
    "### Normalize Household Table\n",
    "- **Remember that the data entity is the entire dataset whereas the household entity is at the household level**\n",
    "- Normalization allows us to create another table with one unique row per instance. In this case, the instances are households. \n",
    "- The new table is derived from the data table and we need to bring along any of the household level variables. \n",
    "- Since these are the same for all members of a household, we can directly add these as columns in the household table using additional_variables. The index of the household table is idhogar which uniquely identifies each household.\n",
    "- `additional_variables` are the variables that will be passed into the household entity\n",
    "- Table Relationships\n",
    "    - Normalizing the entity automatically adds in the relationship between the parent, household, and the child, ind. This relationship links the two tables and allows us to create \"deep features\" by aggregating individuals in each household.\n",
    "    - The best way to think of a relationship between two tables is the analogy of parent to child. This is a one-to-many relationship: each parent can have multiple children. In the realm of tables, a parent table has one row for every child, but the child table may have multiple rows corresponding to multiple children of the same parent."
   ]
  },
  {
   "cell_type": "code",
   "execution_count": 22,
   "metadata": {},
   "outputs": [
    {
     "data": {
      "text/plain": [
       "Entityset: households\n",
       "  Entities:\n",
       "    data [Rows: 33413, Columns: 41]\n",
       "    households [Rows: 10340, Columns: 104]\n",
       "  Relationships:\n",
       "    data.idhogar -> households.idhogar"
      ]
     },
     "execution_count": 22,
     "metadata": {},
     "output_type": "execute_result"
    }
   ],
   "source": [
    "es.normalize_entity(base_entity_id='data', \n",
    "                    new_entity_id='households', \n",
    "                    index='idhogar', \n",
    "                    additional_variables=hh_bool + hh_ordered + hh_cont + ['Target'])\n",
    "es"
   ]
  },
  {
   "cell_type": "markdown",
   "metadata": {},
   "source": [
    "## Deep Feature Synthesis\n",
    "- Using feature primitives, Deep Feature Synthesis can build hundreds (or 1000s as we will later see) of features from the relationships between tables and the columns in tables themselves. There are two types of primitives, which are operations applied to data:\n",
    "    - Aggregation primitives: \n",
    "        - Operations completed across a parent-to-child (one-to-many) relationship that group by the parent and calculate stats for the children. \n",
    "        - These primitives take related instances as an input and output a single value. They are applied across a parent-child relationship in an entity set. E.g: `\"count\"`, `\"sum\"`, `\"avg_time_between\"`.\n",
    "    - Transform primitives: \n",
    "        - Operations done on a single table to one or more columns (i.e. the difference between two columns in one table).\n",
    "        - These primitives take one or more variables from an entity as an input and output a new variable for that entity. They are applied to a single entity. E.g: `\"hour\"`, `\"time_since_previous\"`, `\"absolute\"`\n"
   ]
  },
  {
   "cell_type": "code",
   "execution_count": 23,
   "metadata": {},
   "outputs": [],
   "source": [
    "#!ulimit -n 4096"
   ]
  },
  {
   "cell_type": "code",
   "execution_count": 23,
   "metadata": {},
   "outputs": [
    {
     "name": "stdout",
     "output_type": "stream",
     "text": [
      "Built 173 features\n",
      "EntitySet scattered to workers in 4.376 seconds\n",
      "Elapsed: 01:24 | Remaining: 00:00 | Progress: 100%|██████████| Calculated: 104/104 chunks\n"
     ]
    }
   ],
   "source": [
    "# Deep Feature Synthesis: Aggregation and Transform primitives are build as default\n",
    "# The max_depth parameter controls the maximum depth of the features returned by DFS\n",
    "# With a depth of 2, a number of features are generated using the supplied primitives\n",
    "feature_matrix, feature_names = ft.dfs(entityset=es, \n",
    "                                       target_entity='households', \n",
    "                                       max_depth=2, \n",
    "                                       verbose=1, \n",
    "                                       n_jobs=-1, \n",
    "                                       chunk_size=100)"
   ]
  },
  {
   "cell_type": "code",
   "execution_count": 24,
   "metadata": {},
   "outputs": [
    {
     "data": {
      "text/html": [
       "<div>\n",
       "<style scoped>\n",
       "    .dataframe tbody tr th:only-of-type {\n",
       "        vertical-align: middle;\n",
       "    }\n",
       "\n",
       "    .dataframe tbody tr th {\n",
       "        vertical-align: top;\n",
       "    }\n",
       "\n",
       "    .dataframe thead th {\n",
       "        text-align: right;\n",
       "    }\n",
       "</style>\n",
       "<table border=\"1\" class=\"dataframe\">\n",
       "  <thead>\n",
       "    <tr style=\"text-align: right;\">\n",
       "      <th></th>\n",
       "      <th>hacdor</th>\n",
       "      <th>hacapo</th>\n",
       "      <th>v14a</th>\n",
       "      <th>refrig</th>\n",
       "      <th>paredblolad</th>\n",
       "      <th>paredzocalo</th>\n",
       "      <th>paredpreb</th>\n",
       "      <th>pisocemento</th>\n",
       "      <th>pareddes</th>\n",
       "      <th>paredmad</th>\n",
       "      <th>...</th>\n",
       "      <th>PERCENT_TRUE(data.instlevel2)</th>\n",
       "      <th>PERCENT_TRUE(data.instlevel3)</th>\n",
       "      <th>PERCENT_TRUE(data.instlevel4)</th>\n",
       "      <th>PERCENT_TRUE(data.instlevel5)</th>\n",
       "      <th>PERCENT_TRUE(data.instlevel6)</th>\n",
       "      <th>PERCENT_TRUE(data.instlevel7)</th>\n",
       "      <th>PERCENT_TRUE(data.instlevel8)</th>\n",
       "      <th>PERCENT_TRUE(data.instlevel9)</th>\n",
       "      <th>PERCENT_TRUE(data.mobilephone)</th>\n",
       "      <th>PERCENT_TRUE(data.rez_esc-missing)</th>\n",
       "    </tr>\n",
       "    <tr>\n",
       "      <th>idhogar</th>\n",
       "      <th></th>\n",
       "      <th></th>\n",
       "      <th></th>\n",
       "      <th></th>\n",
       "      <th></th>\n",
       "      <th></th>\n",
       "      <th></th>\n",
       "      <th></th>\n",
       "      <th></th>\n",
       "      <th></th>\n",
       "      <th></th>\n",
       "      <th></th>\n",
       "      <th></th>\n",
       "      <th></th>\n",
       "      <th></th>\n",
       "      <th></th>\n",
       "      <th></th>\n",
       "      <th></th>\n",
       "      <th></th>\n",
       "      <th></th>\n",
       "      <th></th>\n",
       "    </tr>\n",
       "  </thead>\n",
       "  <tbody>\n",
       "    <tr>\n",
       "      <th>000a08204</th>\n",
       "      <td>False</td>\n",
       "      <td>False</td>\n",
       "      <td>True</td>\n",
       "      <td>True</td>\n",
       "      <td>True</td>\n",
       "      <td>False</td>\n",
       "      <td>False</td>\n",
       "      <td>False</td>\n",
       "      <td>False</td>\n",
       "      <td>False</td>\n",
       "      <td>...</td>\n",
       "      <td>0.0</td>\n",
       "      <td>0.00</td>\n",
       "      <td>0.00</td>\n",
       "      <td>0.00</td>\n",
       "      <td>0.0</td>\n",
       "      <td>0.0</td>\n",
       "      <td>0.666667</td>\n",
       "      <td>0.0</td>\n",
       "      <td>1.0</td>\n",
       "      <td>0.00</td>\n",
       "    </tr>\n",
       "    <tr>\n",
       "      <th>000bce7c4</th>\n",
       "      <td>False</td>\n",
       "      <td>False</td>\n",
       "      <td>True</td>\n",
       "      <td>True</td>\n",
       "      <td>False</td>\n",
       "      <td>True</td>\n",
       "      <td>False</td>\n",
       "      <td>False</td>\n",
       "      <td>False</td>\n",
       "      <td>False</td>\n",
       "      <td>...</td>\n",
       "      <td>0.5</td>\n",
       "      <td>0.00</td>\n",
       "      <td>0.00</td>\n",
       "      <td>0.00</td>\n",
       "      <td>0.0</td>\n",
       "      <td>0.0</td>\n",
       "      <td>0.000000</td>\n",
       "      <td>0.0</td>\n",
       "      <td>1.0</td>\n",
       "      <td>0.00</td>\n",
       "    </tr>\n",
       "    <tr>\n",
       "      <th>001845fb0</th>\n",
       "      <td>False</td>\n",
       "      <td>False</td>\n",
       "      <td>True</td>\n",
       "      <td>True</td>\n",
       "      <td>True</td>\n",
       "      <td>False</td>\n",
       "      <td>False</td>\n",
       "      <td>False</td>\n",
       "      <td>False</td>\n",
       "      <td>False</td>\n",
       "      <td>...</td>\n",
       "      <td>0.0</td>\n",
       "      <td>0.25</td>\n",
       "      <td>0.25</td>\n",
       "      <td>0.25</td>\n",
       "      <td>0.0</td>\n",
       "      <td>0.0</td>\n",
       "      <td>0.250000</td>\n",
       "      <td>0.0</td>\n",
       "      <td>1.0</td>\n",
       "      <td>0.25</td>\n",
       "    </tr>\n",
       "    <tr>\n",
       "      <th>001ff74ca</th>\n",
       "      <td>False</td>\n",
       "      <td>False</td>\n",
       "      <td>True</td>\n",
       "      <td>True</td>\n",
       "      <td>True</td>\n",
       "      <td>False</td>\n",
       "      <td>False</td>\n",
       "      <td>False</td>\n",
       "      <td>False</td>\n",
       "      <td>False</td>\n",
       "      <td>...</td>\n",
       "      <td>0.0</td>\n",
       "      <td>0.00</td>\n",
       "      <td>0.00</td>\n",
       "      <td>0.00</td>\n",
       "      <td>0.0</td>\n",
       "      <td>0.0</td>\n",
       "      <td>0.500000</td>\n",
       "      <td>0.0</td>\n",
       "      <td>1.0</td>\n",
       "      <td>0.00</td>\n",
       "    </tr>\n",
       "    <tr>\n",
       "      <th>003123ec2</th>\n",
       "      <td>False</td>\n",
       "      <td>False</td>\n",
       "      <td>True</td>\n",
       "      <td>True</td>\n",
       "      <td>False</td>\n",
       "      <td>False</td>\n",
       "      <td>True</td>\n",
       "      <td>True</td>\n",
       "      <td>False</td>\n",
       "      <td>False</td>\n",
       "      <td>...</td>\n",
       "      <td>0.0</td>\n",
       "      <td>0.25</td>\n",
       "      <td>0.25</td>\n",
       "      <td>0.00</td>\n",
       "      <td>0.0</td>\n",
       "      <td>0.0</td>\n",
       "      <td>0.000000</td>\n",
       "      <td>0.0</td>\n",
       "      <td>1.0</td>\n",
       "      <td>0.00</td>\n",
       "    </tr>\n",
       "  </tbody>\n",
       "</table>\n",
       "<p>5 rows × 173 columns</p>\n",
       "</div>"
      ],
      "text/plain": [
       "           hacdor  hacapo  v14a  refrig  paredblolad  paredzocalo  paredpreb  \\\n",
       "idhogar                                                                        \n",
       "000a08204   False   False  True    True         True        False      False   \n",
       "000bce7c4   False   False  True    True        False         True      False   \n",
       "001845fb0   False   False  True    True         True        False      False   \n",
       "001ff74ca   False   False  True    True         True        False      False   \n",
       "003123ec2   False   False  True    True        False        False       True   \n",
       "\n",
       "           pisocemento  pareddes  paredmad  \\\n",
       "idhogar                                      \n",
       "000a08204        False     False     False   \n",
       "000bce7c4        False     False     False   \n",
       "001845fb0        False     False     False   \n",
       "001ff74ca        False     False     False   \n",
       "003123ec2         True     False     False   \n",
       "\n",
       "                          ...                  PERCENT_TRUE(data.instlevel2)  \\\n",
       "idhogar                   ...                                                  \n",
       "000a08204                 ...                                            0.0   \n",
       "000bce7c4                 ...                                            0.5   \n",
       "001845fb0                 ...                                            0.0   \n",
       "001ff74ca                 ...                                            0.0   \n",
       "003123ec2                 ...                                            0.0   \n",
       "\n",
       "           PERCENT_TRUE(data.instlevel3)  PERCENT_TRUE(data.instlevel4)  \\\n",
       "idhogar                                                                   \n",
       "000a08204                           0.00                           0.00   \n",
       "000bce7c4                           0.00                           0.00   \n",
       "001845fb0                           0.25                           0.25   \n",
       "001ff74ca                           0.00                           0.00   \n",
       "003123ec2                           0.25                           0.25   \n",
       "\n",
       "           PERCENT_TRUE(data.instlevel5)  PERCENT_TRUE(data.instlevel6)  \\\n",
       "idhogar                                                                   \n",
       "000a08204                           0.00                            0.0   \n",
       "000bce7c4                           0.00                            0.0   \n",
       "001845fb0                           0.25                            0.0   \n",
       "001ff74ca                           0.00                            0.0   \n",
       "003123ec2                           0.00                            0.0   \n",
       "\n",
       "           PERCENT_TRUE(data.instlevel7)  PERCENT_TRUE(data.instlevel8)  \\\n",
       "idhogar                                                                   \n",
       "000a08204                            0.0                       0.666667   \n",
       "000bce7c4                            0.0                       0.000000   \n",
       "001845fb0                            0.0                       0.250000   \n",
       "001ff74ca                            0.0                       0.500000   \n",
       "003123ec2                            0.0                       0.000000   \n",
       "\n",
       "           PERCENT_TRUE(data.instlevel9)  PERCENT_TRUE(data.mobilephone)  \\\n",
       "idhogar                                                                    \n",
       "000a08204                            0.0                             1.0   \n",
       "000bce7c4                            0.0                             1.0   \n",
       "001845fb0                            0.0                             1.0   \n",
       "001ff74ca                            0.0                             1.0   \n",
       "003123ec2                            0.0                             1.0   \n",
       "\n",
       "           PERCENT_TRUE(data.rez_esc-missing)  \n",
       "idhogar                                        \n",
       "000a08204                                0.00  \n",
       "000bce7c4                                0.00  \n",
       "001845fb0                                0.25  \n",
       "001ff74ca                                0.00  \n",
       "003123ec2                                0.00  \n",
       "\n",
       "[5 rows x 173 columns]"
      ]
     },
     "execution_count": 24,
     "metadata": {},
     "output_type": "execute_result"
    }
   ],
   "source": [
    "all_features = [str(x.get_name()) for x in feature_names]\n",
    "feature_matrix.head()"
   ]
  },
  {
   "cell_type": "code",
   "execution_count": 25,
   "metadata": {},
   "outputs": [
    {
     "name": "stdout",
     "output_type": "stream",
     "text": [
      "[]\n"
     ]
    },
    {
     "data": {
      "text/html": [
       "<div>\n",
       "<style scoped>\n",
       "    .dataframe tbody tr th:only-of-type {\n",
       "        vertical-align: middle;\n",
       "    }\n",
       "\n",
       "    .dataframe tbody tr th {\n",
       "        vertical-align: top;\n",
       "    }\n",
       "\n",
       "    .dataframe thead th {\n",
       "        text-align: right;\n",
       "    }\n",
       "</style>\n",
       "<table border=\"1\" class=\"dataframe\">\n",
       "  <thead>\n",
       "    <tr style=\"text-align: right;\">\n",
       "      <th></th>\n",
       "      <th>hacdor</th>\n",
       "      <th>hacapo</th>\n",
       "      <th>v14a</th>\n",
       "      <th>refrig</th>\n",
       "      <th>paredblolad</th>\n",
       "      <th>paredzocalo</th>\n",
       "      <th>paredpreb</th>\n",
       "      <th>pisocemento</th>\n",
       "      <th>pareddes</th>\n",
       "      <th>paredmad</th>\n",
       "      <th>...</th>\n",
       "      <th>PERCENT_TRUE(data.instlevel2)</th>\n",
       "      <th>PERCENT_TRUE(data.instlevel3)</th>\n",
       "      <th>PERCENT_TRUE(data.instlevel4)</th>\n",
       "      <th>PERCENT_TRUE(data.instlevel5)</th>\n",
       "      <th>PERCENT_TRUE(data.instlevel6)</th>\n",
       "      <th>PERCENT_TRUE(data.instlevel7)</th>\n",
       "      <th>PERCENT_TRUE(data.instlevel8)</th>\n",
       "      <th>PERCENT_TRUE(data.instlevel9)</th>\n",
       "      <th>PERCENT_TRUE(data.mobilephone)</th>\n",
       "      <th>PERCENT_TRUE(data.rez_esc-missing)</th>\n",
       "    </tr>\n",
       "    <tr>\n",
       "      <th>idhogar</th>\n",
       "      <th></th>\n",
       "      <th></th>\n",
       "      <th></th>\n",
       "      <th></th>\n",
       "      <th></th>\n",
       "      <th></th>\n",
       "      <th></th>\n",
       "      <th></th>\n",
       "      <th></th>\n",
       "      <th></th>\n",
       "      <th></th>\n",
       "      <th></th>\n",
       "      <th></th>\n",
       "      <th></th>\n",
       "      <th></th>\n",
       "      <th></th>\n",
       "      <th></th>\n",
       "      <th></th>\n",
       "      <th></th>\n",
       "      <th></th>\n",
       "      <th></th>\n",
       "    </tr>\n",
       "  </thead>\n",
       "  <tbody>\n",
       "    <tr>\n",
       "      <th>000a08204</th>\n",
       "      <td>False</td>\n",
       "      <td>False</td>\n",
       "      <td>True</td>\n",
       "      <td>True</td>\n",
       "      <td>True</td>\n",
       "      <td>False</td>\n",
       "      <td>False</td>\n",
       "      <td>False</td>\n",
       "      <td>False</td>\n",
       "      <td>False</td>\n",
       "      <td>...</td>\n",
       "      <td>0.0</td>\n",
       "      <td>0.00</td>\n",
       "      <td>0.00</td>\n",
       "      <td>0.00</td>\n",
       "      <td>0.0</td>\n",
       "      <td>0.0</td>\n",
       "      <td>0.666667</td>\n",
       "      <td>0.0</td>\n",
       "      <td>1.0</td>\n",
       "      <td>0.00</td>\n",
       "    </tr>\n",
       "    <tr>\n",
       "      <th>000bce7c4</th>\n",
       "      <td>False</td>\n",
       "      <td>False</td>\n",
       "      <td>True</td>\n",
       "      <td>True</td>\n",
       "      <td>False</td>\n",
       "      <td>True</td>\n",
       "      <td>False</td>\n",
       "      <td>False</td>\n",
       "      <td>False</td>\n",
       "      <td>False</td>\n",
       "      <td>...</td>\n",
       "      <td>0.5</td>\n",
       "      <td>0.00</td>\n",
       "      <td>0.00</td>\n",
       "      <td>0.00</td>\n",
       "      <td>0.0</td>\n",
       "      <td>0.0</td>\n",
       "      <td>0.000000</td>\n",
       "      <td>0.0</td>\n",
       "      <td>1.0</td>\n",
       "      <td>0.00</td>\n",
       "    </tr>\n",
       "    <tr>\n",
       "      <th>001845fb0</th>\n",
       "      <td>False</td>\n",
       "      <td>False</td>\n",
       "      <td>True</td>\n",
       "      <td>True</td>\n",
       "      <td>True</td>\n",
       "      <td>False</td>\n",
       "      <td>False</td>\n",
       "      <td>False</td>\n",
       "      <td>False</td>\n",
       "      <td>False</td>\n",
       "      <td>...</td>\n",
       "      <td>0.0</td>\n",
       "      <td>0.25</td>\n",
       "      <td>0.25</td>\n",
       "      <td>0.25</td>\n",
       "      <td>0.0</td>\n",
       "      <td>0.0</td>\n",
       "      <td>0.250000</td>\n",
       "      <td>0.0</td>\n",
       "      <td>1.0</td>\n",
       "      <td>0.25</td>\n",
       "    </tr>\n",
       "    <tr>\n",
       "      <th>001ff74ca</th>\n",
       "      <td>False</td>\n",
       "      <td>False</td>\n",
       "      <td>True</td>\n",
       "      <td>True</td>\n",
       "      <td>True</td>\n",
       "      <td>False</td>\n",
       "      <td>False</td>\n",
       "      <td>False</td>\n",
       "      <td>False</td>\n",
       "      <td>False</td>\n",
       "      <td>...</td>\n",
       "      <td>0.0</td>\n",
       "      <td>0.00</td>\n",
       "      <td>0.00</td>\n",
       "      <td>0.00</td>\n",
       "      <td>0.0</td>\n",
       "      <td>0.0</td>\n",
       "      <td>0.500000</td>\n",
       "      <td>0.0</td>\n",
       "      <td>1.0</td>\n",
       "      <td>0.00</td>\n",
       "    </tr>\n",
       "    <tr>\n",
       "      <th>003123ec2</th>\n",
       "      <td>False</td>\n",
       "      <td>False</td>\n",
       "      <td>True</td>\n",
       "      <td>True</td>\n",
       "      <td>False</td>\n",
       "      <td>False</td>\n",
       "      <td>True</td>\n",
       "      <td>True</td>\n",
       "      <td>False</td>\n",
       "      <td>False</td>\n",
       "      <td>...</td>\n",
       "      <td>0.0</td>\n",
       "      <td>0.25</td>\n",
       "      <td>0.25</td>\n",
       "      <td>0.00</td>\n",
       "      <td>0.0</td>\n",
       "      <td>0.0</td>\n",
       "      <td>0.000000</td>\n",
       "      <td>0.0</td>\n",
       "      <td>1.0</td>\n",
       "      <td>0.00</td>\n",
       "    </tr>\n",
       "  </tbody>\n",
       "</table>\n",
       "<p>5 rows × 173 columns</p>\n",
       "</div>"
      ],
      "text/plain": [
       "           hacdor  hacapo  v14a  refrig  paredblolad  paredzocalo  paredpreb  \\\n",
       "idhogar                                                                        \n",
       "000a08204   False   False  True    True         True        False      False   \n",
       "000bce7c4   False   False  True    True        False         True      False   \n",
       "001845fb0   False   False  True    True         True        False      False   \n",
       "001ff74ca   False   False  True    True         True        False      False   \n",
       "003123ec2   False   False  True    True        False        False       True   \n",
       "\n",
       "           pisocemento  pareddes  paredmad  \\\n",
       "idhogar                                      \n",
       "000a08204        False     False     False   \n",
       "000bce7c4        False     False     False   \n",
       "001845fb0        False     False     False   \n",
       "001ff74ca        False     False     False   \n",
       "003123ec2         True     False     False   \n",
       "\n",
       "                          ...                  PERCENT_TRUE(data.instlevel2)  \\\n",
       "idhogar                   ...                                                  \n",
       "000a08204                 ...                                            0.0   \n",
       "000bce7c4                 ...                                            0.5   \n",
       "001845fb0                 ...                                            0.0   \n",
       "001ff74ca                 ...                                            0.0   \n",
       "003123ec2                 ...                                            0.0   \n",
       "\n",
       "           PERCENT_TRUE(data.instlevel3)  PERCENT_TRUE(data.instlevel4)  \\\n",
       "idhogar                                                                   \n",
       "000a08204                           0.00                           0.00   \n",
       "000bce7c4                           0.00                           0.00   \n",
       "001845fb0                           0.25                           0.25   \n",
       "001ff74ca                           0.00                           0.00   \n",
       "003123ec2                           0.25                           0.25   \n",
       "\n",
       "           PERCENT_TRUE(data.instlevel5)  PERCENT_TRUE(data.instlevel6)  \\\n",
       "idhogar                                                                   \n",
       "000a08204                           0.00                            0.0   \n",
       "000bce7c4                           0.00                            0.0   \n",
       "001845fb0                           0.25                            0.0   \n",
       "001ff74ca                           0.00                            0.0   \n",
       "003123ec2                           0.00                            0.0   \n",
       "\n",
       "           PERCENT_TRUE(data.instlevel7)  PERCENT_TRUE(data.instlevel8)  \\\n",
       "idhogar                                                                   \n",
       "000a08204                            0.0                       0.666667   \n",
       "000bce7c4                            0.0                       0.000000   \n",
       "001845fb0                            0.0                       0.250000   \n",
       "001ff74ca                            0.0                       0.500000   \n",
       "003123ec2                            0.0                       0.000000   \n",
       "\n",
       "           PERCENT_TRUE(data.instlevel9)  PERCENT_TRUE(data.mobilephone)  \\\n",
       "idhogar                                                                    \n",
       "000a08204                            0.0                             1.0   \n",
       "000bce7c4                            0.0                             1.0   \n",
       "001845fb0                            0.0                             1.0   \n",
       "001ff74ca                            0.0                             1.0   \n",
       "003123ec2                            0.0                             1.0   \n",
       "\n",
       "           PERCENT_TRUE(data.rez_esc-missing)  \n",
       "idhogar                                        \n",
       "000a08204                                0.00  \n",
       "000bce7c4                                0.00  \n",
       "001845fb0                                0.25  \n",
       "001ff74ca                                0.00  \n",
       "003123ec2                                0.00  \n",
       "\n",
       "[5 rows x 173 columns]"
      ]
     },
     "execution_count": 25,
     "metadata": {},
     "output_type": "execute_result"
    }
   ],
   "source": [
    "# Remove any columns that are a derivations of the target variable \n",
    "# These are created because some of transform primitives might have affected the Target.\n",
    "\n",
    "drop_cols = []\n",
    "for col in feature_matrix:\n",
    "    if col == 'Target':\n",
    "        pass\n",
    "    else:\n",
    "        if 'Target' in col:\n",
    "            drop_cols.append(col)\n",
    "            \n",
    "print(drop_cols)            \n",
    "feature_matrix = feature_matrix[[x for x in feature_matrix if x not in drop_cols]]         \n",
    "feature_matrix.head()"
   ]
  },
  {
   "cell_type": "code",
   "execution_count": 26,
   "metadata": {},
   "outputs": [
    {
     "data": {
      "text/plain": [
       "(10340, 173)"
      ]
     },
     "execution_count": 26,
     "metadata": {},
     "output_type": "execute_result"
    }
   ],
   "source": [
    "feature_matrix.shape"
   ]
  },
  {
   "cell_type": "markdown",
   "metadata": {},
   "source": [
    "## Feature Selection"
   ]
  },
  {
   "cell_type": "code",
   "execution_count": 27,
   "metadata": {},
   "outputs": [
    {
     "data": {
      "text/plain": [
       "['MIN(data.tech)', 'MEAN(data.tech)', 'COUNT(data)']"
      ]
     },
     "execution_count": 27,
     "metadata": {},
     "output_type": "execute_result"
    }
   ],
   "source": [
    "# Remove features that have an absolute inter-correlation value is greater than 0.99 \n",
    "\n",
    "corr_matrix, to_drop = get_corrs_matrix(feature_matrix, corr_threshold=.99)\n",
    "to_drop"
   ]
  },
  {
   "cell_type": "code",
   "execution_count": 28,
   "metadata": {},
   "outputs": [],
   "source": [
    "feature_matrix = feature_matrix[[x for x in feature_matrix if x not in to_drop]]"
   ]
  },
  {
   "cell_type": "code",
   "execution_count": 29,
   "metadata": {},
   "outputs": [
    {
     "data": {
      "text/html": [
       "<div>\n",
       "<style scoped>\n",
       "    .dataframe tbody tr th:only-of-type {\n",
       "        vertical-align: middle;\n",
       "    }\n",
       "\n",
       "    .dataframe tbody tr th {\n",
       "        vertical-align: top;\n",
       "    }\n",
       "\n",
       "    .dataframe thead th {\n",
       "        text-align: right;\n",
       "    }\n",
       "</style>\n",
       "<table border=\"1\" class=\"dataframe\">\n",
       "  <thead>\n",
       "    <tr style=\"text-align: right;\">\n",
       "      <th></th>\n",
       "      <th>hacdor</th>\n",
       "      <th>hacapo</th>\n",
       "      <th>v14a</th>\n",
       "      <th>refrig</th>\n",
       "      <th>paredblolad</th>\n",
       "      <th>paredzocalo</th>\n",
       "      <th>paredpreb</th>\n",
       "      <th>pisocemento</th>\n",
       "      <th>pareddes</th>\n",
       "      <th>paredmad</th>\n",
       "      <th>...</th>\n",
       "      <th>PERCENT_TRUE(data.instlevel2)</th>\n",
       "      <th>PERCENT_TRUE(data.instlevel3)</th>\n",
       "      <th>PERCENT_TRUE(data.instlevel4)</th>\n",
       "      <th>PERCENT_TRUE(data.instlevel5)</th>\n",
       "      <th>PERCENT_TRUE(data.instlevel6)</th>\n",
       "      <th>PERCENT_TRUE(data.instlevel7)</th>\n",
       "      <th>PERCENT_TRUE(data.instlevel8)</th>\n",
       "      <th>PERCENT_TRUE(data.instlevel9)</th>\n",
       "      <th>PERCENT_TRUE(data.mobilephone)</th>\n",
       "      <th>PERCENT_TRUE(data.rez_esc-missing)</th>\n",
       "    </tr>\n",
       "    <tr>\n",
       "      <th>idhogar</th>\n",
       "      <th></th>\n",
       "      <th></th>\n",
       "      <th></th>\n",
       "      <th></th>\n",
       "      <th></th>\n",
       "      <th></th>\n",
       "      <th></th>\n",
       "      <th></th>\n",
       "      <th></th>\n",
       "      <th></th>\n",
       "      <th></th>\n",
       "      <th></th>\n",
       "      <th></th>\n",
       "      <th></th>\n",
       "      <th></th>\n",
       "      <th></th>\n",
       "      <th></th>\n",
       "      <th></th>\n",
       "      <th></th>\n",
       "      <th></th>\n",
       "      <th></th>\n",
       "    </tr>\n",
       "  </thead>\n",
       "  <tbody>\n",
       "    <tr>\n",
       "      <th>000a08204</th>\n",
       "      <td>False</td>\n",
       "      <td>False</td>\n",
       "      <td>True</td>\n",
       "      <td>True</td>\n",
       "      <td>True</td>\n",
       "      <td>False</td>\n",
       "      <td>False</td>\n",
       "      <td>False</td>\n",
       "      <td>False</td>\n",
       "      <td>False</td>\n",
       "      <td>...</td>\n",
       "      <td>0.0</td>\n",
       "      <td>0.00</td>\n",
       "      <td>0.00</td>\n",
       "      <td>0.00</td>\n",
       "      <td>0.0</td>\n",
       "      <td>0.0</td>\n",
       "      <td>0.666667</td>\n",
       "      <td>0.0</td>\n",
       "      <td>1.0</td>\n",
       "      <td>0.00</td>\n",
       "    </tr>\n",
       "    <tr>\n",
       "      <th>000bce7c4</th>\n",
       "      <td>False</td>\n",
       "      <td>False</td>\n",
       "      <td>True</td>\n",
       "      <td>True</td>\n",
       "      <td>False</td>\n",
       "      <td>True</td>\n",
       "      <td>False</td>\n",
       "      <td>False</td>\n",
       "      <td>False</td>\n",
       "      <td>False</td>\n",
       "      <td>...</td>\n",
       "      <td>0.5</td>\n",
       "      <td>0.00</td>\n",
       "      <td>0.00</td>\n",
       "      <td>0.00</td>\n",
       "      <td>0.0</td>\n",
       "      <td>0.0</td>\n",
       "      <td>0.000000</td>\n",
       "      <td>0.0</td>\n",
       "      <td>1.0</td>\n",
       "      <td>0.00</td>\n",
       "    </tr>\n",
       "    <tr>\n",
       "      <th>001845fb0</th>\n",
       "      <td>False</td>\n",
       "      <td>False</td>\n",
       "      <td>True</td>\n",
       "      <td>True</td>\n",
       "      <td>True</td>\n",
       "      <td>False</td>\n",
       "      <td>False</td>\n",
       "      <td>False</td>\n",
       "      <td>False</td>\n",
       "      <td>False</td>\n",
       "      <td>...</td>\n",
       "      <td>0.0</td>\n",
       "      <td>0.25</td>\n",
       "      <td>0.25</td>\n",
       "      <td>0.25</td>\n",
       "      <td>0.0</td>\n",
       "      <td>0.0</td>\n",
       "      <td>0.250000</td>\n",
       "      <td>0.0</td>\n",
       "      <td>1.0</td>\n",
       "      <td>0.25</td>\n",
       "    </tr>\n",
       "    <tr>\n",
       "      <th>001ff74ca</th>\n",
       "      <td>False</td>\n",
       "      <td>False</td>\n",
       "      <td>True</td>\n",
       "      <td>True</td>\n",
       "      <td>True</td>\n",
       "      <td>False</td>\n",
       "      <td>False</td>\n",
       "      <td>False</td>\n",
       "      <td>False</td>\n",
       "      <td>False</td>\n",
       "      <td>...</td>\n",
       "      <td>0.0</td>\n",
       "      <td>0.00</td>\n",
       "      <td>0.00</td>\n",
       "      <td>0.00</td>\n",
       "      <td>0.0</td>\n",
       "      <td>0.0</td>\n",
       "      <td>0.500000</td>\n",
       "      <td>0.0</td>\n",
       "      <td>1.0</td>\n",
       "      <td>0.00</td>\n",
       "    </tr>\n",
       "    <tr>\n",
       "      <th>003123ec2</th>\n",
       "      <td>False</td>\n",
       "      <td>False</td>\n",
       "      <td>True</td>\n",
       "      <td>True</td>\n",
       "      <td>False</td>\n",
       "      <td>False</td>\n",
       "      <td>True</td>\n",
       "      <td>True</td>\n",
       "      <td>False</td>\n",
       "      <td>False</td>\n",
       "      <td>...</td>\n",
       "      <td>0.0</td>\n",
       "      <td>0.25</td>\n",
       "      <td>0.25</td>\n",
       "      <td>0.00</td>\n",
       "      <td>0.0</td>\n",
       "      <td>0.0</td>\n",
       "      <td>0.000000</td>\n",
       "      <td>0.0</td>\n",
       "      <td>1.0</td>\n",
       "      <td>0.00</td>\n",
       "    </tr>\n",
       "  </tbody>\n",
       "</table>\n",
       "<p>5 rows × 170 columns</p>\n",
       "</div>"
      ],
      "text/plain": [
       "           hacdor  hacapo  v14a  refrig  paredblolad  paredzocalo  paredpreb  \\\n",
       "idhogar                                                                        \n",
       "000a08204   False   False  True    True         True        False      False   \n",
       "000bce7c4   False   False  True    True        False         True      False   \n",
       "001845fb0   False   False  True    True         True        False      False   \n",
       "001ff74ca   False   False  True    True         True        False      False   \n",
       "003123ec2   False   False  True    True        False        False       True   \n",
       "\n",
       "           pisocemento  pareddes  paredmad  \\\n",
       "idhogar                                      \n",
       "000a08204        False     False     False   \n",
       "000bce7c4        False     False     False   \n",
       "001845fb0        False     False     False   \n",
       "001ff74ca        False     False     False   \n",
       "003123ec2         True     False     False   \n",
       "\n",
       "                          ...                  PERCENT_TRUE(data.instlevel2)  \\\n",
       "idhogar                   ...                                                  \n",
       "000a08204                 ...                                            0.0   \n",
       "000bce7c4                 ...                                            0.5   \n",
       "001845fb0                 ...                                            0.0   \n",
       "001ff74ca                 ...                                            0.0   \n",
       "003123ec2                 ...                                            0.0   \n",
       "\n",
       "           PERCENT_TRUE(data.instlevel3)  PERCENT_TRUE(data.instlevel4)  \\\n",
       "idhogar                                                                   \n",
       "000a08204                           0.00                           0.00   \n",
       "000bce7c4                           0.00                           0.00   \n",
       "001845fb0                           0.25                           0.25   \n",
       "001ff74ca                           0.00                           0.00   \n",
       "003123ec2                           0.25                           0.25   \n",
       "\n",
       "           PERCENT_TRUE(data.instlevel5)  PERCENT_TRUE(data.instlevel6)  \\\n",
       "idhogar                                                                   \n",
       "000a08204                           0.00                            0.0   \n",
       "000bce7c4                           0.00                            0.0   \n",
       "001845fb0                           0.25                            0.0   \n",
       "001ff74ca                           0.00                            0.0   \n",
       "003123ec2                           0.00                            0.0   \n",
       "\n",
       "           PERCENT_TRUE(data.instlevel7)  PERCENT_TRUE(data.instlevel8)  \\\n",
       "idhogar                                                                   \n",
       "000a08204                            0.0                       0.666667   \n",
       "000bce7c4                            0.0                       0.000000   \n",
       "001845fb0                            0.0                       0.250000   \n",
       "001ff74ca                            0.0                       0.500000   \n",
       "003123ec2                            0.0                       0.000000   \n",
       "\n",
       "           PERCENT_TRUE(data.instlevel9)  PERCENT_TRUE(data.mobilephone)  \\\n",
       "idhogar                                                                    \n",
       "000a08204                            0.0                             1.0   \n",
       "000bce7c4                            0.0                             1.0   \n",
       "001845fb0                            0.0                             1.0   \n",
       "001ff74ca                            0.0                             1.0   \n",
       "003123ec2                            0.0                             1.0   \n",
       "\n",
       "           PERCENT_TRUE(data.rez_esc-missing)  \n",
       "idhogar                                        \n",
       "000a08204                                0.00  \n",
       "000bce7c4                                0.00  \n",
       "001845fb0                                0.25  \n",
       "001ff74ca                                0.00  \n",
       "003123ec2                                0.00  \n",
       "\n",
       "[5 rows x 170 columns]"
      ]
     },
     "execution_count": 29,
     "metadata": {},
     "output_type": "execute_result"
    }
   ],
   "source": [
    "feature_matrix.head(5)"
   ]
  },
  {
   "cell_type": "markdown",
   "metadata": {},
   "source": [
    "## Machine Modeling: Training/Testing Sets"
   ]
  },
  {
   "cell_type": "code",
   "execution_count": 30,
   "metadata": {},
   "outputs": [
    {
     "data": {
      "text/html": [
       "<div>\n",
       "<style scoped>\n",
       "    .dataframe tbody tr th:only-of-type {\n",
       "        vertical-align: middle;\n",
       "    }\n",
       "\n",
       "    .dataframe tbody tr th {\n",
       "        vertical-align: top;\n",
       "    }\n",
       "\n",
       "    .dataframe thead th {\n",
       "        text-align: right;\n",
       "    }\n",
       "</style>\n",
       "<table border=\"1\" class=\"dataframe\">\n",
       "  <thead>\n",
       "    <tr style=\"text-align: right;\">\n",
       "      <th></th>\n",
       "      <th>idhogar</th>\n",
       "      <th>hacdor</th>\n",
       "      <th>hacapo</th>\n",
       "      <th>v14a</th>\n",
       "      <th>refrig</th>\n",
       "      <th>paredblolad</th>\n",
       "      <th>paredzocalo</th>\n",
       "      <th>paredpreb</th>\n",
       "      <th>pisocemento</th>\n",
       "      <th>pareddes</th>\n",
       "      <th>...</th>\n",
       "      <th>PERCENT_TRUE(data.instlevel2)</th>\n",
       "      <th>PERCENT_TRUE(data.instlevel3)</th>\n",
       "      <th>PERCENT_TRUE(data.instlevel4)</th>\n",
       "      <th>PERCENT_TRUE(data.instlevel5)</th>\n",
       "      <th>PERCENT_TRUE(data.instlevel6)</th>\n",
       "      <th>PERCENT_TRUE(data.instlevel7)</th>\n",
       "      <th>PERCENT_TRUE(data.instlevel8)</th>\n",
       "      <th>PERCENT_TRUE(data.instlevel9)</th>\n",
       "      <th>PERCENT_TRUE(data.mobilephone)</th>\n",
       "      <th>PERCENT_TRUE(data.rez_esc-missing)</th>\n",
       "    </tr>\n",
       "  </thead>\n",
       "  <tbody>\n",
       "    <tr>\n",
       "      <th>0</th>\n",
       "      <td>001ff74ca</td>\n",
       "      <td>False</td>\n",
       "      <td>False</td>\n",
       "      <td>True</td>\n",
       "      <td>True</td>\n",
       "      <td>True</td>\n",
       "      <td>False</td>\n",
       "      <td>False</td>\n",
       "      <td>False</td>\n",
       "      <td>False</td>\n",
       "      <td>...</td>\n",
       "      <td>0.0</td>\n",
       "      <td>0.00</td>\n",
       "      <td>0.000000</td>\n",
       "      <td>0.0</td>\n",
       "      <td>0.0</td>\n",
       "      <td>0.0</td>\n",
       "      <td>0.5</td>\n",
       "      <td>0.0</td>\n",
       "      <td>1.0</td>\n",
       "      <td>0.0</td>\n",
       "    </tr>\n",
       "    <tr>\n",
       "      <th>1</th>\n",
       "      <td>003123ec2</td>\n",
       "      <td>False</td>\n",
       "      <td>False</td>\n",
       "      <td>True</td>\n",
       "      <td>True</td>\n",
       "      <td>False</td>\n",
       "      <td>False</td>\n",
       "      <td>True</td>\n",
       "      <td>True</td>\n",
       "      <td>False</td>\n",
       "      <td>...</td>\n",
       "      <td>0.0</td>\n",
       "      <td>0.25</td>\n",
       "      <td>0.250000</td>\n",
       "      <td>0.0</td>\n",
       "      <td>0.0</td>\n",
       "      <td>0.0</td>\n",
       "      <td>0.0</td>\n",
       "      <td>0.0</td>\n",
       "      <td>1.0</td>\n",
       "      <td>0.0</td>\n",
       "    </tr>\n",
       "    <tr>\n",
       "      <th>2</th>\n",
       "      <td>004616164</td>\n",
       "      <td>False</td>\n",
       "      <td>False</td>\n",
       "      <td>True</td>\n",
       "      <td>True</td>\n",
       "      <td>False</td>\n",
       "      <td>False</td>\n",
       "      <td>False</td>\n",
       "      <td>False</td>\n",
       "      <td>False</td>\n",
       "      <td>...</td>\n",
       "      <td>0.5</td>\n",
       "      <td>0.00</td>\n",
       "      <td>0.000000</td>\n",
       "      <td>0.5</td>\n",
       "      <td>0.0</td>\n",
       "      <td>0.0</td>\n",
       "      <td>0.0</td>\n",
       "      <td>0.0</td>\n",
       "      <td>1.0</td>\n",
       "      <td>0.0</td>\n",
       "    </tr>\n",
       "    <tr>\n",
       "      <th>3</th>\n",
       "      <td>004983866</td>\n",
       "      <td>False</td>\n",
       "      <td>False</td>\n",
       "      <td>True</td>\n",
       "      <td>True</td>\n",
       "      <td>False</td>\n",
       "      <td>False</td>\n",
       "      <td>False</td>\n",
       "      <td>True</td>\n",
       "      <td>False</td>\n",
       "      <td>...</td>\n",
       "      <td>0.0</td>\n",
       "      <td>0.00</td>\n",
       "      <td>1.000000</td>\n",
       "      <td>0.0</td>\n",
       "      <td>0.0</td>\n",
       "      <td>0.0</td>\n",
       "      <td>0.0</td>\n",
       "      <td>0.0</td>\n",
       "      <td>1.0</td>\n",
       "      <td>0.0</td>\n",
       "    </tr>\n",
       "    <tr>\n",
       "      <th>4</th>\n",
       "      <td>005905417</td>\n",
       "      <td>False</td>\n",
       "      <td>False</td>\n",
       "      <td>True</td>\n",
       "      <td>False</td>\n",
       "      <td>False</td>\n",
       "      <td>True</td>\n",
       "      <td>False</td>\n",
       "      <td>False</td>\n",
       "      <td>False</td>\n",
       "      <td>...</td>\n",
       "      <td>0.0</td>\n",
       "      <td>0.00</td>\n",
       "      <td>0.666667</td>\n",
       "      <td>0.0</td>\n",
       "      <td>0.0</td>\n",
       "      <td>0.0</td>\n",
       "      <td>0.0</td>\n",
       "      <td>0.0</td>\n",
       "      <td>1.0</td>\n",
       "      <td>0.0</td>\n",
       "    </tr>\n",
       "  </tbody>\n",
       "</table>\n",
       "<p>5 rows × 171 columns</p>\n",
       "</div>"
      ],
      "text/plain": [
       "     idhogar  hacdor  hacapo  v14a  refrig  paredblolad  paredzocalo  \\\n",
       "0  001ff74ca   False   False  True    True         True        False   \n",
       "1  003123ec2   False   False  True    True        False        False   \n",
       "2  004616164   False   False  True    True        False        False   \n",
       "3  004983866   False   False  True    True        False        False   \n",
       "4  005905417   False   False  True   False        False         True   \n",
       "\n",
       "   paredpreb  pisocemento  pareddes                 ...                  \\\n",
       "0      False        False     False                 ...                   \n",
       "1       True         True     False                 ...                   \n",
       "2      False        False     False                 ...                   \n",
       "3      False         True     False                 ...                   \n",
       "4      False        False     False                 ...                   \n",
       "\n",
       "   PERCENT_TRUE(data.instlevel2)  PERCENT_TRUE(data.instlevel3)  \\\n",
       "0                            0.0                           0.00   \n",
       "1                            0.0                           0.25   \n",
       "2                            0.5                           0.00   \n",
       "3                            0.0                           0.00   \n",
       "4                            0.0                           0.00   \n",
       "\n",
       "   PERCENT_TRUE(data.instlevel4)  PERCENT_TRUE(data.instlevel5)  \\\n",
       "0                       0.000000                            0.0   \n",
       "1                       0.250000                            0.0   \n",
       "2                       0.000000                            0.5   \n",
       "3                       1.000000                            0.0   \n",
       "4                       0.666667                            0.0   \n",
       "\n",
       "   PERCENT_TRUE(data.instlevel6)  PERCENT_TRUE(data.instlevel7)  \\\n",
       "0                            0.0                            0.0   \n",
       "1                            0.0                            0.0   \n",
       "2                            0.0                            0.0   \n",
       "3                            0.0                            0.0   \n",
       "4                            0.0                            0.0   \n",
       "\n",
       "   PERCENT_TRUE(data.instlevel8)  PERCENT_TRUE(data.instlevel9)  \\\n",
       "0                            0.5                            0.0   \n",
       "1                            0.0                            0.0   \n",
       "2                            0.0                            0.0   \n",
       "3                            0.0                            0.0   \n",
       "4                            0.0                            0.0   \n",
       "\n",
       "   PERCENT_TRUE(data.mobilephone)  PERCENT_TRUE(data.rez_esc-missing)  \n",
       "0                             1.0                                 0.0  \n",
       "1                             1.0                                 0.0  \n",
       "2                             1.0                                 0.0  \n",
       "3                             1.0                                 0.0  \n",
       "4                             1.0                                 0.0  \n",
       "\n",
       "[5 rows x 171 columns]"
      ]
     },
     "execution_count": 30,
     "metadata": {},
     "output_type": "execute_result"
    }
   ],
   "source": [
    "train = feature_matrix[feature_matrix['Target'].notnull()].reset_index()\n",
    "test = feature_matrix[feature_matrix['Target'].isnull()].reset_index()\n",
    "train.head()"
   ]
  },
  {
   "cell_type": "markdown",
   "metadata": {},
   "source": [
    "## Data Analysis: Target"
   ]
  },
  {
   "cell_type": "markdown",
   "metadata": {},
   "source": [
    "### Correlation with Target"
   ]
  },
  {
   "cell_type": "code",
   "execution_count": 31,
   "metadata": {},
   "outputs": [
    {
     "data": {
      "text/plain": [
       "warning                           -0.300071\n",
       "hogar_nin                         -0.268105\n",
       "r4t1                              -0.256750\n",
       "PERCENT_TRUE(data.instlevel1)     -0.249333\n",
       "PERCENT_TRUE(data.instlevel2)     -0.245484\n",
       "overcrowding                      -0.238148\n",
       "PERCENT_TRUE(data.estadocivil1)   -0.215546\n",
       "eviv1                             -0.215123\n",
       "epared1                           -0.212209\n",
       "pisocemento                       -0.209285\n",
       "Name: Target, dtype: float64"
      ]
     },
     "execution_count": 31,
     "metadata": {},
     "output_type": "execute_result"
    }
   ],
   "source": [
    "corrs = train.corr()\n",
    "corrs['Target'].sort_values(ascending = True).head(10)"
   ]
  },
  {
   "cell_type": "code",
   "execution_count": 32,
   "metadata": {},
   "outputs": [
    {
     "data": {
      "text/plain": [
       "eviv3                  0.293213\n",
       "cielorazo              0.293420\n",
       "phones-per-capita      0.299235\n",
       "walls                  0.301236\n",
       "MIN(data.escolari)     0.303855\n",
       "floor                  0.305943\n",
       "meaneduc               0.332315\n",
       "MAX(data.escolari)     0.371422\n",
       "MEAN(data.escolari)    0.420514\n",
       "Target                 1.000000\n",
       "Name: Target, dtype: float64"
      ]
     },
     "execution_count": 32,
     "metadata": {},
     "output_type": "execute_result"
    }
   ],
   "source": [
    "corrs['Target'].sort_values(ascending=True).dropna().tail(10)"
   ]
  },
  {
   "cell_type": "markdown",
   "metadata": {},
   "source": [
    "#### Notes:\n",
    "- Based of correlation, we notice that `warning`, `hogar_nin`, and `r4t1` have the worst correlation with `Target`\n",
    "    - `hogar_nin`: Number of children 0 to 19 in household\n",
    "    - `warning`: No toilet, no electricity, no floor, no water service, no ceiling\n",
    "    - `r4t1`: persons younger than 12 years of age\n",
    "- Based of correlation, we notice that `MEAN(data.escolari)`, `MAX(data.escolari)`, and `meaneduc` have the best correlation with `Target`"
   ]
  },
  {
   "cell_type": "markdown",
   "metadata": {},
   "source": [
    "## Subset to Relevant Data\n"
   ]
  },
  {
   "cell_type": "code",
   "execution_count": 33,
   "metadata": {},
   "outputs": [
    {
     "data": {
      "text/html": [
       "<div>\n",
       "<style scoped>\n",
       "    .dataframe tbody tr th:only-of-type {\n",
       "        vertical-align: middle;\n",
       "    }\n",
       "\n",
       "    .dataframe tbody tr th {\n",
       "        vertical-align: top;\n",
       "    }\n",
       "\n",
       "    .dataframe thead th {\n",
       "        text-align: right;\n",
       "    }\n",
       "</style>\n",
       "<table border=\"1\" class=\"dataframe\">\n",
       "  <thead>\n",
       "    <tr style=\"text-align: right;\">\n",
       "      <th></th>\n",
       "      <th>idhogar</th>\n",
       "      <th>hacdor</th>\n",
       "      <th>hacapo</th>\n",
       "      <th>v14a</th>\n",
       "      <th>refrig</th>\n",
       "      <th>paredblolad</th>\n",
       "      <th>paredzocalo</th>\n",
       "      <th>paredpreb</th>\n",
       "      <th>pisocemento</th>\n",
       "      <th>pareddes</th>\n",
       "      <th>...</th>\n",
       "      <th>PERCENT_TRUE(data.instlevel2)</th>\n",
       "      <th>PERCENT_TRUE(data.instlevel3)</th>\n",
       "      <th>PERCENT_TRUE(data.instlevel4)</th>\n",
       "      <th>PERCENT_TRUE(data.instlevel5)</th>\n",
       "      <th>PERCENT_TRUE(data.instlevel6)</th>\n",
       "      <th>PERCENT_TRUE(data.instlevel7)</th>\n",
       "      <th>PERCENT_TRUE(data.instlevel8)</th>\n",
       "      <th>PERCENT_TRUE(data.instlevel9)</th>\n",
       "      <th>PERCENT_TRUE(data.mobilephone)</th>\n",
       "      <th>PERCENT_TRUE(data.rez_esc-missing)</th>\n",
       "    </tr>\n",
       "  </thead>\n",
       "  <tbody>\n",
       "    <tr>\n",
       "      <th>0</th>\n",
       "      <td>001ff74ca</td>\n",
       "      <td>False</td>\n",
       "      <td>False</td>\n",
       "      <td>True</td>\n",
       "      <td>True</td>\n",
       "      <td>True</td>\n",
       "      <td>False</td>\n",
       "      <td>False</td>\n",
       "      <td>False</td>\n",
       "      <td>False</td>\n",
       "      <td>...</td>\n",
       "      <td>0.0</td>\n",
       "      <td>0.00</td>\n",
       "      <td>0.000000</td>\n",
       "      <td>0.0</td>\n",
       "      <td>0.0</td>\n",
       "      <td>0.0</td>\n",
       "      <td>0.5</td>\n",
       "      <td>0.0</td>\n",
       "      <td>1.0</td>\n",
       "      <td>0.0</td>\n",
       "    </tr>\n",
       "    <tr>\n",
       "      <th>1</th>\n",
       "      <td>003123ec2</td>\n",
       "      <td>False</td>\n",
       "      <td>False</td>\n",
       "      <td>True</td>\n",
       "      <td>True</td>\n",
       "      <td>False</td>\n",
       "      <td>False</td>\n",
       "      <td>True</td>\n",
       "      <td>True</td>\n",
       "      <td>False</td>\n",
       "      <td>...</td>\n",
       "      <td>0.0</td>\n",
       "      <td>0.25</td>\n",
       "      <td>0.250000</td>\n",
       "      <td>0.0</td>\n",
       "      <td>0.0</td>\n",
       "      <td>0.0</td>\n",
       "      <td>0.0</td>\n",
       "      <td>0.0</td>\n",
       "      <td>1.0</td>\n",
       "      <td>0.0</td>\n",
       "    </tr>\n",
       "    <tr>\n",
       "      <th>2</th>\n",
       "      <td>004616164</td>\n",
       "      <td>False</td>\n",
       "      <td>False</td>\n",
       "      <td>True</td>\n",
       "      <td>True</td>\n",
       "      <td>False</td>\n",
       "      <td>False</td>\n",
       "      <td>False</td>\n",
       "      <td>False</td>\n",
       "      <td>False</td>\n",
       "      <td>...</td>\n",
       "      <td>0.5</td>\n",
       "      <td>0.00</td>\n",
       "      <td>0.000000</td>\n",
       "      <td>0.5</td>\n",
       "      <td>0.0</td>\n",
       "      <td>0.0</td>\n",
       "      <td>0.0</td>\n",
       "      <td>0.0</td>\n",
       "      <td>1.0</td>\n",
       "      <td>0.0</td>\n",
       "    </tr>\n",
       "    <tr>\n",
       "      <th>3</th>\n",
       "      <td>004983866</td>\n",
       "      <td>False</td>\n",
       "      <td>False</td>\n",
       "      <td>True</td>\n",
       "      <td>True</td>\n",
       "      <td>False</td>\n",
       "      <td>False</td>\n",
       "      <td>False</td>\n",
       "      <td>True</td>\n",
       "      <td>False</td>\n",
       "      <td>...</td>\n",
       "      <td>0.0</td>\n",
       "      <td>0.00</td>\n",
       "      <td>1.000000</td>\n",
       "      <td>0.0</td>\n",
       "      <td>0.0</td>\n",
       "      <td>0.0</td>\n",
       "      <td>0.0</td>\n",
       "      <td>0.0</td>\n",
       "      <td>1.0</td>\n",
       "      <td>0.0</td>\n",
       "    </tr>\n",
       "    <tr>\n",
       "      <th>4</th>\n",
       "      <td>005905417</td>\n",
       "      <td>False</td>\n",
       "      <td>False</td>\n",
       "      <td>True</td>\n",
       "      <td>False</td>\n",
       "      <td>False</td>\n",
       "      <td>True</td>\n",
       "      <td>False</td>\n",
       "      <td>False</td>\n",
       "      <td>False</td>\n",
       "      <td>...</td>\n",
       "      <td>0.0</td>\n",
       "      <td>0.00</td>\n",
       "      <td>0.666667</td>\n",
       "      <td>0.0</td>\n",
       "      <td>0.0</td>\n",
       "      <td>0.0</td>\n",
       "      <td>0.0</td>\n",
       "      <td>0.0</td>\n",
       "      <td>1.0</td>\n",
       "      <td>0.0</td>\n",
       "    </tr>\n",
       "  </tbody>\n",
       "</table>\n",
       "<p>5 rows × 171 columns</p>\n",
       "</div>"
      ],
      "text/plain": [
       "     idhogar  hacdor  hacapo  v14a  refrig  paredblolad  paredzocalo  \\\n",
       "0  001ff74ca   False   False  True    True         True        False   \n",
       "1  003123ec2   False   False  True    True        False        False   \n",
       "2  004616164   False   False  True    True        False        False   \n",
       "3  004983866   False   False  True    True        False        False   \n",
       "4  005905417   False   False  True   False        False         True   \n",
       "\n",
       "   paredpreb  pisocemento  pareddes                 ...                  \\\n",
       "0      False        False     False                 ...                   \n",
       "1       True         True     False                 ...                   \n",
       "2      False        False     False                 ...                   \n",
       "3      False         True     False                 ...                   \n",
       "4      False        False     False                 ...                   \n",
       "\n",
       "   PERCENT_TRUE(data.instlevel2)  PERCENT_TRUE(data.instlevel3)  \\\n",
       "0                            0.0                           0.00   \n",
       "1                            0.0                           0.25   \n",
       "2                            0.5                           0.00   \n",
       "3                            0.0                           0.00   \n",
       "4                            0.0                           0.00   \n",
       "\n",
       "   PERCENT_TRUE(data.instlevel4)  PERCENT_TRUE(data.instlevel5)  \\\n",
       "0                       0.000000                            0.0   \n",
       "1                       0.250000                            0.0   \n",
       "2                       0.000000                            0.5   \n",
       "3                       1.000000                            0.0   \n",
       "4                       0.666667                            0.0   \n",
       "\n",
       "   PERCENT_TRUE(data.instlevel6)  PERCENT_TRUE(data.instlevel7)  \\\n",
       "0                            0.0                            0.0   \n",
       "1                            0.0                            0.0   \n",
       "2                            0.0                            0.0   \n",
       "3                            0.0                            0.0   \n",
       "4                            0.0                            0.0   \n",
       "\n",
       "   PERCENT_TRUE(data.instlevel8)  PERCENT_TRUE(data.instlevel9)  \\\n",
       "0                            0.5                            0.0   \n",
       "1                            0.0                            0.0   \n",
       "2                            0.0                            0.0   \n",
       "3                            0.0                            0.0   \n",
       "4                            0.0                            0.0   \n",
       "\n",
       "   PERCENT_TRUE(data.mobilephone)  PERCENT_TRUE(data.rez_esc-missing)  \n",
       "0                             1.0                                 0.0  \n",
       "1                             1.0                                 0.0  \n",
       "2                             1.0                                 0.0  \n",
       "3                             1.0                                 0.0  \n",
       "4                             1.0                                 0.0  \n",
       "\n",
       "[5 rows x 171 columns]"
      ]
     },
     "execution_count": 33,
     "metadata": {},
     "output_type": "execute_result"
    }
   ],
   "source": [
    "# Removing rows from training set we do not have idhogar\n",
    "train = train[train['idhogar'].isin(list(train_valid['idhogar']))]\n",
    "train.head()"
   ]
  },
  {
   "cell_type": "code",
   "execution_count": 34,
   "metadata": {},
   "outputs": [
    {
     "data": {
      "text/html": [
       "<div>\n",
       "<style scoped>\n",
       "    .dataframe tbody tr th:only-of-type {\n",
       "        vertical-align: middle;\n",
       "    }\n",
       "\n",
       "    .dataframe tbody tr th {\n",
       "        vertical-align: top;\n",
       "    }\n",
       "\n",
       "    .dataframe thead th {\n",
       "        text-align: right;\n",
       "    }\n",
       "</style>\n",
       "<table border=\"1\" class=\"dataframe\">\n",
       "  <thead>\n",
       "    <tr style=\"text-align: right;\">\n",
       "      <th></th>\n",
       "      <th>idhogar</th>\n",
       "      <th>hacdor</th>\n",
       "      <th>hacapo</th>\n",
       "      <th>v14a</th>\n",
       "      <th>refrig</th>\n",
       "      <th>paredblolad</th>\n",
       "      <th>paredzocalo</th>\n",
       "      <th>paredpreb</th>\n",
       "      <th>pisocemento</th>\n",
       "      <th>pareddes</th>\n",
       "      <th>...</th>\n",
       "      <th>PERCENT_TRUE(data.instlevel2)</th>\n",
       "      <th>PERCENT_TRUE(data.instlevel3)</th>\n",
       "      <th>PERCENT_TRUE(data.instlevel4)</th>\n",
       "      <th>PERCENT_TRUE(data.instlevel5)</th>\n",
       "      <th>PERCENT_TRUE(data.instlevel6)</th>\n",
       "      <th>PERCENT_TRUE(data.instlevel7)</th>\n",
       "      <th>PERCENT_TRUE(data.instlevel8)</th>\n",
       "      <th>PERCENT_TRUE(data.instlevel9)</th>\n",
       "      <th>PERCENT_TRUE(data.mobilephone)</th>\n",
       "      <th>PERCENT_TRUE(data.rez_esc-missing)</th>\n",
       "    </tr>\n",
       "  </thead>\n",
       "  <tbody>\n",
       "    <tr>\n",
       "      <th>0</th>\n",
       "      <td>000a08204</td>\n",
       "      <td>False</td>\n",
       "      <td>False</td>\n",
       "      <td>True</td>\n",
       "      <td>True</td>\n",
       "      <td>True</td>\n",
       "      <td>False</td>\n",
       "      <td>False</td>\n",
       "      <td>False</td>\n",
       "      <td>False</td>\n",
       "      <td>...</td>\n",
       "      <td>0.00</td>\n",
       "      <td>0.00</td>\n",
       "      <td>0.00</td>\n",
       "      <td>0.00</td>\n",
       "      <td>0.0</td>\n",
       "      <td>0.0</td>\n",
       "      <td>0.666667</td>\n",
       "      <td>0.0</td>\n",
       "      <td>1.0</td>\n",
       "      <td>0.00</td>\n",
       "    </tr>\n",
       "    <tr>\n",
       "      <th>1</th>\n",
       "      <td>000bce7c4</td>\n",
       "      <td>False</td>\n",
       "      <td>False</td>\n",
       "      <td>True</td>\n",
       "      <td>True</td>\n",
       "      <td>False</td>\n",
       "      <td>True</td>\n",
       "      <td>False</td>\n",
       "      <td>False</td>\n",
       "      <td>False</td>\n",
       "      <td>...</td>\n",
       "      <td>0.50</td>\n",
       "      <td>0.00</td>\n",
       "      <td>0.00</td>\n",
       "      <td>0.00</td>\n",
       "      <td>0.0</td>\n",
       "      <td>0.0</td>\n",
       "      <td>0.000000</td>\n",
       "      <td>0.0</td>\n",
       "      <td>1.0</td>\n",
       "      <td>0.00</td>\n",
       "    </tr>\n",
       "    <tr>\n",
       "      <th>2</th>\n",
       "      <td>001845fb0</td>\n",
       "      <td>False</td>\n",
       "      <td>False</td>\n",
       "      <td>True</td>\n",
       "      <td>True</td>\n",
       "      <td>True</td>\n",
       "      <td>False</td>\n",
       "      <td>False</td>\n",
       "      <td>False</td>\n",
       "      <td>False</td>\n",
       "      <td>...</td>\n",
       "      <td>0.00</td>\n",
       "      <td>0.25</td>\n",
       "      <td>0.25</td>\n",
       "      <td>0.25</td>\n",
       "      <td>0.0</td>\n",
       "      <td>0.0</td>\n",
       "      <td>0.250000</td>\n",
       "      <td>0.0</td>\n",
       "      <td>1.0</td>\n",
       "      <td>0.25</td>\n",
       "    </tr>\n",
       "    <tr>\n",
       "      <th>3</th>\n",
       "      <td>003514e22</td>\n",
       "      <td>False</td>\n",
       "      <td>False</td>\n",
       "      <td>True</td>\n",
       "      <td>True</td>\n",
       "      <td>False</td>\n",
       "      <td>False</td>\n",
       "      <td>True</td>\n",
       "      <td>False</td>\n",
       "      <td>False</td>\n",
       "      <td>...</td>\n",
       "      <td>0.00</td>\n",
       "      <td>0.25</td>\n",
       "      <td>0.25</td>\n",
       "      <td>0.00</td>\n",
       "      <td>0.0</td>\n",
       "      <td>0.0</td>\n",
       "      <td>0.250000</td>\n",
       "      <td>0.0</td>\n",
       "      <td>1.0</td>\n",
       "      <td>0.00</td>\n",
       "    </tr>\n",
       "    <tr>\n",
       "      <th>4</th>\n",
       "      <td>003b51a87</td>\n",
       "      <td>False</td>\n",
       "      <td>False</td>\n",
       "      <td>True</td>\n",
       "      <td>True</td>\n",
       "      <td>False</td>\n",
       "      <td>False</td>\n",
       "      <td>False</td>\n",
       "      <td>False</td>\n",
       "      <td>True</td>\n",
       "      <td>...</td>\n",
       "      <td>0.75</td>\n",
       "      <td>0.25</td>\n",
       "      <td>0.00</td>\n",
       "      <td>0.00</td>\n",
       "      <td>0.0</td>\n",
       "      <td>0.0</td>\n",
       "      <td>0.000000</td>\n",
       "      <td>0.0</td>\n",
       "      <td>1.0</td>\n",
       "      <td>0.00</td>\n",
       "    </tr>\n",
       "  </tbody>\n",
       "</table>\n",
       "<p>5 rows × 171 columns</p>\n",
       "</div>"
      ],
      "text/plain": [
       "     idhogar  hacdor  hacapo  v14a  refrig  paredblolad  paredzocalo  \\\n",
       "0  000a08204   False   False  True    True         True        False   \n",
       "1  000bce7c4   False   False  True    True        False         True   \n",
       "2  001845fb0   False   False  True    True         True        False   \n",
       "3  003514e22   False   False  True    True        False        False   \n",
       "4  003b51a87   False   False  True    True        False        False   \n",
       "\n",
       "   paredpreb  pisocemento  pareddes                 ...                  \\\n",
       "0      False        False     False                 ...                   \n",
       "1      False        False     False                 ...                   \n",
       "2      False        False     False                 ...                   \n",
       "3       True        False     False                 ...                   \n",
       "4      False        False      True                 ...                   \n",
       "\n",
       "   PERCENT_TRUE(data.instlevel2)  PERCENT_TRUE(data.instlevel3)  \\\n",
       "0                           0.00                           0.00   \n",
       "1                           0.50                           0.00   \n",
       "2                           0.00                           0.25   \n",
       "3                           0.00                           0.25   \n",
       "4                           0.75                           0.25   \n",
       "\n",
       "   PERCENT_TRUE(data.instlevel4)  PERCENT_TRUE(data.instlevel5)  \\\n",
       "0                           0.00                           0.00   \n",
       "1                           0.00                           0.00   \n",
       "2                           0.25                           0.25   \n",
       "3                           0.25                           0.00   \n",
       "4                           0.00                           0.00   \n",
       "\n",
       "   PERCENT_TRUE(data.instlevel6)  PERCENT_TRUE(data.instlevel7)  \\\n",
       "0                            0.0                            0.0   \n",
       "1                            0.0                            0.0   \n",
       "2                            0.0                            0.0   \n",
       "3                            0.0                            0.0   \n",
       "4                            0.0                            0.0   \n",
       "\n",
       "   PERCENT_TRUE(data.instlevel8)  PERCENT_TRUE(data.instlevel9)  \\\n",
       "0                       0.666667                            0.0   \n",
       "1                       0.000000                            0.0   \n",
       "2                       0.250000                            0.0   \n",
       "3                       0.250000                            0.0   \n",
       "4                       0.000000                            0.0   \n",
       "\n",
       "   PERCENT_TRUE(data.mobilephone)  PERCENT_TRUE(data.rez_esc-missing)  \n",
       "0                             1.0                                0.00  \n",
       "1                             1.0                                0.00  \n",
       "2                             1.0                                0.25  \n",
       "3                             1.0                                0.00  \n",
       "4                             1.0                                0.00  \n",
       "\n",
       "[5 rows x 171 columns]"
      ]
     },
     "execution_count": 34,
     "metadata": {},
     "output_type": "execute_result"
    }
   ],
   "source": [
    "# Removing rows from testing set where we do not have idhogar\n",
    "test = test[test['idhogar'].isin(list(test_valid['idhogar']))]\n",
    "test.head()"
   ]
  },
  {
   "cell_type": "code",
   "execution_count": 35,
   "metadata": {},
   "outputs": [],
   "source": [
    "# Labels for training\n",
    "train_labels = np.array(train.pop('Target')).reshape(-1, )\n",
    "test_ids = list(test.pop('idhogar'))"
   ]
  },
  {
   "cell_type": "code",
   "execution_count": 36,
   "metadata": {},
   "outputs": [
    {
     "data": {
      "text/plain": [
       "(2973, 169)"
      ]
     },
     "execution_count": 36,
     "metadata": {},
     "output_type": "execute_result"
    }
   ],
   "source": [
    "train, test = train.align(test, axis = 1, join = 'inner')\n",
    "all_features = list(train.columns)\n",
    "train.shape"
   ]
  },
  {
   "cell_type": "code",
   "execution_count": 37,
   "metadata": {},
   "outputs": [
    {
     "data": {
      "text/plain": [
       "(2973, 169)"
      ]
     },
     "execution_count": 37,
     "metadata": {},
     "output_type": "execute_result"
    }
   ],
   "source": [
    "train.shape"
   ]
  },
  {
   "cell_type": "code",
   "execution_count": 38,
   "metadata": {},
   "outputs": [
    {
     "data": {
      "text/plain": [
       "(7334, 169)"
      ]
     },
     "execution_count": 38,
     "metadata": {},
     "output_type": "execute_result"
    }
   ],
   "source": [
    "test.shape"
   ]
  },
  {
   "cell_type": "markdown",
   "metadata": {},
   "source": [
    "## Modeling"
   ]
  },
  {
   "cell_type": "code",
   "execution_count": 41,
   "metadata": {},
   "outputs": [],
   "source": [
    "%%capture\n",
    "\n",
    "# Visualization\n",
    "import matplotlib.pyplot as plt\n",
    "import seaborn as sns\n",
    "from IPython.display import display\n",
    "\n",
    "from collections import Counter\n",
    "from sklearn.metrics import f1_score, make_scorer\n",
    "from sklearn.model_selection import StratifiedKFold\n",
    "\n",
    "import lightgbm as lgb"
   ]
  },
  {
   "cell_type": "code",
   "execution_count": 40,
   "metadata": {},
   "outputs": [],
   "source": [
    "def macro_f1_score(labels, predictions):\n",
    "    # Reshape the predictions as needed\n",
    "    predictions = predictions.reshape(len(np.unique(labels)), -1).argmax(axis = 0)\n",
    "    \n",
    "    metric_value = f1_score(labels, predictions, average = 'macro')\n",
    "    \n",
    "    # Return is name, value, is_higher_better\n",
    "    return 'macro_f1', metric_value, True"
   ]
  },
  {
   "cell_type": "markdown",
   "metadata": {},
   "source": [
    "#### Notes:\n",
    "- *The F1 score can be interpreted as a weighted average of the precision and recall, where an F1 score reaches its best value at 1 and worst score at 0. The relative contribution of precision and recall to the F1 score are equal. The formula for the F1 score is:*\n",
    "    - `F1 = 2 * (precision * recall) / (precision + recall)`"
   ]
  },
  {
   "cell_type": "code",
   "execution_count": 42,
   "metadata": {},
   "outputs": [],
   "source": [
    "def model_gbm(features, labels, test_features, test_ids, \n",
    "              nfolds = 5, return_preds = False, hyp = None):\n",
    "    \"\"\"Model using the GBM and cross validation.\n",
    "       Trains with early stopping on each fold.\n",
    "       Hyperparameters probably need to be tuned.\"\"\"\n",
    "    \n",
    "    feature_names = list(features.columns)\n",
    "    \n",
    "    hyp_OPTaaS = { \n",
    "        'boosting_type': 'dart',\n",
    "        'colsample_bytree': 0.9843467236959204,\n",
    "        'learning_rate': 0.11598629586769524,\n",
    "        'min_child_samples': 44,\n",
    "        'num_leaves': 49,\n",
    "        'reg_alpha': 0.35397370408131534,\n",
    "        'reg_lambda': 0.5904910774606467,\n",
    "        'subsample': 0.6299872254632797,\n",
    "        'subsample_for_bin': 60611\n",
    "    }\n",
    "\n",
    "    model = lgb.LGBMClassifier(**hyp_OPTaaS, class_weight = 'balanced',\n",
    "                               objective = 'multiclass', n_jobs = -1, n_estimators = 10000)\n",
    "    \n",
    "    # Using stratified kfold cross validation\n",
    "    strkfold = StratifiedKFold(n_splits = nfolds, shuffle = True)\n",
    "    predictions = pd.DataFrame()\n",
    "    importances = np.zeros(len(feature_names))\n",
    "    \n",
    "    # Convert to arrays for indexing\n",
    "    features = np.array(features)\n",
    "    test_features = np.array(test_features)\n",
    "    labels = np.array(labels).reshape((-1 ))\n",
    "    \n",
    "    valid_scores = []\n",
    "    \n",
    "    # Iterate through the folds\n",
    "    for i, (train_indices, valid_indices) in enumerate(strkfold.split(features, labels)):\n",
    "        # Dataframe for the predictions of each fold\n",
    "        fold_predictions = pd.DataFrame()\n",
    "        \n",
    "        # Training and validation data\n",
    "        X_train = features[train_indices]\n",
    "        X_valid = features[valid_indices]\n",
    "        y_train = labels[train_indices]\n",
    "        y_valid = labels[valid_indices]\n",
    "        \n",
    "        # Train with early stopping\n",
    "        model.fit(X_train, y_train, early_stopping_rounds = 100, \n",
    "                  eval_metric = macro_f1_score,\n",
    "                  eval_set = [(X_train, y_train), (X_valid, y_valid)],\n",
    "                  eval_names = ['train', 'valid'],\n",
    "                  verbose = 200)\n",
    "        \n",
    "        # Record the validation fold score\n",
    "        valid_scores.append(model.best_score_['valid']['macro_f1'])\n",
    "        \n",
    "        # Make predictions from the fold\n",
    "        fold_probabilitites = model.predict_proba(test_features)\n",
    "        \n",
    "        # Record each prediction for each class as a column\n",
    "        for j in range(4):\n",
    "            fold_predictions[(j + 1)] = fold_probabilitites[:, j]\n",
    "            \n",
    "        fold_predictions['idhogar'] = test_ids\n",
    "        fold_predictions['fold'] = (i+1)\n",
    "        predictions = predictions.append(fold_predictions)\n",
    "        \n",
    "        importances += model.feature_importances_ / nfolds   \n",
    "        \n",
    "        display(f'Fold {i + 1}, Validation Score: {round(valid_scores[i], 5)}, Estimators Trained: {model.best_iteration_}')\n",
    "\n",
    "    feature_importances = pd.DataFrame({'feature': feature_names,\n",
    "                                        'importance': importances})\n",
    "    valid_scores = np.array(valid_scores)\n",
    "    display(f'{nfolds} cross validation score: {round(valid_scores.mean(), 5)} with std: {round(valid_scores.std(), 5)}.')\n",
    "    \n",
    "    # If we want to examine predictions don't average over folds\n",
    "    if return_preds:\n",
    "        predictions['Target'] = predictions[[1, 2, 3, 4]].idxmax(axis = 1)\n",
    "        predictions['confidence'] = predictions[[1, 2, 3, 4]].max(axis = 1)\n",
    "        return predictions, feature_importances\n",
    "    \n",
    "    # Average the predictions over folds\n",
    "    predictions = predictions.groupby('idhogar', as_index = False).mean()\n",
    "    \n",
    "    # Find the class and associated probability\n",
    "    predictions['Target'] = predictions[[1, 2, 3, 4]].idxmax(axis = 1)\n",
    "    predictions['confidence'] = predictions[[1, 2, 3, 4]].max(axis = 1)\n",
    "    predictions = predictions.drop(columns = ['fold'])\n",
    "    \n",
    "    # Merge with the base to have one prediction for each individual\n",
    "    submission = submission_base.merge(predictions[['idhogar', 'Target']], on = 'idhogar', how = 'left').drop(columns = ['idhogar'])\n",
    "        \n",
    "    submission['Target'] = submission['Target'].fillna(4).astype(np.int8)\n",
    "    \n",
    "    # return the submission and feature importances\n",
    "    return submission, feature_importances, valid_scores"
   ]
  },
  {
   "cell_type": "code",
   "execution_count": 43,
   "metadata": {},
   "outputs": [
    {
     "data": {
      "text/plain": [
       "True"
      ]
     },
     "execution_count": 43,
     "metadata": {},
     "output_type": "execute_result"
    }
   ],
   "source": [
    "# We need to make sure the length of the labels matches the length of the training dataset.\n",
    "len(train_labels) == train.shape[0]"
   ]
  },
  {
   "cell_type": "code",
   "execution_count": 44,
   "metadata": {},
   "outputs": [
    {
     "data": {
      "text/plain": [
       "True"
      ]
     },
     "execution_count": 44,
     "metadata": {},
     "output_type": "execute_result"
    }
   ],
   "source": [
    "# Verify that the len of test_ids is the same as the length of the testing dataset\n",
    "len(test_ids) == test.shape[0]"
   ]
  },
  {
   "cell_type": "code",
   "execution_count": 45,
   "metadata": {},
   "outputs": [],
   "source": [
    "# Preventing an issue that occurs with Macs & Gradient Boosting Libraries\n",
    "import os\n",
    "\n",
    "os.environ['KMP_DUPLICATE_LIB_OK']='True'"
   ]
  },
  {
   "cell_type": "code",
   "execution_count": 46,
   "metadata": {},
   "outputs": [
    {
     "data": {
      "text/plain": [
       "'Fold 1, Validation Score: 0.433, Estimators Trained: 47'"
      ]
     },
     "metadata": {},
     "output_type": "display_data"
    },
    {
     "data": {
      "text/plain": [
       "'Fold 2, Validation Score: 0.45327, Estimators Trained: 157'"
      ]
     },
     "metadata": {},
     "output_type": "display_data"
    },
    {
     "data": {
      "text/plain": [
       "'Fold 3, Validation Score: 0.39021, Estimators Trained: 82'"
      ]
     },
     "metadata": {},
     "output_type": "display_data"
    },
    {
     "data": {
      "text/plain": [
       "'Fold 4, Validation Score: 0.39591, Estimators Trained: 61'"
      ]
     },
     "metadata": {},
     "output_type": "display_data"
    },
    {
     "data": {
      "text/plain": [
       "'Fold 5, Validation Score: 0.44124, Estimators Trained: 94'"
      ]
     },
     "metadata": {},
     "output_type": "display_data"
    },
    {
     "data": {
      "text/plain": [
       "'5 cross validation score: 0.42273 with std: 0.02513.'"
      ]
     },
     "metadata": {},
     "output_type": "display_data"
    }
   ],
   "source": [
    "%%capture --no-display\n",
    "submission, feature_importances, valid_scores = model_gbm(train, train_labels, test, test_ids, 5)\n",
    "\n",
    "results = pd.DataFrame({'version': ['default_5fold'], \n",
    "                        'F1-mean': [valid_scores.mean()], \n",
    "                        'F1-std': [valid_scores.std()]})"
   ]
  },
  {
   "cell_type": "markdown",
   "metadata": {},
   "source": [
    "## Feature Importances"
   ]
  },
  {
   "cell_type": "code",
   "execution_count": 47,
   "metadata": {},
   "outputs": [],
   "source": [
    "def plot_feature_importances(df, n = 15, return_features = False, threshold = None):\n",
    "    # Sort features with most important at the head\n",
    "    df = df.sort_values('importance', ascending = False).reset_index(drop = True)\n",
    "    \n",
    "    # Normalize the feature importances to add up to one and calculate cumulative importance\n",
    "    df['importance_normalized'] = df['importance'] / df['importance'].sum()\n",
    "    df['cumulative_importance'] = np.cumsum(df['importance_normalized'])\n",
    "    \n",
    "    plt.rcParams['font.size'] = 12\n",
    "    plt.style.use('fivethirtyeight')\n",
    "    # Bar plot of n most important features\n",
    "    df.loc[:n, :].plot.barh(y = 'importance_normalized', \n",
    "                            x = 'feature', color = 'blue', \n",
    "                            edgecolor = 'k', figsize = (12, 5),\n",
    "                            legend = False, linewidth = 2)\n",
    "\n",
    "    plt.xlabel('Normalized Importance', size = 18); plt.ylabel(''); \n",
    "    plt.title(f'Top {n} Most Important Features', size = 18)\n",
    "    plt.gca().invert_yaxis()\n",
    "    \n",
    "    \n",
    "    if threshold:\n",
    "        # Cumulative importance plot\n",
    "        plt.figure(figsize = (12, 5))\n",
    "        plt.plot(list(range(len(df))), df['cumulative_importance'], 'b-')\n",
    "        plt.xlabel('Number of Features', size = 16); plt.ylabel('Cumulative Importance', size = 16); \n",
    "        plt.title('Cumulative Feature Importance', size = 18);\n",
    "        \n",
    "        # Number of features needed for threshold cumulative importance\n",
    "        # This is the index (will need to add 1 for the actual number)\n",
    "        importance_index = np.min(np.where(df['cumulative_importance'] > threshold))\n",
    "        \n",
    "        # Add vertical line to plot\n",
    "        plt.vlines(importance_index + 1, ymin = 0, ymax = 1.05, linestyles = '--', colors = 'red')\n",
    "        plt.show();\n",
    "        \n",
    "        print('{} features required for {:.0f}% of cumulative importance.'.format(importance_index + 1, \n",
    "                                                                                  100 * threshold))\n",
    "    if return_features:\n",
    "        return df"
   ]
  },
  {
   "cell_type": "code",
   "execution_count": 48,
   "metadata": {},
   "outputs": [
    {
     "data": {
      "image/png": "[encoded data removed]",
      "text/plain": [
       "<Figure size 864x360 with 1 Axes>"
      ]
     },
     "metadata": {},
     "output_type": "display_data"
    }
   ],
   "source": [
    "plot_feature_importances(feature_importances)"
   ]
  },
  {
   "cell_type": "code",
   "execution_count": 49,
   "metadata": {},
   "outputs": [],
   "source": [
    "#submission.to_csv('ft_baseline.csv', index = False)\n"
   ]
  },
  {
   "cell_type": "code",
   "execution_count": 50,
   "metadata": {},
   "outputs": [
    {
     "data": {
      "image/png": "[encoded data removed]",
      "text/plain": [
       "<Figure size 432x288 with 1 Axes>"
      ]
     },
     "metadata": {},
     "output_type": "display_data"
    }
   ],
   "source": [
    "submission['Target'].value_counts().sort_index().plot.bar(color = 'blue');\n",
    "plt.title('Distribution of Predicted Labels for Individuals', size = 10);"
   ]
  },
  {
   "cell_type": "code",
   "execution_count": 51,
   "metadata": {},
   "outputs": [
    {
     "data": {
      "image/png": "[encoded data removed]",
      "text/plain": [
       "<Figure size 432x288 with 1 Axes>"
      ]
     },
     "metadata": {},
     "output_type": "display_data"
    }
   ],
   "source": [
    "data[data['Target'].notnull()]['Target'].value_counts().sort_index().plot.bar(color = 'blue');\n",
    "plt.title('Distribution of Labels for Training Individuals', size = 10);"
   ]
  },
  {
   "cell_type": "markdown",
   "metadata": {},
   "source": [
    "#### Note:\n",
    "- The distribution of the training individuals and the targetted are very similar"
   ]
  },
  {
   "cell_type": "markdown",
   "metadata": {},
   "source": [
    "### Feature Tools: Custom Primitive\n",
    "\n",
    "To expand the capabilities of featuretools, we can write our own primitives to be applied to the data. We'll write a simple function that finds the range of a numeric column.\n",
    "\n",
    "We construcing the dataframe, we include the aggregate and transmitive primitives."
   ]
  },
  {
   "cell_type": "code",
   "execution_count": 52,
   "metadata": {},
   "outputs": [],
   "source": [
    "# Range\n",
    "from featuretools.primitives import make_agg_primitive\n",
    "\n",
    "# Custom primitive\n",
    "def range_calc(numeric):\n",
    "    return np.max(numeric) - np.min(numeric)\n",
    "\n",
    "range_ = make_agg_primitive(function = range_calc,\n",
    "                            input_types = [ft.variable_types.Numeric], \n",
    "                            return_type = ft.variable_types.Numeric)"
   ]
  },
  {
   "cell_type": "code",
   "execution_count": 71,
   "metadata": {},
   "outputs": [],
   "source": [
    "# Correlation Primitive\n",
    "def p_corr_calc(numeric1, numeric2):\n",
    "    return np.corrcoef(numeric1, numeric2)[0, 1]\n",
    "\n",
    "pcorr_ = make_agg_primitive(function = p_corr_calc,\n",
    "                            input_types = [ft.variable_types.Numeric, ft.variable_types.Numeric], \n",
    "                            return_type = ft.variable_types.Numeric)"
   ]
  },
  {
   "cell_type": "markdown",
   "metadata": {},
   "source": [
    "#### Notes:\n",
    "- `entityset`: The entity we created above with the relationship among the table.\n",
    "- `target_entity`: Entity id of entity on which to make predictions -  the household.\n",
    "- `agg_primitives`: Aggregation types that will be implemented.\n",
    "- `trans_primitives`: Transformative types that will be implemented.\n",
    "- `drop_exact`: Drop features that exactly match these strings in name.\n",
    "    - We are dropping the columns from this dataset. We will later add to our current dataset.\n",
    "- `max_depth`: Maximum allowed depth of features. It creates columns from columns the columns it creates.\n",
    "- `verbose`: Should it print out the process.\n",
    "    - Verbosity in keyword arguments usually means showing more 'wordy' information for the task.\n",
    "- `n_jobs`: number of parallel processes to use when calculating feature matrix. \n",
    "    - When the argument is set to -1, it uses all the cores at 100%.\n",
    "- `chunk_size`: Number of rows of output feature matrix to calculate at time. If passed an integer greater than 0, will try to use that many rows per chunk. \n"
   ]
  },
  {
   "cell_type": "code",
   "execution_count": 55,
   "metadata": {},
   "outputs": [],
   "source": [
    "%%capture\n",
    "feature_matrix_add, feature_names_add = ft.dfs(entityset=es, target_entity = 'households', \n",
    "                                               agg_primitives=['min', 'max', 'mean', 'percent_true', 'all', 'any',\n",
    "                                                               'sum', 'skew', 'std', range_],\n",
    "                                               trans_primitives=[], drop_exact=all_features,\n",
    "                                               max_depth=2, verbose=1, n_jobs=-1, chunk_size=100)"
   ]
  },
  {
   "cell_type": "markdown",
   "metadata": {},
   "source": [
    "#### Notes:\n",
    "- `%%capture`\n",
    "    - This simply discards the output, but the %%capture magic can be used to save the output to a variable"
   ]
  },
  {
   "cell_type": "code",
   "execution_count": 56,
   "metadata": {},
   "outputs": [
    {
     "data": {
      "text/plain": [
       "[<Feature: Target>,\n",
       " <Feature: MIN(data.tech)>,\n",
       " <Feature: MEAN(data.tech)>,\n",
       " <Feature: ALL(data.v18q)>,\n",
       " <Feature: ALL(data.dis)>]"
      ]
     },
     "execution_count": 56,
     "metadata": {},
     "output_type": "execute_result"
    }
   ],
   "source": [
    "# First 5 of the Feature names to be added in our dataframe\n",
    "feature_names_add[:5]"
   ]
  },
  {
   "cell_type": "code",
   "execution_count": 57,
   "metadata": {},
   "outputs": [
    {
     "data": {
      "text/html": [
       "<div>\n",
       "<style scoped>\n",
       "    .dataframe tbody tr th:only-of-type {\n",
       "        vertical-align: middle;\n",
       "    }\n",
       "\n",
       "    .dataframe tbody tr th {\n",
       "        vertical-align: top;\n",
       "    }\n",
       "\n",
       "    .dataframe thead th {\n",
       "        text-align: right;\n",
       "    }\n",
       "</style>\n",
       "<table border=\"1\" class=\"dataframe\">\n",
       "  <thead>\n",
       "    <tr style=\"text-align: right;\">\n",
       "      <th></th>\n",
       "      <th>Target</th>\n",
       "      <th>MIN(data.tech)</th>\n",
       "      <th>MEAN(data.tech)</th>\n",
       "      <th>ALL(data.v18q)</th>\n",
       "      <th>ALL(data.dis)</th>\n",
       "      <th>ALL(data.male)</th>\n",
       "      <th>ALL(data.estadocivil1)</th>\n",
       "      <th>ALL(data.estadocivil2)</th>\n",
       "      <th>ALL(data.estadocivil3)</th>\n",
       "      <th>ALL(data.estadocivil4)</th>\n",
       "      <th>...</th>\n",
       "      <th>ANY(data.instlevel8)</th>\n",
       "      <th>ANY(data.instlevel9)</th>\n",
       "      <th>ANY(data.mobilephone)</th>\n",
       "      <th>ANY(data.rez_esc-missing)</th>\n",
       "      <th>RANGE_CALC(data.escolari)</th>\n",
       "      <th>RANGE_CALC(data.rez_esc)</th>\n",
       "      <th>RANGE_CALC(data.age)</th>\n",
       "      <th>RANGE_CALC(data.escolari/age)</th>\n",
       "      <th>RANGE_CALC(data.instl_var/age)</th>\n",
       "      <th>RANGE_CALC(data.tech)</th>\n",
       "    </tr>\n",
       "    <tr>\n",
       "      <th>idhogar</th>\n",
       "      <th></th>\n",
       "      <th></th>\n",
       "      <th></th>\n",
       "      <th></th>\n",
       "      <th></th>\n",
       "      <th></th>\n",
       "      <th></th>\n",
       "      <th></th>\n",
       "      <th></th>\n",
       "      <th></th>\n",
       "      <th></th>\n",
       "      <th></th>\n",
       "      <th></th>\n",
       "      <th></th>\n",
       "      <th></th>\n",
       "      <th></th>\n",
       "      <th></th>\n",
       "      <th></th>\n",
       "      <th></th>\n",
       "      <th></th>\n",
       "      <th></th>\n",
       "    </tr>\n",
       "  </thead>\n",
       "  <tbody>\n",
       "    <tr>\n",
       "      <th>000a08204</th>\n",
       "      <td>NaN</td>\n",
       "      <td>2</td>\n",
       "      <td>2</td>\n",
       "      <td>True</td>\n",
       "      <td>False</td>\n",
       "      <td>False</td>\n",
       "      <td>False</td>\n",
       "      <td>False</td>\n",
       "      <td>False</td>\n",
       "      <td>False</td>\n",
       "      <td>...</td>\n",
       "      <td>True</td>\n",
       "      <td>False</td>\n",
       "      <td>True</td>\n",
       "      <td>False</td>\n",
       "      <td>14</td>\n",
       "      <td>0.0</td>\n",
       "      <td>26</td>\n",
       "      <td>0.500000</td>\n",
       "      <td>0.250000</td>\n",
       "      <td>0</td>\n",
       "    </tr>\n",
       "    <tr>\n",
       "      <th>000bce7c4</th>\n",
       "      <td>NaN</td>\n",
       "      <td>1</td>\n",
       "      <td>1</td>\n",
       "      <td>False</td>\n",
       "      <td>False</td>\n",
       "      <td>False</td>\n",
       "      <td>False</td>\n",
       "      <td>False</td>\n",
       "      <td>True</td>\n",
       "      <td>False</td>\n",
       "      <td>...</td>\n",
       "      <td>False</td>\n",
       "      <td>False</td>\n",
       "      <td>True</td>\n",
       "      <td>False</td>\n",
       "      <td>5</td>\n",
       "      <td>0.0</td>\n",
       "      <td>3</td>\n",
       "      <td>0.083333</td>\n",
       "      <td>0.016667</td>\n",
       "      <td>0</td>\n",
       "    </tr>\n",
       "    <tr>\n",
       "      <th>001845fb0</th>\n",
       "      <td>NaN</td>\n",
       "      <td>1</td>\n",
       "      <td>1</td>\n",
       "      <td>False</td>\n",
       "      <td>False</td>\n",
       "      <td>False</td>\n",
       "      <td>False</td>\n",
       "      <td>False</td>\n",
       "      <td>False</td>\n",
       "      <td>False</td>\n",
       "      <td>...</td>\n",
       "      <td>True</td>\n",
       "      <td>False</td>\n",
       "      <td>True</td>\n",
       "      <td>True</td>\n",
       "      <td>8</td>\n",
       "      <td>0.0</td>\n",
       "      <td>33</td>\n",
       "      <td>0.410931</td>\n",
       "      <td>0.128205</td>\n",
       "      <td>0</td>\n",
       "    </tr>\n",
       "    <tr>\n",
       "      <th>001ff74ca</th>\n",
       "      <td>4.0</td>\n",
       "      <td>2</td>\n",
       "      <td>2</td>\n",
       "      <td>True</td>\n",
       "      <td>False</td>\n",
       "      <td>False</td>\n",
       "      <td>False</td>\n",
       "      <td>False</td>\n",
       "      <td>False</td>\n",
       "      <td>False</td>\n",
       "      <td>...</td>\n",
       "      <td>True</td>\n",
       "      <td>False</td>\n",
       "      <td>True</td>\n",
       "      <td>False</td>\n",
       "      <td>16</td>\n",
       "      <td>0.0</td>\n",
       "      <td>38</td>\n",
       "      <td>0.000000</td>\n",
       "      <td>0.000000</td>\n",
       "      <td>0</td>\n",
       "    </tr>\n",
       "    <tr>\n",
       "      <th>003123ec2</th>\n",
       "      <td>2.0</td>\n",
       "      <td>1</td>\n",
       "      <td>1</td>\n",
       "      <td>False</td>\n",
       "      <td>False</td>\n",
       "      <td>False</td>\n",
       "      <td>False</td>\n",
       "      <td>False</td>\n",
       "      <td>False</td>\n",
       "      <td>False</td>\n",
       "      <td>...</td>\n",
       "      <td>False</td>\n",
       "      <td>False</td>\n",
       "      <td>True</td>\n",
       "      <td>False</td>\n",
       "      <td>7</td>\n",
       "      <td>0.0</td>\n",
       "      <td>23</td>\n",
       "      <td>0.304348</td>\n",
       "      <td>0.130435</td>\n",
       "      <td>0</td>\n",
       "    </tr>\n",
       "  </tbody>\n",
       "</table>\n",
       "<p>5 rows × 75 columns</p>\n",
       "</div>"
      ],
      "text/plain": [
       "           Target  MIN(data.tech)  MEAN(data.tech)  ALL(data.v18q)  \\\n",
       "idhogar                                                              \n",
       "000a08204     NaN               2                2            True   \n",
       "000bce7c4     NaN               1                1           False   \n",
       "001845fb0     NaN               1                1           False   \n",
       "001ff74ca     4.0               2                2            True   \n",
       "003123ec2     2.0               1                1           False   \n",
       "\n",
       "           ALL(data.dis)  ALL(data.male)  ALL(data.estadocivil1)  \\\n",
       "idhogar                                                            \n",
       "000a08204          False           False                   False   \n",
       "000bce7c4          False           False                   False   \n",
       "001845fb0          False           False                   False   \n",
       "001ff74ca          False           False                   False   \n",
       "003123ec2          False           False                   False   \n",
       "\n",
       "           ALL(data.estadocivil2)  ALL(data.estadocivil3)  \\\n",
       "idhogar                                                     \n",
       "000a08204                   False                   False   \n",
       "000bce7c4                   False                    True   \n",
       "001845fb0                   False                   False   \n",
       "001ff74ca                   False                   False   \n",
       "003123ec2                   False                   False   \n",
       "\n",
       "           ALL(data.estadocivil4)          ...            \\\n",
       "idhogar                                    ...             \n",
       "000a08204                   False          ...             \n",
       "000bce7c4                   False          ...             \n",
       "001845fb0                   False          ...             \n",
       "001ff74ca                   False          ...             \n",
       "003123ec2                   False          ...             \n",
       "\n",
       "           ANY(data.instlevel8)  ANY(data.instlevel9)  ANY(data.mobilephone)  \\\n",
       "idhogar                                                                        \n",
       "000a08204                  True                 False                   True   \n",
       "000bce7c4                 False                 False                   True   \n",
       "001845fb0                  True                 False                   True   \n",
       "001ff74ca                  True                 False                   True   \n",
       "003123ec2                 False                 False                   True   \n",
       "\n",
       "           ANY(data.rez_esc-missing)  RANGE_CALC(data.escolari)  \\\n",
       "idhogar                                                           \n",
       "000a08204                      False                         14   \n",
       "000bce7c4                      False                          5   \n",
       "001845fb0                       True                          8   \n",
       "001ff74ca                      False                         16   \n",
       "003123ec2                      False                          7   \n",
       "\n",
       "           RANGE_CALC(data.rez_esc)  RANGE_CALC(data.age)  \\\n",
       "idhogar                                                     \n",
       "000a08204                       0.0                    26   \n",
       "000bce7c4                       0.0                     3   \n",
       "001845fb0                       0.0                    33   \n",
       "001ff74ca                       0.0                    38   \n",
       "003123ec2                       0.0                    23   \n",
       "\n",
       "           RANGE_CALC(data.escolari/age)  RANGE_CALC(data.instl_var/age)  \\\n",
       "idhogar                                                                    \n",
       "000a08204                       0.500000                        0.250000   \n",
       "000bce7c4                       0.083333                        0.016667   \n",
       "001845fb0                       0.410931                        0.128205   \n",
       "001ff74ca                       0.000000                        0.000000   \n",
       "003123ec2                       0.304348                        0.130435   \n",
       "\n",
       "           RANGE_CALC(data.tech)  \n",
       "idhogar                           \n",
       "000a08204                      0  \n",
       "000bce7c4                      0  \n",
       "001845fb0                      0  \n",
       "001ff74ca                      0  \n",
       "003123ec2                      0  \n",
       "\n",
       "[5 rows x 75 columns]"
      ]
     },
     "execution_count": 57,
     "metadata": {},
     "output_type": "execute_result"
    }
   ],
   "source": [
    "# Dataframe that will be added to our data\n",
    "feature_matrix_add.head(5)"
   ]
  },
  {
   "cell_type": "code",
   "execution_count": 58,
   "metadata": {},
   "outputs": [
    {
     "data": {
      "text/plain": [
       "(10340, 245)"
      ]
     },
     "execution_count": 58,
     "metadata": {},
     "output_type": "execute_result"
    }
   ],
   "source": [
    "# Adding the features that were created from the feature tools process to our all features list\n",
    "all_features += [str(x.get_name()) for x in feature_names_add]\n",
    "\n",
    "# Adding the df that were created from the feature tools process to our feature_matrix\n",
    "feature_matrix = pd.concat([feature_matrix, feature_matrix_add], axis = 1)\n",
    "feature_matrix.shape"
   ]
  },
  {
   "cell_type": "markdown",
   "metadata": {},
   "source": [
    "## Post Processing Function\n",
    "\n",
    "There are a number of steps after generating the feature matrix so let's put all of these in a function.\n",
    "- Remove any duplicated columns.\n",
    "- Replace infinite values with np.nan\n",
    "- Remove columns with a missing percentage above the missing_threshold\n",
    "- Remove columns with only a single unique value.\n",
    "- Remove one out of every pair of columns with a correlation threshold above the correlation_threshold\n",
    "- Extract the training and testing data along with labels and ids (needed for making submissions)"
   ]
  },
  {
   "cell_type": "code",
   "execution_count": 59,
   "metadata": {},
   "outputs": [],
   "source": [
    "def post_process(feature_matrix,\n",
    "                 missing_threshold = 0.95, \n",
    "                 correlation_threshold = 0.95):\n",
    "    \n",
    "    # Remove duplicated features\n",
    "    start_features = feature_matrix.shape[1]\n",
    "    feature_matrix = feature_matrix.iloc[:, ~feature_matrix.columns.duplicated()]\n",
    "    n_duplicated = start_features - feature_matrix.shape[1]\n",
    "    print(f'There were {n_duplicated} duplicated features.')\n",
    "    \n",
    "    feature_matrix = feature_matrix.replace({np.inf: np.nan, -np.inf:np.nan}).reset_index()\n",
    "    \n",
    "    # Remove the ids and labels\n",
    "    ids = list(feature_matrix.pop('idhogar'))\n",
    "    labels = list(feature_matrix.pop('Target'))\n",
    "    \n",
    "    # Remove columns derived from the Target\n",
    "    drop_cols = []\n",
    "    for col in feature_matrix:\n",
    "        if col == 'Target':\n",
    "            pass\n",
    "        else:\n",
    "            if 'Target' in col:\n",
    "                drop_cols.append(col)\n",
    "                \n",
    "    feature_matrix = feature_matrix[[x for x in feature_matrix if x not in drop_cols]] \n",
    "    \n",
    "    # One hot encoding (if necessary)\n",
    "    feature_matrix = pd.get_dummies(feature_matrix)\n",
    "    n_features_start = feature_matrix.shape[1]\n",
    "    print('Original shape: ', feature_matrix.shape)\n",
    "    \n",
    "    # Find missing and percentage\n",
    "    missing = pd.DataFrame(feature_matrix.isnull().sum())\n",
    "    missing['fraction'] = missing[0] / feature_matrix.shape[0]\n",
    "    missing.sort_values('fraction', ascending = False, inplace = True)\n",
    "\n",
    "    # Missing above threshold\n",
    "    missing_cols = list(missing[missing['fraction'] > missing_threshold].index)\n",
    "    n_missing_cols = len(missing_cols)\n",
    "\n",
    "    # Remove missing columns\n",
    "    feature_matrix = feature_matrix[[x for x in feature_matrix if x not in missing_cols]]\n",
    "    print('{} missing columns with threshold: {}.'.format(n_missing_cols, missing_threshold))\n",
    "    \n",
    "    # Zero variance\n",
    "    unique_counts = pd.DataFrame(feature_matrix.nunique()).sort_values(0, ascending = True)\n",
    "    zero_variance_cols = list(unique_counts[unique_counts[0] == 1].index)\n",
    "    n_zero_variance_cols = len(zero_variance_cols)\n",
    "\n",
    "    # Remove zero variance columns\n",
    "    feature_matrix = feature_matrix[[x for x in feature_matrix if x not in zero_variance_cols]]\n",
    "    print('{} zero variance columns.'.format(n_zero_variance_cols))\n",
    "    \n",
    "    # Correlations\n",
    "    corr_matrix = feature_matrix.corr()\n",
    "\n",
    "    # Extract the upper triangle of the correlation matrix\n",
    "    upper = corr_matrix.where(np.triu(np.ones(corr_matrix.shape), k = 1).astype(np.bool))\n",
    "\n",
    "    # Select the features with correlations above the threshold\n",
    "    # Need to use the absolute value\n",
    "    to_drop = [column for column in upper.columns if any(upper[column].abs() > correlation_threshold)]\n",
    "\n",
    "    n_collinear = len(to_drop)\n",
    "    \n",
    "    feature_matrix = feature_matrix[[x for x in feature_matrix if x not in to_drop]]\n",
    "    print('{} collinear columns removed with correlation above {}.'.format(n_collinear,  correlation_threshold))\n",
    "    \n",
    "    total_removed = n_duplicated, n_missing_cols + n_zero_variance_cols + n_collinear\n",
    "    \n",
    "    print('Total columns removed: ', total_removed)\n",
    "    print('Shape after feature selection: {}.'.format(feature_matrix.shape))\n",
    "    \n",
    "    # Extract the ids and labels\n",
    "    feature_matrix['idhogar'] = ids\n",
    "    feature_matrix['Target'] = labels\n",
    "    \n",
    "    # Extract out training and testing data\n",
    "    train = feature_matrix[feature_matrix['Target'].notnull()]\n",
    "    test = feature_matrix[feature_matrix['Target'].isnull()]\n",
    "    \n",
    "    # Subset to houses with a head of household\n",
    "    train = train[train['idhogar'].isin(list(train_valid['idhogar']))]\n",
    "    test = test[test['idhogar'].isin(list(test_valid['idhogar']))]\n",
    "    \n",
    "    # Training labels and testing household ids\n",
    "    train_labels = np.array(train.pop('Target')).reshape((-1,))\n",
    "    test_ids = list(test.pop('idhogar'))\n",
    "    \n",
    "    # Align the dataframes to ensure they have the same columns\n",
    "    train, test = train.align(test, join = 'inner', axis = 1)\n",
    "    \n",
    "    assert(len(train_labels) == train.shape[0]), \"Labels must be same length as number of training observations\"\n",
    "    assert(len(test_ids) == test.shape[0]), \"Must be equal number of test ids as testing observations\"\n",
    "    \n",
    "    return train, train_labels, test, test_ids"
   ]
  },
  {
   "cell_type": "code",
   "execution_count": 60,
   "metadata": {},
   "outputs": [
    {
     "name": "stdout",
     "output_type": "stream",
     "text": [
      "There were 1 duplicated features.\n",
      "Original shape:  (10340, 243)\n",
      "0 missing columns with threshold: 0.95.\n",
      "11 zero variance columns.\n",
      "14 collinear columns removed with correlation above 0.95.\n",
      "Total columns removed:  (1, 25)\n",
      "Shape after feature selection: (10340, 218).\n"
     ]
    }
   ],
   "source": [
    "train, train_labels, test, test_ids = post_process(feature_matrix)"
   ]
  },
  {
   "cell_type": "markdown",
   "metadata": {},
   "source": [
    "## Model: Post Feature Processing"
   ]
  },
  {
   "cell_type": "code",
   "execution_count": 61,
   "metadata": {},
   "outputs": [
    {
     "data": {
      "text/plain": [
       "'Fold 1, Validation Score: 0.42849, Estimators Trained: 180'"
      ]
     },
     "metadata": {},
     "output_type": "display_data"
    },
    {
     "data": {
      "text/plain": [
       "'Fold 2, Validation Score: 0.42569, Estimators Trained: 22'"
      ]
     },
     "metadata": {},
     "output_type": "display_data"
    },
    {
     "data": {
      "text/plain": [
       "'Fold 3, Validation Score: 0.40739, Estimators Trained: 11'"
      ]
     },
     "metadata": {},
     "output_type": "display_data"
    },
    {
     "data": {
      "text/plain": [
       "'Fold 4, Validation Score: 0.40639, Estimators Trained: 16'"
      ]
     },
     "metadata": {},
     "output_type": "display_data"
    },
    {
     "data": {
      "text/plain": [
       "'Fold 5, Validation Score: 0.39958, Estimators Trained: 7'"
      ]
     },
     "metadata": {},
     "output_type": "display_data"
    },
    {
     "data": {
      "text/plain": [
       "'5 cross validation score: 0.41351 with std: 0.01144.'"
      ]
     },
     "metadata": {},
     "output_type": "display_data"
    }
   ],
   "source": [
    "%%capture --no-display\n",
    "\n",
    "submission, feature_importances, valid_scores = model_gbm(train, train_labels, test, test_ids, 5)\n",
    "results = results.append(pd.DataFrame({'version': ['additional_5fold'], \n",
    "                                       'F1-mean': [valid_scores.mean()], \n",
    "                                       'F1-std': [valid_scores.std()]}))"
   ]
  },
  {
   "cell_type": "markdown",
   "metadata": {},
   "source": [
    "#### Notes:\n",
    "- Performance prior to the new features was \"5 cross validation score: 0.42273 with std: 0.02513.\" Hence, performance worsen when we included more features."
   ]
  },
  {
   "cell_type": "code",
   "execution_count": 63,
   "metadata": {},
   "outputs": [
    {
     "data": {
      "image/png": "[encoded data removed]",
      "text/plain": [
       "<matplotlib.figure.Figure at 0xa287228d0>"
      ]
     },
     "metadata": {},
     "output_type": "display_data"
    }
   ],
   "source": [
    "plot_feature_importances(feature_importances)"
   ]
  },
  {
   "cell_type": "markdown",
   "metadata": {},
   "source": [
    "###  Increase `max_features`\n",
    "- `drop_contains`: Drop features that contains these strings in name."
   ]
  },
  {
   "cell_type": "code",
   "execution_count": 65,
   "metadata": {},
   "outputs": [],
   "source": [
    "%%capture\n",
    "feature_matrix_add, feature_names_add = ft.dfs(entityset=es, target_entity = 'households', \n",
    "                                               agg_primitives=['min', 'max', 'mean', 'percent_true', 'all', 'any',\n",
    "                                                               'sum', 'skew', 'std', range_, pcorr_],\n",
    "                                               trans_primitives=[], drop_contains=list(all_features),\n",
    "                                               max_depth= 2, max_features=1000, verbose=1, \n",
    "                                               n_jobs=-1, chunk_size=100)"
   ]
  },
  {
   "cell_type": "code",
   "execution_count": 93,
   "metadata": {},
   "outputs": [
    {
     "name": "stdout",
     "output_type": "stream",
     "text": [
      "There were 1 duplicated features.\n",
      "Original shape:  (10340, 273)\n",
      "10 missing columns with threshold: 0.95.\n",
      "11 zero variance columns.\n",
      "24 collinear columns removed with correlation above 0.95.\n",
      "Total columns removed:  (1, 45)\n",
      "Shape after feature selection: (10340, 228).\n"
     ]
    },
    {
     "data": {
      "text/plain": [
       "(2973, 228)"
      ]
     },
     "execution_count": 93,
     "metadata": {},
     "output_type": "execute_result"
    }
   ],
   "source": [
    "# Add additional names to our all_features list\n",
    "all_features += [str(x.get_name()) for x in feature_names_add]\n",
    "\n",
    "# Concat the feature tools dataframe with our feature_matrix datraframe\n",
    "feature_matrix = pd.concat([feature_matrix, feature_matrix_add], axis = 1)\n",
    "\n",
    "# Updating our dataset to remove any duplicates, null columns, no variance, or collinearity columns\n",
    "train, train_labels, test, test_ids = post_process(feature_matrix)\n",
    "train.shape"
   ]
  },
  {
   "cell_type": "code",
   "execution_count": 94,
   "metadata": {},
   "outputs": [
    {
     "name": "stdout",
     "output_type": "stream",
     "text": [
      "Original training shape (2973, 228)\n",
      "Training shape after removing zero importance features (2973, 141)\n"
     ]
    }
   ],
   "source": [
    "print('Original training shape', train.shape)\n",
    "train = train[list(feature_importances.loc[feature_importances['importance'] != 0, 'feature'])]\n",
    "test = test[train.columns]\n",
    "\n",
    "print('Training shape after removing zero importance features', train.shape)"
   ]
  },
  {
   "cell_type": "markdown",
   "metadata": {},
   "source": [
    "### Add in `Divide` Primitive\n",
    "- Next we'll add a divide transform primitive into the deep feature synthesis call. At first we'll limit the features to 1000."
   ]
  },
  {
   "cell_type": "code",
   "execution_count": 96,
   "metadata": {},
   "outputs": [],
   "source": [
    "%%capture\n",
    "feature_matrix_add, feature_names_add = ft.dfs(entityset=es, target_entity = 'households', \n",
    "                                       agg_primitives = ['min', 'max', 'mean', 'percent_true', 'all', 'any',\n",
    "                                                         'sum', 'skew', 'std', range_, pcorr_],\n",
    "                                       trans_primitives = ['divide_numeric'], drop_contains = list(all_features),\n",
    "                                       max_depth = 2, max_features = 1000,\n",
    "                                       verbose = 1, n_jobs = -1, \n",
    "                                       chunk_size = 1000)"
   ]
  },
  {
   "cell_type": "code",
   "execution_count": 97,
   "metadata": {},
   "outputs": [
    {
     "name": "stdout",
     "output_type": "stream",
     "text": [
      "There were 1 duplicated features.\n",
      "Original shape:  (10340, 1273)\n",
      "437 missing columns with threshold: 0.95.\n",
      "11 zero variance columns.\n",
      "446 collinear columns removed with correlation above 0.95.\n",
      "Total columns removed:  (1, 894)\n",
      "Shape after feature selection: (10340, 379).\n"
     ]
    },
    {
     "data": {
      "text/plain": [
       "(2973, 379)"
      ]
     },
     "execution_count": 97,
     "metadata": {},
     "output_type": "execute_result"
    }
   ],
   "source": [
    "all_features += [str(x.get_name()) for x in feature_names_add]\n",
    "feature_matrix = pd.concat([feature_matrix, feature_matrix_add], axis = 1)\n",
    "train, train_labels, test, test_ids = post_process(feature_matrix)\n",
    "train.shape"
   ]
  },
  {
   "cell_type": "code",
   "execution_count": 98,
   "metadata": {},
   "outputs": [
    {
     "data": {
      "text/plain": [
       "'Fold 1, Validation Score: 0.43425, Estimators Trained: 99'"
      ]
     },
     "metadata": {},
     "output_type": "display_data"
    },
    {
     "data": {
      "text/plain": [
       "'Fold 2, Validation Score: 0.43282, Estimators Trained: 24'"
      ]
     },
     "metadata": {},
     "output_type": "display_data"
    },
    {
     "data": {
      "text/plain": [
       "'Fold 3, Validation Score: 0.38534, Estimators Trained: 23'"
      ]
     },
     "metadata": {},
     "output_type": "display_data"
    },
    {
     "data": {
      "text/plain": [
       "'Fold 4, Validation Score: 0.42623, Estimators Trained: 4'"
      ]
     },
     "metadata": {},
     "output_type": "display_data"
    },
    {
     "data": {
      "text/plain": [
       "'Fold 5, Validation Score: 0.40903, Estimators Trained: 15'"
      ]
     },
     "metadata": {},
     "output_type": "display_data"
    },
    {
     "data": {
      "text/plain": [
       "'5 cross validation score: 0.41754 with std: 0.01842.'"
      ]
     },
     "metadata": {},
     "output_type": "display_data"
    }
   ],
   "source": [
    "%%capture --no-display\n",
    "\n",
    "submission, feature_importances, valid_scores = model_gbm(train, train_labels, test, test_ids, 5)\n",
    "results = results.append(pd.DataFrame({'version': ['divide1000_5fold'], \n",
    "                                       'F1-mean': [valid_scores.mean()], \n",
    "                                       'F1-std': [valid_scores.std()]}))\n",
    "#submission.to_csv('divide1000_featuretools.csv', index = False)"
   ]
  },
  {
   "cell_type": "markdown",
   "metadata": {},
   "source": [
    "#### Notes:\n",
    "- Performance prior to the new features was \"5 cross validation score: 0.42273 with std: 0.02513.\" Hence, performance worsen (0.41754) when we included more features."
   ]
  },
  {
   "cell_type": "code",
   "execution_count": 100,
   "metadata": {},
   "outputs": [
    {
     "data": {
      "image/png": "[encoded data removed]",
      "text/plain": [
       "<Figure size 864x360 with 1 Axes>"
      ]
     },
     "metadata": {},
     "output_type": "display_data"
    }
   ],
   "source": [
    "plot_feature_importances(feature_importances)\n"
   ]
  },
  {
   "cell_type": "markdown",
   "metadata": {},
   "source": [
    "### `Divide` Primitive\n",
    "- Increase the max_features to 1500"
   ]
  },
  {
   "cell_type": "code",
   "execution_count": null,
   "metadata": {},
   "outputs": [],
   "source": [
    "feature_matrix_add, feature_names_add = ft.dfs(entityset=es, target_entity = 'households', \n",
    "                                               agg_primitives = ['min', 'max', 'mean', 'percent_true', 'all', 'any',\n",
    "                                                                 'sum', 'skew', 'std', range_, pcorr_],\n",
    "                                               trans_primitives = ['divide_numeric'], drop_contains = list(all_features),\n",
    "                                               max_depth = 2, max_features = 1500,\n",
    "                                               verbose = 1, n_jobs = -1, \n",
    "                                               chunk_size = 1000)"
   ]
  },
  {
   "cell_type": "code",
   "execution_count": null,
   "metadata": {},
   "outputs": [],
   "source": [
    "all_features += [str(x.get_name()) for x in feature_names_add]\n",
    "feature_matrix = pd.concat([feature_matrix, feature_matrix_add], axis = 1)\n",
    "train, train_labels, test, test_ids = post_process(feature_matrix)\n",
    "train.shape\n"
   ]
  },
  {
   "cell_type": "code",
   "execution_count": null,
   "metadata": {},
   "outputs": [],
   "source": [
    "%%capture --no-display\n",
    "\n",
    "submission, feature_importances, valid_scores = model_gbm(train, train_labels, test, test_ids, 5)\n",
    "results = results.append(pd.DataFrame({'version': ['divide1500_5fold'], \n",
    "                                       'F1-mean': [valid_scores.mean()], \n",
    "                                       'F1-std': [valid_scores.std()]}))\n",
    "submission.to_csv('divide1500_featuretools.csv', index = False)"
   ]
  },
  {
   "cell_type": "code",
   "execution_count": null,
   "metadata": {},
   "outputs": [],
   "source": [
    "plot_feature_importances(feature_importances)\n"
   ]
  },
  {
   "cell_type": "code",
   "execution_count": null,
   "metadata": {},
   "outputs": [],
   "source": [
    "%%capture\n",
    "feature_matrix_add, feature_names_add = ft.dfs(entityset=es, target_entity = 'household', \n",
    "                                       agg_primitives = ['min', 'max', 'mean', 'percent_true', 'all', 'any',\n",
    "                                                         'sum', 'skew', 'std', range_, pcorr_],\n",
    "                                       trans_primitives = ['divide'], drop_exact = list(all_features),\n",
    "                                       max_depth = 2, max_features = 2000,\n",
    "                                       verbose = 1, n_jobs = -1, \n",
    "                                       chunk_size = 100)"
   ]
  },
  {
   "cell_type": "code",
   "execution_count": null,
   "metadata": {},
   "outputs": [],
   "source": [
    "all_features += [str(x.get_name()) for x in feature_names_add]\n",
    "feature_matrix = pd.concat([feature_matrix, feature_matrix_add], axis = 1)\n",
    "train, train_labels, test, test_ids = post_process(feature_matrix)\n",
    "train.shape"
   ]
  },
  {
   "cell_type": "code",
   "execution_count": null,
   "metadata": {},
   "outputs": [],
   "source": [
    "print('Total number of features considered: ', len(all_features))\n"
   ]
  },
  {
   "cell_type": "code",
   "execution_count": null,
   "metadata": {},
   "outputs": [],
   "source": [
    "%%capture --no-display\n",
    "\n",
    "submission, feature_importances, valid_scores = model_gbm(train, train_labels, test, test_ids, 5)\n",
    "results = results.append(pd.DataFrame({'version': ['divide2000_5fold'], \n",
    "                                       'F1-mean': [valid_scores.mean()], \n",
    "                                       'F1-std': [valid_scores.std()]}))\n",
    "submission.to_csv('divide2000_featuretools.csv', index = False)"
   ]
  },
  {
   "cell_type": "code",
   "execution_count": null,
   "metadata": {},
   "outputs": [],
   "source": [
    "plot_feature_importances(feature_importances)\n"
   ]
  },
  {
   "cell_type": "markdown",
   "metadata": {},
   "source": [
    "Notes:\n",
    "- Try Modeling with more folds\n",
    "- As a final model, we'll increase the number of folds to 10 and see if this results in more stable predictions across folds. It's concerning that there is so much variation between folds, but that is going to happen with a small, imbalanced testing set.\n",
    "\n"
   ]
  },
  {
   "cell_type": "code",
   "execution_count": null,
   "metadata": {},
   "outputs": [],
   "source": [
    "%%capture --no-display\n",
    "submission, feature_importances, valid_scores = model_gbm(train, train_labels, test, test_ids, 10)\n",
    "results = results.append(pd.DataFrame({'version': ['divide2000_10fold'], \n",
    "                                       'F1-mean': [valid_scores.mean()], \n",
    "                                       'F1-std': [valid_scores.std()]}))\n",
    "submission.to_csv('divide2000_10fold_featuretools.csv', index = False)"
   ]
  },
  {
   "cell_type": "code",
   "execution_count": null,
   "metadata": {},
   "outputs": [],
   "source": [
    "%%capture\n",
    "feature_matrix_add, feature_names_add = ft.dfs(entityset=es, target_entity = 'household', \n",
    "                                       agg_primitives = ['min', 'max', 'mean', 'percent_true', 'all', 'any',\n",
    "                                                         'sum', 'skew', 'std', range_, pcorr_],\n",
    "                                       trans_primitives = ['divide'], drop_contains = list(all_features),\n",
    "                                       max_depth = 2, max_features = 5000,\n",
    "                                       verbose = 1, n_jobs = -1, \n",
    "                                       chunk_size = 100)"
   ]
  },
  {
   "cell_type": "code",
   "execution_count": null,
   "metadata": {},
   "outputs": [],
   "source": [
    "all_features += [str(x.get_name()) for x in feature_names_add]\n",
    "feature_matrix = pd.concat([feature_matrix, feature_matrix_add], axis = 1)\n",
    "train, train_labels, test, test_ids = post_process(feature_matrix)\n",
    "train.shape"
   ]
  },
  {
   "cell_type": "code",
   "execution_count": null,
   "metadata": {},
   "outputs": [],
   "source": [
    "%%capture --no-display\n",
    "submission, feature_importances, valid_scores = model_gbm(train, train_labels, test, test_ids, 5)\n",
    "results = results.append(pd.DataFrame({'version': ['divide5000_5fold'], 'F1-mean': [valid_scores.mean()], 'F1-std': [valid_scores.std()]}))\n",
    "submission.to_csv('divide5000_featuretools.csv', index = False)"
   ]
  },
  {
   "cell_type": "code",
   "execution_count": null,
   "metadata": {},
   "outputs": [],
   "source": [
    "%%capture --no-display\n",
    "submission, feature_importances, valid_scores = model_gbm(train, train_labels, test, test_ids, 10)\n",
    "results = results.append(pd.DataFrame({'version': ['divide5000_10fold'], \n",
    "                                       'F1-mean': [valid_scores.mean()], \n",
    "                                       'F1-std': [valid_scores.std()]}))\n",
    "submission.to_csv('divide5000_10fold_featuretools.csv', index = False)"
   ]
  },
  {
   "cell_type": "code",
   "execution_count": null,
   "metadata": {},
   "outputs": [],
   "source": [
    "print('Total number of features considered: ', len(all_features))"
   ]
  }
 ],
 "metadata": {
  "kernelspec": {
   "display_name": "Python 3",
   "language": "python",
   "name": "python3"
  },
  "language_info": {
   "codemirror_mode": {
    "name": "ipython",
    "version": 3
   },
   "file_extension": ".py",
   "mimetype": "text/x-python",
   "name": "python",
   "nbconvert_exporter": "python",
   "pygments_lexer": "ipython3",
   "version": "3.6.8"
  }
 },
 "nbformat": 4,
 "nbformat_minor": 2
}
